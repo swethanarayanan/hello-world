{
  "nbformat": 4,
  "nbformat_minor": 0,
  "metadata": {
    "colab": {
      "name": "Hello Python.ipynb",
      "version": "0.3.2",
      "provenance": [],
      "collapsed_sections": [],
      "toc_visible": true,
      "include_colab_link": true
    },
    "kernelspec": {
      "name": "python3",
      "display_name": "Python 3"
    }
  },
  "cells": [
    {
      "cell_type": "markdown",
      "metadata": {
        "id": "view-in-github",
        "colab_type": "text"
      },
      "source": [
        "<a href=\"https://colab.research.google.com/github/swethanarayanan/hello-world/blob/master/Hello_Python.ipynb\" target=\"_parent\"><img src=\"https://colab.research.google.com/assets/colab-badge.svg\" alt=\"Open In Colab\"/></a>"
      ]
    },
    {
      "cell_type": "markdown",
      "metadata": {
        "id": "jX9Kekw3dx0t",
        "colab_type": "text"
      },
      "source": [
        "### Acknowledgements\n",
        "\n",
        "This learning python notebook was created with the help of following textbooks\n",
        "\n",
        "1.   Effective Python\n",
        "\n"
      ]
    },
    {
      "cell_type": "markdown",
      "metadata": {
        "id": "gPGw1gk-sTyo",
        "colab_type": "text"
      },
      "source": [
        "### High level summary of best practices\n",
        "\n",
        "\n",
        "\n",
        "1.   Always add doc string for functions\n",
        "\n"
      ]
    },
    {
      "cell_type": "markdown",
      "metadata": {
        "id": "3LQKrSgRmkQH",
        "colab_type": "text"
      },
      "source": [
        "### Main Data structures\n",
        "\n",
        "1.   List  [1,2,3] | Mutable\n",
        "\n",
        "*   List can be used as a stack as well as a queue - x.pop() - stack. x.pop(0) is queue\n",
        "*   You can insert or remove items from the end of a list in O(1) - constant time. But inserting or removing items from the head of a list takes linear time - O(n)\n",
        "*   Ideal for LIFO queues\n",
        "\n",
        "2.   Integer, Float, Decimal\n",
        "\n",
        "3.   Tuple (1,2,3) | Immutable\n",
        "\n",
        "4.  Dictionary - Key value pair, or hashmap or slang structure\n",
        "\n",
        "*   Dictionaries have a method called items that returns a sequence of tuples, where each tuple is a key-value pair\n",
        "\n",
        "5.  String\n",
        "\n",
        "6.  Pandas Dataframe \n",
        "\n",
        "7.  Matrix\n",
        "\n",
        "8.  Deque - double ended queue\n",
        "\n",
        "*   The deque class from the collections module is a double-ended queue. It provides constant time operations for inserting or removing items from its beginning or end. This makes it ideal for first-in-first-out (FIFO) queues.\n",
        "\n",
        "\n",
        "\n"
      ]
    },
    {
      "cell_type": "markdown",
      "metadata": {
        "id": "r5OElRzrpkWP",
        "colab_type": "text"
      },
      "source": [
        "In Python 3, there are two types that represent sequences of characters: bytes and str. Instances of bytes contain raw 8-bit values. Instances of str contain Unicode characters."
      ]
    },
    {
      "cell_type": "markdown",
      "metadata": {
        "id": "TEoVkijcsZVS",
        "colab_type": "text"
      },
      "source": [
        "### Python cool stuff\n",
        "\n",
        "\n",
        "\n",
        "1.  List comprehensions\n",
        "\n",
        "2.  Map reduce\n",
        "\n",
        "List comprehensions are easier to read than map\n"
      ]
    },
    {
      "cell_type": "markdown",
      "metadata": {
        "id": "HNRFr9jwao-f",
        "colab_type": "text"
      },
      "source": [
        "### Python syntax nuances\n",
        "\n",
        "1) 2 ** 2 (square)\n",
        "\n",
        "2) 2 ^ 2 - bitwise XOR\n",
        "\n",
        "3) repr vs str\n",
        "\n",
        "str() is used for creating output for end user while repr() is mainly used for debugging and development. repr’s goal is to be unambiguous and str’s is to be readable. For example, if we suspect a float has a small rounding error, repr will show us while str may not.\n",
        "\n",
        "4) Private attributes aren’t rigorously enforced by the Python compiler."
      ]
    },
    {
      "cell_type": "markdown",
      "metadata": {
        "id": "BklZzC5OsRHs",
        "colab_type": "text"
      },
      "source": [
        "### Other Useful stuff"
      ]
    },
    {
      "cell_type": "code",
      "metadata": {
        "id": "PIIASee7grkZ",
        "colab_type": "code",
        "outputId": "8bf52093-4158-4334-c435-4347a2d8ccc6",
        "colab": {
          "base_uri": "https://localhost:8080/",
          "height": 51
        }
      },
      "source": [
        "import sys\n",
        "print('Python: {}'.format(sys.version))"
      ],
      "execution_count": 0,
      "outputs": [
        {
          "output_type": "stream",
          "text": [
            "Python: 3.6.8 (default, Jan 14 2019, 11:02:34) \n",
            "[GCC 8.0.1 20180414 (experimental) [trunk revision 259383]]\n"
          ],
          "name": "stdout"
        }
      ]
    },
    {
      "cell_type": "markdown",
      "metadata": {
        "id": "T39obaGxneXG",
        "colab_type": "text"
      },
      "source": [
        "### List"
      ]
    },
    {
      "cell_type": "markdown",
      "metadata": {
        "id": "RslB0anbXS2v",
        "colab_type": "text"
      },
      "source": [
        "You can append two lists in python with a +"
      ]
    },
    {
      "cell_type": "code",
      "metadata": {
        "id": "ePojp8x6XXdQ",
        "colab_type": "code",
        "outputId": "40c67dd8-d6cb-4b31-c3f4-ddd963cae430",
        "colab": {
          "base_uri": "https://localhost:8080/",
          "height": 34
        }
      },
      "source": [
        "[1] + [2,3]"
      ],
      "execution_count": 0,
      "outputs": [
        {
          "output_type": "execute_result",
          "data": {
            "text/plain": [
              "[1, 2, 3]"
            ]
          },
          "metadata": {
            "tags": []
          },
          "execution_count": 1
        }
      ]
    },
    {
      "cell_type": "code",
      "metadata": {
        "id": "AoMtuAJ4XX7D",
        "colab_type": "code",
        "outputId": "0b99eff9-6e87-417e-c389-2e174010cb53",
        "colab": {
          "base_uri": "https://localhost:8080/",
          "height": 85
        }
      },
      "source": [
        "numbers = [1,2,3]\n",
        "for i in range(len(numbers)):\n",
        "    print(i)\n",
        "    numbers[i] = numbers[i] * 2\n",
        "print(numbers)"
      ],
      "execution_count": 0,
      "outputs": [
        {
          "output_type": "stream",
          "text": [
            "0\n",
            "1\n",
            "2\n",
            "[2, 4, 6]\n"
          ],
          "name": "stdout"
        }
      ]
    },
    {
      "cell_type": "code",
      "metadata": {
        "id": "VIWQKohaYlXw",
        "colab_type": "code",
        "outputId": "1c170e23-c9de-49ba-c2bf-a654c0725edb",
        "colab": {
          "base_uri": "https://localhost:8080/",
          "height": 34
        }
      },
      "source": [
        "result_list = [0] * 5\n",
        "result_list"
      ],
      "execution_count": 0,
      "outputs": [
        {
          "output_type": "execute_result",
          "data": {
            "text/plain": [
              "[0, 0, 0, 0, 0]"
            ]
          },
          "metadata": {
            "tags": []
          },
          "execution_count": 7
        }
      ]
    },
    {
      "cell_type": "code",
      "metadata": {
        "id": "bNY4fgyedfkS",
        "colab_type": "code",
        "outputId": "b72191b6-54bb-4994-be4c-397f0917a913",
        "colab": {
          "base_uri": "https://localhost:8080/",
          "height": 102
        }
      },
      "source": [
        " for i, bit in enumerate(result_list):\n",
        "    print(str(bit) + \",\" + str(i))"
      ],
      "execution_count": 0,
      "outputs": [
        {
          "output_type": "stream",
          "text": [
            "0,0\n",
            "0,1\n",
            "0,2\n",
            "0,3\n",
            "0,4\n"
          ],
          "name": "stdout"
        }
      ]
    },
    {
      "cell_type": "code",
      "metadata": {
        "id": "Fl_VxvliouSr",
        "colab_type": "code",
        "outputId": "fb2ed76f-1064-43e2-ca14-d44d5887269f",
        "colab": {
          "base_uri": "https://localhost:8080/",
          "height": 34
        }
      },
      "source": [
        "#Store all three values of the list in 3 new variables\n",
        "x= [1,2,3]\n",
        "a,b,c = x\n",
        "a"
      ],
      "execution_count": 0,
      "outputs": [
        {
          "output_type": "execute_result",
          "data": {
            "text/plain": [
              "1"
            ]
          },
          "metadata": {
            "tags": []
          },
          "execution_count": 30
        }
      ]
    },
    {
      "cell_type": "code",
      "metadata": {
        "id": "4CLS6ZYSrp6T",
        "colab_type": "code",
        "outputId": "007cb032-2f8a-4ce0-838a-087afa0ea381",
        "colab": {
          "base_uri": "https://localhost:8080/",
          "height": 34
        }
      },
      "source": [
        "x.pop() #Delete the last element from list and print it (i.e pop)"
      ],
      "execution_count": 0,
      "outputs": [
        {
          "output_type": "execute_result",
          "data": {
            "text/plain": [
              "3"
            ]
          },
          "metadata": {
            "tags": []
          },
          "execution_count": 34
        }
      ]
    },
    {
      "cell_type": "code",
      "metadata": {
        "id": "oYp0cYddrv9D",
        "colab_type": "code",
        "outputId": "77bccb96-6761-462c-bf2a-643a4418a8f0",
        "colab": {
          "base_uri": "https://localhost:8080/",
          "height": 34
        }
      },
      "source": [
        "x.append(5)\n",
        "x"
      ],
      "execution_count": 0,
      "outputs": [
        {
          "output_type": "execute_result",
          "data": {
            "text/plain": [
              "[1, 2, 5]"
            ]
          },
          "metadata": {
            "tags": []
          },
          "execution_count": 35
        }
      ]
    },
    {
      "cell_type": "code",
      "metadata": {
        "id": "XU_rTsdnaBuF",
        "colab_type": "code",
        "outputId": "55a748eb-884e-490c-df7b-eee1c6c594d9",
        "colab": {
          "base_uri": "https://localhost:8080/",
          "height": 34
        }
      },
      "source": [
        "x = [1,2,3]\n",
        "x.append(5)\n",
        "x.pop(0)"
      ],
      "execution_count": 0,
      "outputs": [
        {
          "output_type": "execute_result",
          "data": {
            "text/plain": [
              "1"
            ]
          },
          "metadata": {
            "tags": []
          },
          "execution_count": 4
        }
      ]
    },
    {
      "cell_type": "code",
      "metadata": {
        "id": "dohNgCQMrlHd",
        "colab_type": "code",
        "colab": {
          "base_uri": "https://localhost:8080/",
          "height": 68
        },
        "outputId": "ed95a071-faee-4f68-e40b-dde7fac3363f"
      },
      "source": [
        "a = ['a', 'b', 'c', 'd', 'e', 'f', 'g', 'h']\n",
        "print('First four:', a[:4])\n",
        "print('Last four: ', a[-4:])\n",
        "print('Middle two:', a[3:-3])"
      ],
      "execution_count": 5,
      "outputs": [
        {
          "output_type": "stream",
          "text": [
            "First four: ['a', 'b', 'c', 'd']\n",
            "Last four:  ['e', 'f', 'g', 'h']\n",
            "Middle two: ['d', 'e']\n"
          ],
          "name": "stdout"
        }
      ]
    },
    {
      "cell_type": "code",
      "metadata": {
        "id": "s2mhHraLrody",
        "colab_type": "code",
        "colab": {
          "base_uri": "https://localhost:8080/",
          "height": 34
        },
        "outputId": "1b1ac697-c52a-4a5a-e830-8ebbd4221d18"
      },
      "source": [
        "a[:1] #evaluates to less than 1 index, hence only 0"
      ],
      "execution_count": 6,
      "outputs": [
        {
          "output_type": "execute_result",
          "data": {
            "text/plain": [
              "['a']"
            ]
          },
          "metadata": {
            "tags": []
          },
          "execution_count": 6
        }
      ]
    },
    {
      "cell_type": "markdown",
      "metadata": {
        "id": "JArq3rclr15n",
        "colab_type": "text"
      },
      "source": [
        "When slicing from the start of a list, you should leave out the zero index to reduce visual noise.\n"
      ]
    },
    {
      "cell_type": "code",
      "metadata": {
        "id": "Jcr7rqjOr0WY",
        "colab_type": "code",
        "colab": {}
      },
      "source": [
        "assert a[:5] == a[0:5]"
      ],
      "execution_count": 0,
      "outputs": []
    },
    {
      "cell_type": "markdown",
      "metadata": {
        "id": "l4TF8dQTr6Nr",
        "colab_type": "text"
      },
      "source": [
        "\n",
        "When slicing to the end of a list, you should leave out the final index because it’s redundant."
      ]
    },
    {
      "cell_type": "code",
      "metadata": {
        "id": "9euaO3cur71_",
        "colab_type": "code",
        "colab": {}
      },
      "source": [
        "assert a[5:] == a[5:len(a)]"
      ],
      "execution_count": 0,
      "outputs": []
    },
    {
      "cell_type": "code",
      "metadata": {
        "id": "guuo8AZJsBgx",
        "colab_type": "code",
        "colab": {
          "base_uri": "https://localhost:8080/",
          "height": 34
        },
        "outputId": "2720b770-889e-4aa2-baa0-1eb8da0cda59"
      },
      "source": [
        "a[:-5] #5th character from end is NOT included"
      ],
      "execution_count": 12,
      "outputs": [
        {
          "output_type": "execute_result",
          "data": {
            "text/plain": [
              "['a', 'b', 'c']"
            ]
          },
          "metadata": {
            "tags": []
          },
          "execution_count": 12
        }
      ]
    },
    {
      "cell_type": "markdown",
      "metadata": {
        "id": "JcGAUuU-YsBT",
        "colab_type": "text"
      },
      "source": [
        "#### Stride\n",
        "\n",
        "a[start:end:stride]"
      ]
    },
    {
      "cell_type": "code",
      "metadata": {
        "id": "bHxF6o8CYo-t",
        "colab_type": "code",
        "colab": {
          "base_uri": "https://localhost:8080/",
          "height": 34
        },
        "outputId": "1c16efb4-ef51-49b1-ac15-92914610dfe1"
      },
      "source": [
        "a = ['red', 'orange', 'yellow', 'green', 'blue', 'purple']\n",
        "odds = a[::2]\n",
        "evens = a[1::2]\n",
        "odds"
      ],
      "execution_count": 3,
      "outputs": [
        {
          "output_type": "execute_result",
          "data": {
            "text/plain": [
              "['red', 'yellow', 'blue']"
            ]
          },
          "metadata": {
            "tags": []
          },
          "execution_count": 3
        }
      ]
    },
    {
      "cell_type": "code",
      "metadata": {
        "id": "xazxZy6pY4h2",
        "colab_type": "code",
        "colab": {
          "base_uri": "https://localhost:8080/",
          "height": 34
        },
        "outputId": "6fd49a95-8aaf-40cb-a2ef-a21d27dd37e4"
      },
      "source": [
        "evens"
      ],
      "execution_count": 4,
      "outputs": [
        {
          "output_type": "execute_result",
          "data": {
            "text/plain": [
              "['orange', 'green', 'purple']"
            ]
          },
          "metadata": {
            "tags": []
          },
          "execution_count": 4
        }
      ]
    },
    {
      "cell_type": "markdown",
      "metadata": {
        "id": "i52WOco0ZK78",
        "colab_type": "text"
      },
      "source": [
        "#### Stride can also be used for reversing a string or a list\n",
        "\n",
        "That works well for byte strings and ASCII characters, but it will break for Unicode characters encoded as UTF-8 byte strings."
      ]
    },
    {
      "cell_type": "code",
      "metadata": {
        "id": "UDccpSZuZOeX",
        "colab_type": "code",
        "colab": {
          "base_uri": "https://localhost:8080/",
          "height": 34
        },
        "outputId": "61580f46-e319-4273-cbfe-866dedb00212"
      },
      "source": [
        "a[::-1]"
      ],
      "execution_count": 8,
      "outputs": [
        {
          "output_type": "execute_result",
          "data": {
            "text/plain": [
              "['purple', 'blue', 'green', 'yellow', 'orange', 'red']"
            ]
          },
          "metadata": {
            "tags": []
          },
          "execution_count": 8
        }
      ]
    },
    {
      "cell_type": "markdown",
      "metadata": {
        "id": "eLvjYhoXY_dp",
        "colab_type": "text"
      },
      "source": [
        "#### Python is forgiving of index out of bounds"
      ]
    },
    {
      "cell_type": "code",
      "metadata": {
        "id": "MMj0eYkPY7CA",
        "colab_type": "code",
        "colab": {
          "base_uri": "https://localhost:8080/",
          "height": 34
        },
        "outputId": "6a519302-834a-46e8-d72f-b3d85ab20061"
      },
      "source": [
        "a[:10] "
      ],
      "execution_count": 7,
      "outputs": [
        {
          "output_type": "execute_result",
          "data": {
            "text/plain": [
              "['red', 'orange', 'yellow', 'green', 'blue', 'purple']"
            ]
          },
          "metadata": {
            "tags": []
          },
          "execution_count": 7
        }
      ]
    },
    {
      "cell_type": "markdown",
      "metadata": {
        "id": "MJox74mcHQiX",
        "colab_type": "text"
      },
      "source": [
        "#### Use zip to process iterators in parallel"
      ]
    },
    {
      "cell_type": "code",
      "metadata": {
        "id": "BRw5bQ6cHW0t",
        "colab_type": "code",
        "colab": {}
      },
      "source": [
        "names = ['Cecilia', 'Lise', 'Marie']\n",
        "letters = [len(n) for n in names]"
      ],
      "execution_count": 0,
      "outputs": []
    },
    {
      "cell_type": "markdown",
      "metadata": {
        "id": "zgFwYuG6Hy2U",
        "colab_type": "text"
      },
      "source": [
        "##### Not recommended"
      ]
    },
    {
      "cell_type": "code",
      "metadata": {
        "id": "wMTrl0ArHeFo",
        "colab_type": "code",
        "colab": {
          "base_uri": "https://localhost:8080/",
          "height": 34
        },
        "outputId": "c34549c8-4b3d-4d3a-9c1a-1c9461f61319"
      },
      "source": [
        "longest_name = None\n",
        "max_letters = 0\n",
        "\n",
        "for i in range(len(names)):\n",
        "    count = letters[i]\n",
        "    if count > max_letters:\n",
        "        longest_name = names[i]\n",
        "        max_letters = count\n",
        "\n",
        "print(longest_name)"
      ],
      "execution_count": 100,
      "outputs": [
        {
          "output_type": "stream",
          "text": [
            "Cecilia\n"
          ],
          "name": "stdout"
        }
      ]
    },
    {
      "cell_type": "markdown",
      "metadata": {
        "id": "xcpyS-GbH0eq",
        "colab_type": "text"
      },
      "source": [
        "##### Recommended"
      ]
    },
    {
      "cell_type": "code",
      "metadata": {
        "id": "jxVYaF97HoXb",
        "colab_type": "code",
        "colab": {
          "base_uri": "https://localhost:8080/",
          "height": 34
        },
        "outputId": "efa264bd-fcf1-4598-b4ad-a978c681bc04"
      },
      "source": [
        "longest_name = None\n",
        "max_letters = 0\n",
        "for name, count in zip(names, letters):\n",
        "    if count > max_letters:\n",
        "        longest_name = name\n",
        "        max_letters = count\n",
        "print(longest_name)"
      ],
      "execution_count": 101,
      "outputs": [
        {
          "output_type": "stream",
          "text": [
            "Cecilia\n"
          ],
          "name": "stdout"
        }
      ]
    },
    {
      "cell_type": "markdown",
      "metadata": {
        "id": "KnNfISKhIhKG",
        "colab_type": "text"
      },
      "source": [
        "#### Avoid else blocks after for and while"
      ]
    },
    {
      "cell_type": "code",
      "metadata": {
        "id": "uFGuqCNJInpv",
        "colab_type": "code",
        "colab": {
          "base_uri": "https://localhost:8080/",
          "height": 85
        },
        "outputId": "fa0fa62c-ebb4-45c1-ac3b-4f7fc0f7a7ac"
      },
      "source": [
        "for i in range(3):\n",
        "    print('Loop %d' % i)\n",
        "else:\n",
        "    print('Else block!')"
      ],
      "execution_count": 102,
      "outputs": [
        {
          "output_type": "stream",
          "text": [
            "Loop 0\n",
            "Loop 1\n",
            "Loop 2\n",
            "Else block!\n"
          ],
          "name": "stdout"
        }
      ]
    },
    {
      "cell_type": "markdown",
      "metadata": {
        "id": "cKsuu5-Nnh0f",
        "colab_type": "text"
      },
      "source": [
        "### Integer, Float"
      ]
    },
    {
      "cell_type": "markdown",
      "metadata": {
        "id": "9sCgBfgPgnza",
        "colab_type": "text"
      },
      "source": [
        "In Python 3, they made the / operator do a floating-point division, and added the // operator to do integer division (i.e. quotient without remainder); "
      ]
    },
    {
      "cell_type": "code",
      "metadata": {
        "id": "cICeEyeidytz",
        "colab_type": "code",
        "outputId": "d5af4aab-e40e-4c8e-9f43-0576fa08596d",
        "colab": {
          "base_uri": "https://localhost:8080/",
          "height": 34
        }
      },
      "source": [
        "4 / 3"
      ],
      "execution_count": 0,
      "outputs": [
        {
          "output_type": "execute_result",
          "data": {
            "text/plain": [
              "1.3333333333333333"
            ]
          },
          "metadata": {
            "tags": []
          },
          "execution_count": 12
        }
      ]
    },
    {
      "cell_type": "code",
      "metadata": {
        "id": "rMMTY6uLgpsU",
        "colab_type": "code",
        "outputId": "5351881d-9515-4c50-b1f9-07a9b9a1cfc6",
        "colab": {
          "base_uri": "https://localhost:8080/",
          "height": 34
        }
      },
      "source": [
        "4 // 3"
      ],
      "execution_count": 0,
      "outputs": [
        {
          "output_type": "execute_result",
          "data": {
            "text/plain": [
              "1"
            ]
          },
          "metadata": {
            "tags": []
          },
          "execution_count": 13
        }
      ]
    },
    {
      "cell_type": "markdown",
      "metadata": {
        "id": "DI63tkRnn5j4",
        "colab_type": "text"
      },
      "source": [
        "### Data frame"
      ]
    },
    {
      "cell_type": "code",
      "metadata": {
        "id": "gFTUleADlyP5",
        "colab_type": "code",
        "outputId": "6732e358-11cd-46e3-ad76-369c7b1fbc8d",
        "colab": {
          "base_uri": "https://localhost:8080/",
          "height": 170
        }
      },
      "source": [
        "import pandas as pd\n",
        "\n",
        "# Load dataset\n",
        "url = \"https://archive.ics.uci.edu/ml/machine-learning-databases/iris/iris.data\"\n",
        "names = ['sepal-length', 'sepal-width', 'petal-length', 'petal-width', 'class']\n",
        "dataset = pd.read_csv(url, names=names)\n",
        "\n",
        "# descriptions\n",
        "print(dataset.describe())"
      ],
      "execution_count": 0,
      "outputs": [
        {
          "output_type": "stream",
          "text": [
            "       sepal-length  sepal-width  petal-length  petal-width\n",
            "count    150.000000   150.000000    150.000000   150.000000\n",
            "mean       5.843333     3.054000      3.758667     1.198667\n",
            "std        0.828066     0.433594      1.764420     0.763161\n",
            "min        4.300000     2.000000      1.000000     0.100000\n",
            "25%        5.100000     2.800000      1.600000     0.300000\n",
            "50%        5.800000     3.000000      4.350000     1.300000\n",
            "75%        6.400000     3.300000      5.100000     1.800000\n",
            "max        7.900000     4.400000      6.900000     2.500000\n"
          ],
          "name": "stdout"
        }
      ]
    },
    {
      "cell_type": "code",
      "metadata": {
        "id": "VHiPcYpil4W4",
        "colab_type": "code",
        "outputId": "f6b2ab6b-bdb9-4d47-85b4-95ef2bdf316f",
        "colab": {
          "base_uri": "https://localhost:8080/",
          "height": 204
        }
      },
      "source": [
        "# Create data\n",
        "data = {'score': [1,2,3,4,5]}\n",
        "\n",
        "# Create dataframe\n",
        "df = pd.DataFrame(data)\n",
        "\n",
        "df"
      ],
      "execution_count": 0,
      "outputs": [
        {
          "output_type": "execute_result",
          "data": {
            "text/html": [
              "<div>\n",
              "<style scoped>\n",
              "    .dataframe tbody tr th:only-of-type {\n",
              "        vertical-align: middle;\n",
              "    }\n",
              "\n",
              "    .dataframe tbody tr th {\n",
              "        vertical-align: top;\n",
              "    }\n",
              "\n",
              "    .dataframe thead th {\n",
              "        text-align: right;\n",
              "    }\n",
              "</style>\n",
              "<table border=\"1\" class=\"dataframe\">\n",
              "  <thead>\n",
              "    <tr style=\"text-align: right;\">\n",
              "      <th></th>\n",
              "      <th>score</th>\n",
              "    </tr>\n",
              "  </thead>\n",
              "  <tbody>\n",
              "    <tr>\n",
              "      <th>0</th>\n",
              "      <td>1</td>\n",
              "    </tr>\n",
              "    <tr>\n",
              "      <th>1</th>\n",
              "      <td>2</td>\n",
              "    </tr>\n",
              "    <tr>\n",
              "      <th>2</th>\n",
              "      <td>3</td>\n",
              "    </tr>\n",
              "    <tr>\n",
              "      <th>3</th>\n",
              "      <td>4</td>\n",
              "    </tr>\n",
              "    <tr>\n",
              "      <th>4</th>\n",
              "      <td>5</td>\n",
              "    </tr>\n",
              "  </tbody>\n",
              "</table>\n",
              "</div>"
            ],
            "text/plain": [
              "   score\n",
              "0      1\n",
              "1      2\n",
              "2      3\n",
              "3      4\n",
              "4      5"
            ]
          },
          "metadata": {
            "tags": []
          },
          "execution_count": 19
        }
      ]
    },
    {
      "cell_type": "markdown",
      "metadata": {
        "id": "mM-Zyie9n9b8",
        "colab_type": "text"
      },
      "source": [
        "### Tuple"
      ]
    },
    {
      "cell_type": "markdown",
      "metadata": {
        "id": "_-ospZp9mQvA",
        "colab_type": "text"
      },
      "source": [
        "In python, tuples are immutable but lists are mutable"
      ]
    },
    {
      "cell_type": "code",
      "metadata": {
        "id": "SPD1n2hNmF7D",
        "colab_type": "code",
        "colab": {}
      },
      "source": [
        "t1 = ('a', 'b', 'c', 'd', 'e')\n",
        "\n",
        "t2 = (1,2)"
      ],
      "execution_count": 0,
      "outputs": []
    },
    {
      "cell_type": "markdown",
      "metadata": {
        "id": "p7L2Fj9dmZbA",
        "colab_type": "text"
      },
      "source": [
        "Cool feature, tuple assignment"
      ]
    },
    {
      "cell_type": "code",
      "metadata": {
        "id": "E5bnM8kTmbNa",
        "colab_type": "code",
        "colab": {}
      },
      "source": [
        "t1, t2 = t2, t1"
      ],
      "execution_count": 0,
      "outputs": []
    },
    {
      "cell_type": "code",
      "metadata": {
        "id": "-4Mx8R6Nmezn",
        "colab_type": "code",
        "outputId": "a6cbab5e-93ec-47cc-c054-b7c34620ff78",
        "colab": {
          "base_uri": "https://localhost:8080/",
          "height": 34
        }
      },
      "source": [
        "t2"
      ],
      "execution_count": 0,
      "outputs": [
        {
          "output_type": "execute_result",
          "data": {
            "text/plain": [
              "('a', 'b', 'c', 'd', 'e')"
            ]
          },
          "metadata": {
            "tags": []
          },
          "execution_count": 22
        }
      ]
    },
    {
      "cell_type": "markdown",
      "metadata": {
        "id": "AydrNLOFka8F",
        "colab_type": "text"
      },
      "source": [
        "#### Named tuple"
      ]
    },
    {
      "cell_type": "code",
      "metadata": {
        "id": "6dyYF2dckeEo",
        "colab_type": "code",
        "colab": {}
      },
      "source": [
        "import collections\n",
        "Grade = collections.namedtuple('Grade', ('score', 'weight'))"
      ],
      "execution_count": 0,
      "outputs": []
    },
    {
      "cell_type": "markdown",
      "metadata": {
        "id": "LCjUhhL3m4v2",
        "colab_type": "text"
      },
      "source": [
        "### String manipulation"
      ]
    },
    {
      "cell_type": "code",
      "metadata": {
        "id": "k93obHA3mfiq",
        "colab_type": "code",
        "outputId": "e584f7ae-b337-44fa-d16a-b8f6642e355b",
        "colab": {
          "base_uri": "https://localhost:8080/",
          "height": 34
        }
      },
      "source": [
        "addr = 'monty@python.org'\n",
        "uname, domain = addr.split('@')\n",
        "uname"
      ],
      "execution_count": 0,
      "outputs": [
        {
          "output_type": "execute_result",
          "data": {
            "text/plain": [
              "'monty'"
            ]
          },
          "metadata": {
            "tags": []
          },
          "execution_count": 24
        }
      ]
    },
    {
      "cell_type": "code",
      "metadata": {
        "id": "ftusgPoQoYUN",
        "colab_type": "code",
        "outputId": "04c3d539-1263-451d-d42f-bb76ae5ff5f5",
        "colab": {
          "base_uri": "https://localhost:8080/",
          "height": 34
        }
      },
      "source": [
        "  #Reverse a string\n",
        "  a =  \"codementor\"\n",
        "  print(a[::-1])"
      ],
      "execution_count": 0,
      "outputs": [
        {
          "output_type": "stream",
          "text": [
            "rotnemedoc\n"
          ],
          "name": "stdout"
        }
      ]
    },
    {
      "cell_type": "code",
      "metadata": {
        "id": "cZF5PxQBo6CY",
        "colab_type": "code",
        "outputId": "ef99bb8b-2847-44ed-a9ab-cb091b5912a7",
        "colab": {
          "base_uri": "https://localhost:8080/",
          "height": 34
        }
      },
      "source": [
        "#Create a single string from all the elements in list above.\n",
        "a = [\"Code\", \"mentor\", \"Python\", \"Developer\"]\n",
        "print(\" \".join(a))"
      ],
      "execution_count": 0,
      "outputs": [
        {
          "output_type": "stream",
          "text": [
            "Code mentor Python Developer\n"
          ],
          "name": "stdout"
        }
      ]
    },
    {
      "cell_type": "code",
      "metadata": {
        "id": "LZp82Tboo9UE",
        "colab_type": "code",
        "outputId": "baeda0bf-200d-42b2-80f1-5ebd7680172c",
        "colab": {
          "base_uri": "https://localhost:8080/",
          "height": 34
        }
      },
      "source": [
        "print(\"code\"*4+' '+\"mentor\"*5)"
      ],
      "execution_count": 0,
      "outputs": [
        {
          "output_type": "stream",
          "text": [
            "codecodecodecode mentormentormentormentormentor\n"
          ],
          "name": "stdout"
        }
      ]
    },
    {
      "cell_type": "markdown",
      "metadata": {
        "id": "Mm1JJqzVnSpS",
        "colab_type": "text"
      },
      "source": [
        "### Dictionary"
      ]
    },
    {
      "cell_type": "code",
      "metadata": {
        "id": "dLcPRO2mm912",
        "colab_type": "code",
        "outputId": "b40f1e65-a6ed-4187-acdc-9da6c7a23378",
        "colab": {
          "base_uri": "https://localhost:8080/",
          "height": 34
        }
      },
      "source": [
        "d = {'a':0, 'b':1, 'c':2}\n",
        "t = d.items()\n",
        "t"
      ],
      "execution_count": 0,
      "outputs": [
        {
          "output_type": "execute_result",
          "data": {
            "text/plain": [
              "dict_items([('a', 0), ('b', 1), ('c', 2)])"
            ]
          },
          "metadata": {
            "tags": []
          },
          "execution_count": 25
        }
      ]
    },
    {
      "cell_type": "markdown",
      "metadata": {
        "id": "X6TOSvTFZh-v",
        "colab_type": "text"
      },
      "source": [
        "#### DefaultDict over Dict\n",
        "\n",
        "Dictionaries are useful for bookkeeping and tracking statistics. One problem with dictionaries is that you can’t assume any keys are already present. That makes it clumsy to do simple things like increment a counter stored in a dictionary."
      ]
    },
    {
      "cell_type": "code",
      "metadata": {
        "id": "I6Zhga0nZhaq",
        "colab_type": "code",
        "colab": {}
      },
      "source": [
        "stats = {}\n",
        "key = 'my_counter'\n",
        "if key not in stats: #we can do better\n",
        "   stats[key] = 0\n",
        "stats[key] += 1"
      ],
      "execution_count": 0,
      "outputs": []
    },
    {
      "cell_type": "markdown",
      "metadata": {
        "id": "IlQbV8-OZwYm",
        "colab_type": "text"
      },
      "source": [
        "The defaultdict class from the collections module simplifies this by automatically storing a default value when a key doesn’t exist. All you have to do is provide a function that will return the default value each time a key is missing. In this example, the int built-in function returns 0 (see Item 23: “Accept Functions for Simple Interfaces Instead of Classes” for another example). Now, incrementing a counter is simple.\n",
        "\n"
      ]
    },
    {
      "cell_type": "code",
      "metadata": {
        "id": "whj2bzwxZuXR",
        "colab_type": "code",
        "colab": {
          "base_uri": "https://localhost:8080/",
          "height": 34
        },
        "outputId": "582570a0-e035-4706-c12e-f2d06db5f031"
      },
      "source": [
        "from collections import defaultdict\n",
        "stats = defaultdict(int)\n",
        "stats['my_counter'] += 1\n",
        "stats.items()"
      ],
      "execution_count": 125,
      "outputs": [
        {
          "output_type": "execute_result",
          "data": {
            "text/plain": [
              "dict_items([('my_counter', 1)])"
            ]
          },
          "metadata": {
            "tags": []
          },
          "execution_count": 125
        }
      ]
    },
    {
      "cell_type": "markdown",
      "metadata": {
        "id": "S1SA4HYGokbk",
        "colab_type": "text"
      },
      "source": [
        "### Matrix"
      ]
    },
    {
      "cell_type": "code",
      "metadata": {
        "id": "hLu9dvVGolaL",
        "colab_type": "code",
        "outputId": "c7363dd1-72f9-43fb-e00d-21b3128b5387",
        "colab": {
          "base_uri": "https://localhost:8080/",
          "height": 68
        }
      },
      "source": [
        "#transpose a matrix\n",
        "mat = [[1, 2, 3], [4, 5, 6]]\n",
        "mat_t = zip(*mat)\n",
        "# or mat_t = rez = [[m[j][i] for j in range(len(m))] for i in range(len(m[0]))] \n",
        "for row in mat_t: \n",
        "    print(row) "
      ],
      "execution_count": 0,
      "outputs": [
        {
          "output_type": "stream",
          "text": [
            "(1, 4)\n",
            "(2, 5)\n",
            "(3, 6)\n"
          ],
          "name": "stdout"
        }
      ]
    },
    {
      "cell_type": "markdown",
      "metadata": {
        "id": "JZKdNKKesdQT",
        "colab_type": "text"
      },
      "source": [
        "### List comprehensions\n",
        "\n",
        "Python provides compact syntax for deriving one list from another. These expressions are called list comprehensions. \n",
        "\n",
        "Unless you’re applying a single-argument function, list comprehensions are clearer than the map built-in function for simple cases. map requires creating a lambda function for the computation, which is visually noisy."
      ]
    },
    {
      "cell_type": "code",
      "metadata": {
        "id": "Walim5KssexC",
        "colab_type": "code",
        "colab": {}
      },
      "source": [
        "def list_double_when_greater_then_five(list):\n",
        "  return [num*2 for num in list if num > 5]"
      ],
      "execution_count": 0,
      "outputs": []
    },
    {
      "cell_type": "code",
      "metadata": {
        "id": "nSJoRTGasn-P",
        "colab_type": "code",
        "outputId": "9993cef0-6dd4-49bc-a6bc-877ee46281d3",
        "colab": {
          "base_uri": "https://localhost:8080/",
          "height": 34
        }
      },
      "source": [
        "list_double_when_greater_then_five([1,2,3,4,5,6,7])"
      ],
      "execution_count": 0,
      "outputs": [
        {
          "output_type": "execute_result",
          "data": {
            "text/plain": [
              "[12, 14]"
            ]
          },
          "metadata": {
            "tags": []
          },
          "execution_count": 40
        }
      ]
    },
    {
      "cell_type": "code",
      "metadata": {
        "id": "jAeE77flaSqK",
        "colab_type": "code",
        "colab": {
          "base_uri": "https://localhost:8080/",
          "height": 34
        },
        "outputId": "e9393841-cac8-4863-c7d5-4721cccfaee2"
      },
      "source": [
        "a = [1, 2, 3, 4, 5, 6, 7, 8, 9, 10]\n",
        "squares = [x**2 for x in a]\n",
        "print(squares)"
      ],
      "execution_count": 11,
      "outputs": [
        {
          "output_type": "stream",
          "text": [
            "[1, 4, 9, 16, 25, 36, 49, 64, 81, 100]\n"
          ],
          "name": "stdout"
        }
      ]
    },
    {
      "cell_type": "code",
      "metadata": {
        "id": "tnGvNXTubEOo",
        "colab_type": "code",
        "colab": {
          "base_uri": "https://localhost:8080/",
          "height": 34
        },
        "outputId": "cacaded3-a92d-44bf-a3db-2c3cbf4c43a8"
      },
      "source": [
        "even_squares = [x**2 for x in a if x % 2 == 0]\n",
        "even_squares"
      ],
      "execution_count": 14,
      "outputs": [
        {
          "output_type": "execute_result",
          "data": {
            "text/plain": [
              "[4, 16, 36, 64, 100]"
            ]
          },
          "metadata": {
            "tags": []
          },
          "execution_count": 14
        }
      ]
    },
    {
      "cell_type": "markdown",
      "metadata": {
        "id": "jXG0lKfYbOAZ",
        "colab_type": "text"
      },
      "source": [
        "The filter built-in function can be used along with map to achieve the same outcome, but it is much harder to read."
      ]
    },
    {
      "cell_type": "markdown",
      "metadata": {
        "id": "FDts90W3bgPq",
        "colab_type": "text"
      },
      "source": [
        "#### List comprehensions in dict and set"
      ]
    },
    {
      "cell_type": "code",
      "metadata": {
        "id": "hP2t2k62bfRt",
        "colab_type": "code",
        "colab": {
          "base_uri": "https://localhost:8080/",
          "height": 51
        },
        "outputId": "e84b28de-2934-43bd-d08a-cdff4c462f10"
      },
      "source": [
        "chile_ranks = {'ghost': 1, 'habanero': 2, 'cayenne': 3}\n",
        "rank_dict = {rank: name for name, rank in chile_ranks.items()}\n",
        "chile_len_set = {len(name) for name in rank_dict.values()}\n",
        "print(rank_dict)\n",
        "print(chile_len_set)"
      ],
      "execution_count": 16,
      "outputs": [
        {
          "output_type": "stream",
          "text": [
            "{1: 'ghost', 2: 'habanero', 3: 'cayenne'}\n",
            "{8, 5, 7}\n"
          ],
          "name": "stdout"
        }
      ]
    },
    {
      "cell_type": "markdown",
      "metadata": {
        "id": "o-zJPWW_cQD3",
        "colab_type": "text"
      },
      "source": [
        "#### List comprehensions also support multiple levels of looping\n",
        "\n",
        "Beyond basic usage (see Item 7: “Use List Comprehensions Instead of map and filter”), list comprehensions also support multiple levels of looping. For example, say you want to simplify a matrix (a list containing other lists) into one flat list of all cells. Here, I do this with a list comprehension by including two for expressions. These expressions run in the order provided from left to right.\n",
        "\n"
      ]
    },
    {
      "cell_type": "code",
      "metadata": {
        "id": "8QzbUHZNcUA1",
        "colab_type": "code",
        "colab": {
          "base_uri": "https://localhost:8080/",
          "height": 34
        },
        "outputId": "a20c3b33-2148-4aa8-fa93-0f50de94fd03"
      },
      "source": [
        "matrix = [[1, 2, 3], [4, 5, 6], [7, 8, 9]]\n",
        "flat = [x for row in matrix for x in row]\n",
        "print(flat)"
      ],
      "execution_count": 17,
      "outputs": [
        {
          "output_type": "stream",
          "text": [
            "[1, 2, 3, 4, 5, 6, 7, 8, 9]\n"
          ],
          "name": "stdout"
        }
      ]
    },
    {
      "cell_type": "markdown",
      "metadata": {
        "id": "QJUQVhuCcgp7",
        "colab_type": "text"
      },
      "source": [
        "Maintaining the two level layer"
      ]
    },
    {
      "cell_type": "code",
      "metadata": {
        "id": "ENH2AoiUcirw",
        "colab_type": "code",
        "colab": {
          "base_uri": "https://localhost:8080/",
          "height": 34
        },
        "outputId": "6af47374-69f9-4f5d-abce-260231b09e2f"
      },
      "source": [
        "squared = [[x**2 for x in row] for row in matrix]\n",
        "print(squared)"
      ],
      "execution_count": 18,
      "outputs": [
        {
          "output_type": "stream",
          "text": [
            "[[1, 4, 9], [16, 25, 36], [49, 64, 81]]\n"
          ],
          "name": "stdout"
        }
      ]
    },
    {
      "cell_type": "markdown",
      "metadata": {
        "id": "lsCdyR5UcuDs",
        "colab_type": "text"
      },
      "source": [
        "List comprehensions also support multiple if conditions. Multiple conditions at the same loop level are an implicit and expression. For example, say you want to filter a list of numbers to only even values greater than four. These two list comprehensions are equivalent."
      ]
    },
    {
      "cell_type": "code",
      "metadata": {
        "id": "8RQ4ZkdFcvqD",
        "colab_type": "code",
        "colab": {}
      },
      "source": [
        "a = [1, 2, 3, 4, 5, 6, 7, 8, 9, 10]\n",
        "b = [x for x in a if x > 4 if x % 2 == 0]\n",
        "c = [x for x in a if x > 4 and x % 2 == 0]\n",
        "assert b == c"
      ],
      "execution_count": 0,
      "outputs": []
    },
    {
      "cell_type": "markdown",
      "metadata": {
        "id": "0cxjWwtvdCId",
        "colab_type": "text"
      },
      "source": [
        "#### Avoid complicated list comprehensions\n",
        "\n",
        "The rule of thumb is to avoid using more than two expressions in a list comprehension. This could be two conditions, two loops, or one condition and one loop. As soon as it gets more complicated than that, you should use normal if and for statements and write a helper function"
      ]
    },
    {
      "cell_type": "markdown",
      "metadata": {
        "id": "Etago0CUdqTQ",
        "colab_type": "text"
      },
      "source": [
        "#### List comprehensions for large input\n",
        "\n",
        "For example, say you want to read a file and return the number of characters on each line. Doing this with a list comprehension would require holding the length of every line of the file in memory. If the file is absolutely enormous or perhaps a never-ending network socket, list comprehensions are problematic. Here, I use a list comprehension in a way that can only handle small input values."
      ]
    },
    {
      "cell_type": "markdown",
      "metadata": {
        "id": "ORbgQFMhDq6u",
        "colab_type": "text"
      },
      "source": [
        "#### Generator expressions for large list comprehensions"
      ]
    },
    {
      "cell_type": "code",
      "metadata": {
        "id": "9uBjehKEDxHV",
        "colab_type": "code",
        "colab": {
          "base_uri": "https://localhost:8080/",
          "height": 34
        },
        "outputId": "1d098156-9b3b-489e-c314-9c8f079fa153"
      },
      "source": [
        "it = [len(x) for x in [\"hello\", \"python\"]]\n",
        "print(it)"
      ],
      "execution_count": 69,
      "outputs": [
        {
          "output_type": "stream",
          "text": [
            "[5, 6]\n"
          ],
          "name": "stdout"
        }
      ]
    },
    {
      "cell_type": "code",
      "metadata": {
        "id": "GpzBWRXcDpZF",
        "colab_type": "code",
        "colab": {
          "base_uri": "https://localhost:8080/",
          "height": 34
        },
        "outputId": "3e80a005-0ad2-4928-9bdb-137efcf88454"
      },
      "source": [
        "#Assume the list is LARGE\n",
        "a = [\"hello\", \"world\"]\n",
        "it = (len(x) for x in a)\n",
        "print(it)"
      ],
      "execution_count": 87,
      "outputs": [
        {
          "output_type": "stream",
          "text": [
            "<generator object <genexpr> at 0x7f005999a2b0>\n"
          ],
          "name": "stdout"
        }
      ]
    },
    {
      "cell_type": "markdown",
      "metadata": {
        "id": "FfeqYCinD-3Z",
        "colab_type": "text"
      },
      "source": [
        "For example, say you want to read a file and return the number of characters on each line. Doing this with a list comprehension would require holding the length of every line of the file in memory. If the file is absolutely enormous or perhaps a never-ending network socket, list comprehensions are problematic.\n",
        "\n",
        "To solve this, Python provides generator expressions, a generalization of list comprehensions and generators. Generator expressions don’t materialize the whole output sequence when they’re run. Instead, generator expressions evaluate to an iterator that yields one item at a time from the expression.\n",
        "\n",
        "A generator expression is created by putting list-comprehension-like syntax between () characters. Here, I use a generator expression that is equivalent to the code above. However, the generator expression immediately evaluates to an iterator and doesn’t make any forward progress.\n",
        "\n",
        "The returned iterator can be advanced one step at a time to produce the next output from the generator expression as needed (using the next built-in function). Your code can consume as much of the generator expression as you want without risking a blowup in memory usage.\n",
        "\n",
        "Chaining generators like this executes very quickly in Python. When you’re looking for a way to compose functionality that’s operating on a large stream of input, generator expressions are the best tool for the job. "
      ]
    },
    {
      "cell_type": "code",
      "metadata": {
        "id": "pHP1Jsm5EYMD",
        "colab_type": "code",
        "colab": {
          "base_uri": "https://localhost:8080/",
          "height": 51
        },
        "outputId": "d2c77009-8753-4e1b-eeba-e89bfe33124e"
      },
      "source": [
        "for i in range(len(a)):\n",
        "  print(next(it))"
      ],
      "execution_count": 83,
      "outputs": [
        {
          "output_type": "stream",
          "text": [
            "5\n",
            "5\n"
          ],
          "name": "stdout"
        }
      ]
    },
    {
      "cell_type": "markdown",
      "metadata": {
        "id": "Yk5sGv4nFMdC",
        "colab_type": "text"
      },
      "source": [
        "Another powerful outcome of generator expressions is that they can be composed together. Here, I take the iterator returned by the generator expression above and use it as the input for another generator expression."
      ]
    },
    {
      "cell_type": "code",
      "metadata": {
        "id": "TLV6sW7oFLxe",
        "colab_type": "code",
        "colab": {
          "base_uri": "https://localhost:8080/",
          "height": 34
        },
        "outputId": "a1a3c20a-37cc-4d43-cbbb-33be612f406c"
      },
      "source": [
        "roots = ((x, x**0.5) for x in it)\n",
        "print(next(roots))"
      ],
      "execution_count": 88,
      "outputs": [
        {
          "output_type": "stream",
          "text": [
            "(5, 2.23606797749979)\n"
          ],
          "name": "stdout"
        }
      ]
    },
    {
      "cell_type": "markdown",
      "metadata": {
        "id": "hL5UbPrzFkZM",
        "colab_type": "text"
      },
      "source": [
        "IMPORTANT CATCH WHILE USING SOME GENERATOR EXPRESSIONS : The iterators returned by generator expressions are stateful, so you must be careful not to use them more than once"
      ]
    },
    {
      "cell_type": "markdown",
      "metadata": {
        "id": "YUhbKA5NGEgs",
        "colab_type": "text"
      },
      "source": [
        "#### Prefer enumerate over range"
      ]
    },
    {
      "cell_type": "code",
      "metadata": {
        "id": "zPPWvE3xGXWj",
        "colab_type": "code",
        "colab": {}
      },
      "source": [
        "flavor_list = ['vanilla', 'chocolate', 'pecan', 'strawberry']"
      ],
      "execution_count": 0,
      "outputs": []
    },
    {
      "cell_type": "code",
      "metadata": {
        "id": "awz7IAyiGDYJ",
        "colab_type": "code",
        "colab": {}
      },
      "source": [
        "for i in range(len(flavor_list)):\n",
        "    flavor = flavor_list[i]\n",
        "    print('%d: %s' % (i + 1, flavor))"
      ],
      "execution_count": 0,
      "outputs": []
    },
    {
      "cell_type": "markdown",
      "metadata": {
        "id": "zD46Hk_UGPS4",
        "colab_type": "text"
      },
      "source": [
        "Enumerate wraps any iterator with a lazy generator. This generator yields pairs of the loop index and the next value from the iterator. The resulting code is much clearer."
      ]
    },
    {
      "cell_type": "code",
      "metadata": {
        "id": "cBFrMQe5GOWF",
        "colab_type": "code",
        "colab": {
          "base_uri": "https://localhost:8080/",
          "height": 85
        },
        "outputId": "61db94cb-5455-4149-bdf6-fce9c2e7f4d3"
      },
      "source": [
        "for i,f in enumerate(flavor_list):\n",
        "  print('%d: %s' % (i + 1, f))"
      ],
      "execution_count": 97,
      "outputs": [
        {
          "output_type": "stream",
          "text": [
            "1: vanilla\n",
            "2: chocolate\n",
            "3: pecan\n",
            "4: strawberry\n"
          ],
          "name": "stdout"
        }
      ]
    },
    {
      "cell_type": "markdown",
      "metadata": {
        "id": "fGbbShp2G74-",
        "colab_type": "text"
      },
      "source": [
        "You can make this even shorter by specifying the number from which enumerate should begin counting (1 in this case)."
      ]
    },
    {
      "cell_type": "code",
      "metadata": {
        "id": "vY7aZmZkG826",
        "colab_type": "code",
        "colab": {
          "base_uri": "https://localhost:8080/",
          "height": 85
        },
        "outputId": "f2a3ddfa-bc30-44af-e430-326deac5a8df"
      },
      "source": [
        "for i, flavor in enumerate(flavor_list, 1):\n",
        "    print('%d: %s' % (i, flavor))"
      ],
      "execution_count": 98,
      "outputs": [
        {
          "output_type": "stream",
          "text": [
            "1: vanilla\n",
            "2: chocolate\n",
            "3: pecan\n",
            "4: strawberry\n"
          ],
          "name": "stdout"
        }
      ]
    },
    {
      "cell_type": "markdown",
      "metadata": {
        "id": "KGmSOhBatCTS",
        "colab_type": "text"
      },
      "source": [
        "### Map, filter and  reduce"
      ]
    },
    {
      "cell_type": "code",
      "metadata": {
        "id": "aUFc6w6obQ6c",
        "colab_type": "code",
        "colab": {}
      },
      "source": [
        "alt = map(lambda x: x**2, filter(lambda x: x % 2 == 0, a))\n",
        "assert even_squares == list(alt)"
      ],
      "execution_count": 0,
      "outputs": []
    },
    {
      "cell_type": "code",
      "metadata": {
        "id": "FVaZX6EztDTl",
        "colab_type": "code",
        "colab": {}
      },
      "source": [
        "arr = map(lambda x : 2*x, [1,2,3,4,5])"
      ],
      "execution_count": 0,
      "outputs": []
    },
    {
      "cell_type": "code",
      "metadata": {
        "id": "sYotiW_OtI-J",
        "colab_type": "code",
        "outputId": "f2e4a18e-6e5b-4a0d-cdcf-abfb89b5eb6a",
        "colab": {
          "base_uri": "https://localhost:8080/",
          "height": 34
        }
      },
      "source": [
        "from functools import reduce\n",
        "reduce(lambda x,y : x+ y, arr)"
      ],
      "execution_count": 0,
      "outputs": [
        {
          "output_type": "execute_result",
          "data": {
            "text/plain": [
              "30"
            ]
          },
          "metadata": {
            "tags": []
          },
          "execution_count": 44
        }
      ]
    },
    {
      "cell_type": "code",
      "metadata": {
        "id": "ldSa2q9ktJpo",
        "colab_type": "code",
        "colab": {
          "base_uri": "https://localhost:8080/",
          "height": 34
        },
        "outputId": "302c6b3c-c8f6-45a1-e176-e6b5f1f2a93c"
      },
      "source": [
        "[1]*6"
      ],
      "execution_count": 1,
      "outputs": [
        {
          "output_type": "execute_result",
          "data": {
            "text/plain": [
              "[1, 1, 1, 1, 1, 1]"
            ]
          },
          "metadata": {
            "tags": []
          },
          "execution_count": 1
        }
      ]
    },
    {
      "cell_type": "code",
      "metadata": {
        "id": "J80Y3OmvUWTb",
        "colab_type": "code",
        "colab": {
          "base_uri": "https://localhost:8080/",
          "height": 374
        },
        "outputId": "23ae52f2-9060-43bc-dc66-0aaf8253c85b"
      },
      "source": [
        "import this"
      ],
      "execution_count": 1,
      "outputs": [
        {
          "output_type": "stream",
          "text": [
            "The Zen of Python, by Tim Peters\n",
            "\n",
            "Beautiful is better than ugly.\n",
            "Explicit is better than implicit.\n",
            "Simple is better than complex.\n",
            "Complex is better than complicated.\n",
            "Flat is better than nested.\n",
            "Sparse is better than dense.\n",
            "Readability counts.\n",
            "Special cases aren't special enough to break the rules.\n",
            "Although practicality beats purity.\n",
            "Errors should never pass silently.\n",
            "Unless explicitly silenced.\n",
            "In the face of ambiguity, refuse the temptation to guess.\n",
            "There should be one-- and preferably only one --obvious way to do it.\n",
            "Although that way may not be obvious at first unless you're Dutch.\n",
            "Now is better than never.\n",
            "Although never is often better than *right* now.\n",
            "If the implementation is hard to explain, it's a bad idea.\n",
            "If the implementation is easy to explain, it may be a good idea.\n",
            "Namespaces are one honking great idea -- let's do more of those!\n"
          ],
          "name": "stdout"
        }
      ]
    },
    {
      "cell_type": "code",
      "metadata": {
        "id": "jSo6Wb53nsOg",
        "colab_type": "code",
        "colab": {
          "base_uri": "https://localhost:8080/",
          "height": 68
        },
        "outputId": "52e72b4a-adf9-4701-ad8d-9e2a227d66c5"
      },
      "source": [
        "import sys\n",
        "print(sys.version_info)\n",
        "print(sys.version)"
      ],
      "execution_count": 2,
      "outputs": [
        {
          "output_type": "stream",
          "text": [
            "sys.version_info(major=3, minor=6, micro=8, releaselevel='final', serial=0)\n",
            "3.6.8 (default, Jan 14 2019, 11:02:34) \n",
            "[GCC 8.0.1 20180414 (experimental) [trunk revision 259383]]\n"
          ],
          "name": "stdout"
        }
      ]
    },
    {
      "cell_type": "markdown",
      "metadata": {
        "id": "D3QFh0wfW1FH",
        "colab_type": "text"
      },
      "source": [
        "### Use built in data structures and algorithms\n",
        "\n",
        "When you’re implementing Python programs that handle a non-trivial amount of data, you’ll eventually see slowdowns caused by the algorithmic complexity of your code. This usually isn’t the result of Python’s speed as a language. The issue, more likely, is that you aren’t using the best algorithms and data structures for your problem."
      ]
    },
    {
      "cell_type": "markdown",
      "metadata": {
        "id": "1nz8WMugXHfT",
        "colab_type": "text"
      },
      "source": [
        "#### Deque\n"
      ]
    },
    {
      "cell_type": "code",
      "metadata": {
        "id": "G8oUVmxHWx2I",
        "colab_type": "code",
        "colab": {
          "base_uri": "https://localhost:8080/",
          "height": 34
        },
        "outputId": "bc7c7c47-7c5e-40a2-a0d5-dbebf45dcf4d"
      },
      "source": [
        "from collections import deque\n",
        "fifo = deque()\n",
        "fifo.append(1)      # Producer\n",
        "fifo.append(2) \n",
        "x = fifo.popleft()  # Consumer\n",
        "x"
      ],
      "execution_count": 109,
      "outputs": [
        {
          "output_type": "execute_result",
          "data": {
            "text/plain": [
              "1"
            ]
          },
          "metadata": {
            "tags": []
          },
          "execution_count": 109
        }
      ]
    },
    {
      "cell_type": "markdown",
      "metadata": {
        "id": "ran5wPq2X1Xd",
        "colab_type": "text"
      },
      "source": [
        "#### Decimal\n",
        "\n",
        "The solution is to use the Decimal class from the decimal built-in module. The Decimal class provides fixed point math of 28 decimal points by default."
      ]
    },
    {
      "cell_type": "code",
      "metadata": {
        "id": "OUryy_wXX248",
        "colab_type": "code",
        "colab": {
          "base_uri": "https://localhost:8080/",
          "height": 68
        },
        "outputId": "563ece66-cdfe-4df5-a056-f75f88863775"
      },
      "source": [
        "from decimal import Decimal\n",
        "from decimal import ROUND_UP\n",
        "rate = Decimal('0.05')\n",
        "seconds = Decimal('5')\n",
        "cost = rate * seconds / Decimal('60')\n",
        "rounded = cost.quantize(Decimal('0.01'), rounding=ROUND_UP)\n",
        "print(cost)\n",
        "print(rounded)\n",
        "print(round(cost, 2)) #Always rounds down"
      ],
      "execution_count": 120,
      "outputs": [
        {
          "output_type": "stream",
          "text": [
            "0.004166666666666666666666666667\n",
            "0.01\n",
            "0.00\n"
          ],
          "name": "stdout"
        }
      ]
    },
    {
      "cell_type": "markdown",
      "metadata": {
        "id": "09G8qU4MZImM",
        "colab_type": "text"
      },
      "source": [
        "#### Fractions\n",
        "\n",
        "For representing rational numbers with no limit to precision, consider using the Fraction class from the fractions built-in module.\n",
        "\n"
      ]
    },
    {
      "cell_type": "markdown",
      "metadata": {
        "id": "80Eutr36ouTQ",
        "colab_type": "text"
      },
      "source": [
        "### Whats a python runtime\n",
        "You're computer doesn't understand python natively, it only understands machine code. In order to get your machine to run python code you need some way to convert it into machine code. The programs, libraries, and configuration that allow you to do this are collectively known as the \"python runtime environment\".There are multiple popular runtimes for Python: CPython, Jython, IronPython, PyPy, etc."
      ]
    },
    {
      "cell_type": "markdown",
      "metadata": {
        "id": "hBjyEsugo5xG",
        "colab_type": "text"
      },
      "source": [
        "### Python style guide\n",
        "Python Enhancement Proposal #8, otherwise known as PEP 8, is the style guide for how to format Python code. Follow style guide here  : https://www.python.org/dev/peps/pep-0008/"
      ]
    },
    {
      "cell_type": "markdown",
      "metadata": {
        "id": "te8EBRhzpjGH",
        "colab_type": "text"
      },
      "source": [
        "### Encoding and decoding in python"
      ]
    },
    {
      "cell_type": "code",
      "metadata": {
        "id": "z6nr6t-aoGt_",
        "colab_type": "code",
        "colab": {}
      },
      "source": [
        "def to_str(bytes_or_str):\n",
        "    if isinstance(bytes_or_str, bytes):\n",
        "        value = bytes_or_str.decode('utf-8')\n",
        "    else:\n",
        "        value = bytes_or_str\n",
        "    return value  # Instance of str"
      ],
      "execution_count": 0,
      "outputs": []
    },
    {
      "cell_type": "code",
      "metadata": {
        "id": "jOYKSaZeqzcz",
        "colab_type": "code",
        "colab": {}
      },
      "source": [
        "def to_bytes(bytes_or_str):\n",
        "    if isinstance(bytes_or_str, str):\n",
        "        value = bytes_or_str.encode('utf-8')\n",
        "    else:\n",
        "        value = bytes_or_str\n",
        "    return value  # Instance of bytes"
      ],
      "execution_count": 0,
      "outputs": []
    },
    {
      "cell_type": "markdown",
      "metadata": {
        "id": "nhNtYvGyrHkS",
        "colab_type": "text"
      },
      "source": [
        "### Python's pithy syntax \n",
        "A pithy phrase or statement is brief but full of substance and meaning."
      ]
    },
    {
      "cell_type": "markdown",
      "metadata": {
        "id": "QN1HuzKbmvV9",
        "colab_type": "text"
      },
      "source": [
        "### Functions in python"
      ]
    },
    {
      "cell_type": "markdown",
      "metadata": {
        "id": "FOZ2hlvkmx3V",
        "colab_type": "text"
      },
      "source": [
        "#### Prefer exceptions over returning None\n",
        "\n",
        "Functions that return None to indicate special meaning are error prone because None and other values (e.g., zero, the empty string) all evaluate to False in conditional expressions."
      ]
    },
    {
      "cell_type": "markdown",
      "metadata": {
        "id": "47nG1rtBnCjJ",
        "colab_type": "text"
      },
      "source": [
        "##### Wrong way"
      ]
    },
    {
      "cell_type": "code",
      "metadata": {
        "id": "0FEZoRbsq1YF",
        "colab_type": "code",
        "colab": {
          "base_uri": "https://localhost:8080/",
          "height": 34
        },
        "outputId": "9574c4a9-fc23-4f60-a62d-1fb6dbdb0340"
      },
      "source": [
        "def divide(a, b):\n",
        "    try:\n",
        "        return a / b\n",
        "    except ZeroDivisionError:\n",
        "        return None\n",
        "\n",
        "x, y = 0, 5\n",
        "result = divide(x, y)\n",
        "if not result:\n",
        "  print('Invalid inputs')  # This is wrong!"
      ],
      "execution_count": 22,
      "outputs": [
        {
          "output_type": "stream",
          "text": [
            "Invalid inputs\n"
          ],
          "name": "stdout"
        }
      ]
    },
    {
      "cell_type": "markdown",
      "metadata": {
        "id": "J9HV1wJ9nUkH",
        "colab_type": "text"
      },
      "source": [
        "##### Slightly better way"
      ]
    },
    {
      "cell_type": "code",
      "metadata": {
        "id": "U4zoOUPPnK5w",
        "colab_type": "code",
        "colab": {
          "base_uri": "https://localhost:8080/",
          "height": 51
        },
        "outputId": "82cfdc80-abd3-4043-c748-75dc865d0dd0"
      },
      "source": [
        "def divide(a, b):\n",
        "    try:\n",
        "        return True, a // b\n",
        "    except ZeroDivisionError:\n",
        "        return False, None\n",
        "      \n",
        "success, result = divide(0, 5)\n",
        "if not success:\n",
        "    print('Invalid inputs')  \n",
        "else:\n",
        "    print(result)\n",
        "success, result = divide(5, 0)\n",
        "if not success:\n",
        "    print('Invalid inputs')   \n",
        "else:\n",
        "    print(result)"
      ],
      "execution_count": 26,
      "outputs": [
        {
          "output_type": "stream",
          "text": [
            "0\n",
            "Invalid inputs\n"
          ],
          "name": "stdout"
        }
      ]
    },
    {
      "cell_type": "markdown",
      "metadata": {
        "id": "WfJJ2FblnuJ8",
        "colab_type": "text"
      },
      "source": [
        "##### Recommended way"
      ]
    },
    {
      "cell_type": "code",
      "metadata": {
        "id": "XjY5TTcBnaAA",
        "colab_type": "code",
        "colab": {
          "base_uri": "https://localhost:8080/",
          "height": 51
        },
        "outputId": "c934c485-05a0-43c7-8898-b1454c850483"
      },
      "source": [
        "def divide(a, b):\n",
        "    try:\n",
        "        return a / b\n",
        "    except ZeroDivisionError as e:\n",
        "        raise ValueError('Invalid inputs') from e\n",
        "x, y = 5, 2\n",
        "try:\n",
        "    result = divide(x, y)\n",
        "except ValueError:\n",
        "    print('Invalid inputs')\n",
        "else:\n",
        "    print('Result is %.1f' % result)        \n",
        "x, y = 5, 0\n",
        "try:\n",
        "    result = divide(x, y)\n",
        "except ValueError:\n",
        "    print('Invalid inputs')\n",
        "else:\n",
        "    print('Result is %.1f' % result)  "
      ],
      "execution_count": 28,
      "outputs": [
        {
          "output_type": "stream",
          "text": [
            "Result is 2.5\n",
            "Invalid inputs\n"
          ],
          "name": "stdout"
        }
      ]
    },
    {
      "cell_type": "markdown",
      "metadata": {
        "id": "dHdsXJhp_qgJ",
        "colab_type": "text"
      },
      "source": [
        "#### Closures and variable scopes\n",
        "\n",
        "Say you want to sort a list of numbers but prioritize one group of numbers to come first. This pattern is useful when you’re rendering a user interface and want important messages or exceptional events to be displayed before everything else.\n",
        "\n",
        "A common way to do this is to pass a helper function as the key argument to a list’s sort method. The helper’s return value will be used as the value for sorting each item in the list. The helper can check whether the given item is in the important group and can vary the sort key accordingly."
      ]
    },
    {
      "cell_type": "code",
      "metadata": {
        "id": "49Qt5_84_wiX",
        "colab_type": "code",
        "colab": {}
      },
      "source": [
        "def sort_priority(values, group):\n",
        "    def helper(x):\n",
        "        if x in group:\n",
        "            return (0, x)\n",
        "        return (1, x)\n",
        "    values.sort(key=helper)"
      ],
      "execution_count": 0,
      "outputs": []
    },
    {
      "cell_type": "code",
      "metadata": {
        "id": "s0onIZDF_4MB",
        "colab_type": "code",
        "colab": {
          "base_uri": "https://localhost:8080/",
          "height": 34
        },
        "outputId": "ca8bcecf-6aef-4fb8-b2fd-02c91b3d99ce"
      },
      "source": [
        "numbers = [8, 3, 1, 2, 5, 4, 7, 6]\n",
        "group = {2, 3, 5, 7}\n",
        "sort_priority(numbers, group)\n",
        "print(numbers)"
      ],
      "execution_count": 50,
      "outputs": [
        {
          "output_type": "stream",
          "text": [
            "[2, 3, 5, 7, 1, 4, 6, 8]\n"
          ],
          "name": "stdout"
        }
      ]
    },
    {
      "cell_type": "markdown",
      "metadata": {
        "id": "YumQbNtF_8lv",
        "colab_type": "text"
      },
      "source": [
        "There are three reasons why this function operates as expected:\n",
        "\n",
        "1) Python supports closures: functions that refer to variables from the scope in which they were defined. This is why the helper function is able to access the group argument to sort_priority.\n",
        "\n",
        "2) Functions are first-class objects in Python, meaning you can refer to them directly, assign them to variables, pass them as arguments to other functions, compare them in expressions and if statements, etc. This is how the sort method can accept a closure function as the key argument.\n",
        "\n",
        "3) Python has specific rules for comparing tuples. It first compares items in index zero, then index one, then index two, and so on. This is why the return value from the helper closure causes the sort order to have two distinct groups.\n",
        "\n",
        "\n"
      ]
    },
    {
      "cell_type": "markdown",
      "metadata": {
        "id": "ODbPztaSAqKd",
        "colab_type": "text"
      },
      "source": [
        "When you reference a variable in an expression, the Python interpreter will traverse the scope to resolve the reference in this order:\n",
        "\n",
        "1. The current function’s scope\n",
        "\n",
        "2. Any enclosing scopes (like other containing functions)\n",
        "\n",
        "3. The scope of the module that contains the code (also called the global scope)\n",
        "\n",
        "4. The built-in scope (that contains functions like len and str)\n",
        "\n",
        "If none of these places have a defined variable with the referenced name, then a NameError exception is raised"
      ]
    },
    {
      "cell_type": "code",
      "metadata": {
        "id": "_3012QThACcN",
        "colab_type": "code",
        "colab": {}
      },
      "source": [
        "def sort_priority(values, group):\n",
        "    found = False\n",
        "    def helper(x):\n",
        "        if x in group:\n",
        "            print(found)\n",
        "            return (0, x)\n",
        "        return (1, x)\n",
        "    values.sort(key=helper)"
      ],
      "execution_count": 0,
      "outputs": []
    },
    {
      "cell_type": "code",
      "metadata": {
        "id": "axuvl2aUAzOi",
        "colab_type": "code",
        "colab": {
          "base_uri": "https://localhost:8080/",
          "height": 102
        },
        "outputId": "975c2a4a-8478-479f-b0e5-d0a58621cb0c"
      },
      "source": [
        "numbers = [8, 3, 1, 2, 5, 4, 7, 6]\n",
        "group = {2, 3, 5, 7}\n",
        "sort_priority(numbers, group)\n",
        "print(numbers)"
      ],
      "execution_count": 53,
      "outputs": [
        {
          "output_type": "stream",
          "text": [
            "False\n",
            "False\n",
            "False\n",
            "False\n",
            "[2, 3, 5, 7, 1, 4, 6, 8]\n"
          ],
          "name": "stdout"
        }
      ]
    },
    {
      "cell_type": "markdown",
      "metadata": {
        "id": "4At11nwfBA6g",
        "colab_type": "text"
      },
      "source": [
        "Assigning a value to a variable works differently. If the variable is already defined in the current function scope, then it will just take on the new value. If the variable doesn’t exist in the current scope, then Python treats the assignment as a variable definition. The scope of the newly defined variable is the function that contains the assignment."
      ]
    },
    {
      "cell_type": "markdown",
      "metadata": {
        "id": "8-pe0z8TBP8m",
        "colab_type": "text"
      },
      "source": [
        "Encountering this problem is sometimes called the scoping bug because it can be so surprising to newbies. But this is the intended result. This behavior prevents local variables in a function from polluting the containing module. Otherwise, every assignment within a function would put garbage into the global module scope. Not only would that be noise, but the interplay of the resulting global variables could cause obscure bugs."
      ]
    },
    {
      "cell_type": "markdown",
      "metadata": {
        "id": "4y0JDWnmBwwL",
        "colab_type": "text"
      },
      "source": [
        "In Python 3, there is special syntax for getting data out of a closure. The nonlocal statement is used to indicate that scope traversal should happen upon assignment for a specific variable name. The only limit is that nonlocal won’t traverse up to the module-level scope (to avoid polluting globals)."
      ]
    },
    {
      "cell_type": "code",
      "metadata": {
        "id": "haZG0_90B4pb",
        "colab_type": "code",
        "colab": {}
      },
      "source": [
        "def sort_priority3(numbers, group):\n",
        "    found = False\n",
        "    def helper(x):\n",
        "        nonlocal found\n",
        "        if x in group:\n",
        "            found = True\n",
        "            return (0, x)\n",
        "        return (1, x)\n",
        "    numbers.sort(key=helper)\n",
        "    return found, numbers"
      ],
      "execution_count": 0,
      "outputs": []
    },
    {
      "cell_type": "code",
      "metadata": {
        "id": "ZrzPgHAXCF-7",
        "colab_type": "code",
        "colab": {
          "base_uri": "https://localhost:8080/",
          "height": 34
        },
        "outputId": "44d0574e-8c1b-4f3a-dee3-3a29e020443e"
      },
      "source": [
        "numbers = [8, 3, 1, 2, 5, 4, 7, 6]\n",
        "group = {2, 3, 5, 7}\n",
        "found, numbers = sort_priority3(numbers, group)\n",
        "found"
      ],
      "execution_count": 63,
      "outputs": [
        {
          "output_type": "execute_result",
          "data": {
            "text/plain": [
              "True"
            ]
          },
          "metadata": {
            "tags": []
          },
          "execution_count": 63
        }
      ]
    },
    {
      "cell_type": "code",
      "metadata": {
        "id": "aihes5v9CVqa",
        "colab_type": "code",
        "colab": {
          "base_uri": "https://localhost:8080/",
          "height": 34
        },
        "outputId": "b0519e7b-070d-40c0-fd49-95ddce0566af"
      },
      "source": [
        "numbers"
      ],
      "execution_count": 64,
      "outputs": [
        {
          "output_type": "execute_result",
          "data": {
            "text/plain": [
              "[2, 3, 5, 7, 1, 4, 6, 8]"
            ]
          },
          "metadata": {
            "tags": []
          },
          "execution_count": 64
        }
      ]
    },
    {
      "cell_type": "markdown",
      "metadata": {
        "id": "ew14axzpCDbA",
        "colab_type": "text"
      },
      "source": [
        "However, much like the anti-pattern of global variables, I’d caution against using nonlocal for anything beyond simple functions. The side effects of nonlocal can be hard to follow. It’s especially hard to understand in long functions where the nonlocal statements and assignments to associated variables are far apart."
      ]
    },
    {
      "cell_type": "code",
      "metadata": {
        "id": "187_W2xUChKz",
        "colab_type": "code",
        "colab": {}
      },
      "source": [
        "class Sorter(object):\n",
        "    def __init__(self, group):\n",
        "        self.group = group\n",
        "        self.found = False\n",
        "\n",
        "    def __call__(self, x):\n",
        "        if x in self.group:\n",
        "            self.found = True\n",
        "            return (0, x)\n",
        "        return (1, x)\n",
        "\n",
        "sorter = Sorter(group)\n",
        "numbers.sort(key=sorter)\n",
        "assert sorter.found is True"
      ],
      "execution_count": 0,
      "outputs": []
    },
    {
      "cell_type": "markdown",
      "metadata": {
        "id": "DTbHqDd5TH-w",
        "colab_type": "text"
      },
      "source": [
        "#### Take advantage of try/catch/finally/else\n",
        "\n",
        "Use try/except/else/finally when you want to do it all in one compound statement. For example, say you want to read a description of work to do from a file, process it, and then update the file in place. Here, the try block is used to read the file and process it. The except block is used to handle exceptions from the try block that are expected. The else block is used to update the file in place and to allow related exceptions to propagate up. The finally block cleans up the file handle."
      ]
    },
    {
      "cell_type": "code",
      "metadata": {
        "id": "aUj_g95TTgnc",
        "colab_type": "code",
        "colab": {}
      },
      "source": [
        "UNDEFINED = object()\n",
        "\n",
        "def divide_json(path):\n",
        "    handle = open(path, 'r+')   # May raise IOError\n",
        "    try:\n",
        "        data = handle.read()    # May raise UnicodeDecodeError\n",
        "        op = json.loads(data)   # May raise ValueError\n",
        "        value = (\n",
        "            op['numerator'] /\n",
        "            op['denominator'])  # May raise ZeroDivisionError\n",
        "    except ZeroDivisionError as e:\n",
        "        return UNDEFINED\n",
        "    else:\n",
        "        op['result'] = value\n",
        "        result = json.dumps(op)\n",
        "        handle.seek(0)\n",
        "        handle.write(result)    # May raise IOError\n",
        "        return value\n",
        "    finally:\n",
        "        handle.close()          # Always runs"
      ],
      "execution_count": 0,
      "outputs": []
    },
    {
      "cell_type": "markdown",
      "metadata": {
        "id": "50CMqTVooScJ",
        "colab_type": "text"
      },
      "source": [
        "### Memory Management in python"
      ]
    },
    {
      "cell_type": "markdown",
      "metadata": {
        "id": "9qfMA-ftoZqC",
        "colab_type": "text"
      },
      "source": [
        "#### Use trace malloc to understand memory usage and leaks\n",
        "\n",
        "Memory management in the default implementation of Python, CPython, uses reference counting. This ensures that as soon as all references to an object have expired, the referenced object is also cleared. CPython also has a built-in cycle detector to ensure that self-referencing objects are eventually garbage collected.\n",
        "\n",
        "In theory, this means that most Python programmers don’t have to worry about allocating or deallocating memory in their programs. It’s taken care of automatically by the language and the CPython runtime. However, in practice, programs eventually do run out of memory due to held references. Figuring out where your Python programs are using or leaking memory proves to be a challenge.\n",
        "\n",
        "The first way to debug memory usage is to ask the gc built-in module to list every object currently known by the garbage collector. Although it’s quite a blunt tool, this approach does let you quickly get a sense of where your program’s memory is being used."
      ]
    },
    {
      "cell_type": "code",
      "metadata": {
        "id": "bT901euIn2s9",
        "colab_type": "code",
        "colab": {
          "base_uri": "https://localhost:8080/",
          "height": 34
        },
        "outputId": "d1739f6b-0d6b-48e8-b7a1-55d4ee0c272a"
      },
      "source": [
        "import gc\n",
        "found_objects = gc.get_objects()\n",
        "print('%d objects before' % len(found_objects))"
      ],
      "execution_count": 31,
      "outputs": [
        {
          "output_type": "stream",
          "text": [
            "128017 objects before\n"
          ],
          "name": "stdout"
        }
      ]
    },
    {
      "cell_type": "markdown",
      "metadata": {
        "id": "MsXxm1VzpMHi",
        "colab_type": "text"
      },
      "source": [
        "The tracemalloc built-in module provides powerful tools for understanding the source of memory usage."
      ]
    },
    {
      "cell_type": "markdown",
      "metadata": {
        "id": "qs6CbZu5qu1f",
        "colab_type": "text"
      },
      "source": [
        "### Documentation in python\n",
        "\n",
        "\n",
        "Each module should have a top-level docstring. This is a string literal that is the first statement in a source file. It should use three double quotes (\"\"\"). The goal of this docstring is to introduce the module and its contents.\n",
        "\n",
        "The first line of the docstring should be a single sentence describing the module’s purpose. The paragraphs that follow should contain the details that all users of the module should know about its operation. The module docstring is also a jumping-off point where you can highlight important classes and functions found in the module."
      ]
    },
    {
      "cell_type": "markdown",
      "metadata": {
        "id": "oFiAPgv2tUVL",
        "colab_type": "text"
      },
      "source": [
        "#### Library documentation"
      ]
    },
    {
      "cell_type": "code",
      "metadata": {
        "id": "5L2lR8BOtZc8",
        "colab_type": "code",
        "colab": {
          "base_uri": "https://localhost:8080/",
          "height": 54
        },
        "outputId": "514315c7-4b79-4759-c29d-abc396c695a5"
      },
      "source": [
        "# words.py\n",
        "#!/usr/bin/env python3\n",
        "\"\"\"Library for testing words for various linguistic patterns.\n",
        "\n",
        "Testing how words relate to each other can be tricky sometimes!\n",
        "This module provides easy ways to determine when words you've\n",
        "found have special properties.\n",
        "\n",
        "Available functions:\n",
        "- palindrome: Determine if a word is a palindrome.\n",
        "- check_anagram: Determine if two words are anagrams.\n",
        "...\n",
        "\"\"\"\n",
        "\n",
        "# ..."
      ],
      "execution_count": 40,
      "outputs": [
        {
          "output_type": "execute_result",
          "data": {
            "text/plain": [
              "\"Library for testing words for various linguistic patterns.\\n\\nTesting how words relate to each other can be tricky sometimes!\\nThis module provides easy ways to determine when words you've\\nfound have special properties.\\n\\nAvailable functions:\\n- palindrome: Determine if a word is a palindrome.\\n- check_anagram: Determine if two words are anagrams.\\n...\\n\""
            ]
          },
          "metadata": {
            "tags": []
          },
          "execution_count": 40
        }
      ]
    },
    {
      "cell_type": "markdown",
      "metadata": {
        "id": "KLylp3odtM-G",
        "colab_type": "text"
      },
      "source": [
        "####  Function documentation"
      ]
    },
    {
      "cell_type": "code",
      "metadata": {
        "id": "S40DpzdstQxo",
        "colab_type": "code",
        "colab": {}
      },
      "source": [
        "def find_anagrams(word, dictionary):\n",
        "    \"\"\"Find all anagrams for a word.\n",
        "\n",
        "    This function only runs as fast as the test for\n",
        "    membership in the 'dictionary' container. It will\n",
        "    be slow if the dictionary is a list and fast if\n",
        "    it's a set.\n",
        "\n",
        "    Args:\n",
        "        word: String of the target word.\n",
        "        dictionary: Container with all strings that\n",
        "            are known to be actual words.\n",
        "\n",
        "    Returns:\n",
        "        List of anagrams that were found. Empty if\n",
        "        none were found.\n",
        "    \"\"\"\n",
        "    # ..."
      ],
      "execution_count": 0,
      "outputs": []
    },
    {
      "cell_type": "code",
      "metadata": {
        "id": "gYSxbBMbo0ap",
        "colab_type": "code",
        "colab": {}
      },
      "source": [
        "def palindrome(word):\n",
        "    \"\"\"Return True if the given word is a palindrome.\"\"\"\n",
        "    return word == word[::-1]"
      ],
      "execution_count": 0,
      "outputs": []
    },
    {
      "cell_type": "code",
      "metadata": {
        "id": "9j7CnQi6qyQ7",
        "colab_type": "code",
        "colab": {
          "base_uri": "https://localhost:8080/",
          "height": 34
        },
        "outputId": "646749a5-633a-48c8-80e7-ac0014b1abcf"
      },
      "source": [
        "palindrome('nan')"
      ],
      "execution_count": 36,
      "outputs": [
        {
          "output_type": "execute_result",
          "data": {
            "text/plain": [
              "True"
            ]
          },
          "metadata": {
            "tags": []
          },
          "execution_count": 36
        }
      ]
    },
    {
      "cell_type": "code",
      "metadata": {
        "id": "xnKcJAQ1q2P1",
        "colab_type": "code",
        "colab": {
          "base_uri": "https://localhost:8080/",
          "height": 34
        },
        "outputId": "52a780e0-7872-433f-9f79-07ca1965277e"
      },
      "source": [
        "print(repr(palindrome.__doc__))"
      ],
      "execution_count": 37,
      "outputs": [
        {
          "output_type": "stream",
          "text": [
            "'Return True if the given word is a palindrome.'\n"
          ],
          "name": "stdout"
        }
      ]
    },
    {
      "cell_type": "markdown",
      "metadata": {
        "id": "h6g9UEJ1ssO9",
        "colab_type": "text"
      },
      "source": [
        "#### Class documentation\n",
        "\n",
        "Each class should have a class-level docstring. This largely follows the same pattern as the module-level docstring. The first line is the single-sentence purpose of the class. Paragraphs that follow discuss important details of the class’s operation.\n",
        "\n",
        "Important public attributes and methods of the class should be highlighted in the class-level docstring. It should also provide guidance to subclasses on how to properly interact with protected attributes (see Item 27: “Prefer Public Attributes Over Private Ones”) and the superclass’s methods.\n",
        "\n"
      ]
    },
    {
      "cell_type": "code",
      "metadata": {
        "id": "HYh4AzoNrlpO",
        "colab_type": "code",
        "colab": {}
      },
      "source": [
        "class Player(object):\n",
        "    \"\"\"Represents a player of the game.\n",
        "\n",
        "    Subclasses may override the 'tick' method to provide\n",
        "    custom animations for the player's movement depending\n",
        "    on their power level, etc.\n",
        "\n",
        "    Public attributes:\n",
        "    - power: Unused power-ups (float between 0 and 1).\n",
        "    - coins: Coins found during the level (integer).\n",
        "    \"\"\"\n",
        "\n",
        "    # ..."
      ],
      "execution_count": 0,
      "outputs": []
    },
    {
      "cell_type": "markdown",
      "metadata": {
        "id": "Ks-TfojPUonh",
        "colab_type": "text"
      },
      "source": [
        "### Namespace in python\n",
        "Approach 1 : The as clause can be used to rename anything you retrieve with the import statement, including entire modules. This makes it easy to access namespaced code and make its identity clear when you use it.\n",
        "\n",
        "Approach 2 : Another approach for avoiding imported name conflicts is to always access names by their highest unique module name.\n",
        "\n",
        "For the example above, you’d first import analysis.utils and import frontend.utils. Then, you’d access the inspect functions with the full paths of analysis.utils.inspect and frontend.utils.inspect.\n",
        "\n",
        "This approach allows you to avoid the as clause altogether. It also makes it abundantly clear to new readers of the code where each function is defined."
      ]
    },
    {
      "cell_type": "code",
      "metadata": {
        "id": "b43HPvRhs2W9",
        "colab_type": "code",
        "colab": {}
      },
      "source": [
        "import numpy as np"
      ],
      "execution_count": 0,
      "outputs": []
    },
    {
      "cell_type": "markdown",
      "metadata": {
        "id": "94AV1evCVBPv",
        "colab_type": "text"
      },
      "source": [
        "The safest approach is to avoid import * in your code and explicitly import names with the from x import y style."
      ]
    },
    {
      "cell_type": "markdown",
      "metadata": {
        "id": "-DS7_hGljlZR",
        "colab_type": "text"
      },
      "source": [
        "### Classes in python"
      ]
    },
    {
      "cell_type": "code",
      "metadata": {
        "id": "Ov_9u6kqUnI9",
        "colab_type": "code",
        "colab": {}
      },
      "source": [
        "class SimpleGradebook(object):\n",
        "    def __init__(self):\n",
        "        self._grades = {}\n",
        "\n",
        "    def add_student(self, name):\n",
        "        self._grades[name] = []\n",
        "\n",
        "    def report_grade(self, name, score):\n",
        "        self._grades[name].append(score)\n",
        "\n",
        "    def average_grade(self, name):\n",
        "        grades = self._grades[name]\n",
        "        return sum(grades) / len(grades)"
      ],
      "execution_count": 0,
      "outputs": []
    },
    {
      "cell_type": "code",
      "metadata": {
        "id": "4G-bHeLFjoqd",
        "colab_type": "code",
        "colab": {
          "base_uri": "https://localhost:8080/",
          "height": 34
        },
        "outputId": "74e83d96-0f8c-486f-9e25-7ec817b24276"
      },
      "source": [
        "book = SimpleGradebook()\n",
        "book.add_student('Isaac Newton')\n",
        "book.report_grade('Isaac Newton', 90)\n",
        "book.report_grade('Isaac Newton', 80)\n",
        "# ...\n",
        "print(book.average_grade('Isaac Newton'))"
      ],
      "execution_count": 127,
      "outputs": [
        {
          "output_type": "stream",
          "text": [
            "85.0\n"
          ],
          "name": "stdout"
        }
      ]
    },
    {
      "cell_type": "markdown",
      "metadata": {
        "id": "Nm6Z27wymHBp",
        "colab_type": "text"
      },
      "source": [
        "#### Use plain attributes instead of get and set, use property and setter only when required\n",
        "In Python, however, you almost never need to implement explicit setter or getter methods. Instead, you should always start your implementations with simple public attributes.\n",
        "\n"
      ]
    },
    {
      "cell_type": "code",
      "metadata": {
        "id": "alXJLsR4mp3N",
        "colab_type": "code",
        "colab": {}
      },
      "source": [
        "#notrecommended\n",
        "\n",
        "class OldResistor(object):\n",
        "    def __init__(self, ohms):\n",
        "        self._ohms = ohms\n",
        "\n",
        "    def get_ohms(self):\n",
        "        return self._ohms\n",
        "\n",
        "    def set_ohms(self, ohms):\n",
        "        self._ohms = ohms"
      ],
      "execution_count": 0,
      "outputs": []
    },
    {
      "cell_type": "code",
      "metadata": {
        "id": "Oc2I_UwxmDU4",
        "colab_type": "code",
        "colab": {
          "base_uri": "https://localhost:8080/",
          "height": 34
        },
        "outputId": "aaddb406-fdec-49af-aefb-6c320d3754ec"
      },
      "source": [
        "#recommended\n",
        "class Resistor(object):\n",
        "    def __init__(self, ohms):\n",
        "        self.ohms = ohms\n",
        "        self.voltage = 0\n",
        "        self.current = 0\n",
        "\n",
        "r1 = Resistor(50e3)\n",
        "r1.ohms = 10e3\n",
        "r1.ohms "
      ],
      "execution_count": 139,
      "outputs": [
        {
          "output_type": "execute_result",
          "data": {
            "text/plain": [
              "10000.0"
            ]
          },
          "metadata": {
            "tags": []
          },
          "execution_count": 139
        }
      ]
    },
    {
      "cell_type": "markdown",
      "metadata": {
        "id": "DaNGsrAxm-YN",
        "colab_type": "text"
      },
      "source": [
        "#### Using @property decorator and its corresponding setter attribute"
      ]
    },
    {
      "cell_type": "markdown",
      "metadata": {
        "id": "qSZaVKT6m8LN",
        "colab_type": "text"
      },
      "source": [
        "Later, if you decide you need special behavior when an attribute is set, you can migrate to the @property decorator and its corresponding setter attribute. Here, I define a new subclass of Resistor that lets me vary the current by assigning the voltage property. Note that in order to work properly the name of both the setter and getter methods must match the intended property name."
      ]
    },
    {
      "cell_type": "code",
      "metadata": {
        "id": "zpIFhoRynBl8",
        "colab_type": "code",
        "colab": {}
      },
      "source": [
        "class VoltageResistance(Resistor):\n",
        "  \n",
        "    def __init__(self, ohms):\n",
        "        super().__init__(ohms)\n",
        "        self._voltage = 0\n",
        "        \n",
        "    @property\n",
        "    def voltage(self):\n",
        "        print(\"hello from voltage\")\n",
        "        return self._voltage\n",
        "\n",
        "    @voltage.setter\n",
        "    def voltage(self, voltage):\n",
        "        self._voltage = voltage\n",
        "        self.current = self._voltage / self.ohms"
      ],
      "execution_count": 0,
      "outputs": []
    },
    {
      "cell_type": "code",
      "metadata": {
        "id": "HFZoxPDYnM-h",
        "colab_type": "code",
        "colab": {
          "base_uri": "https://localhost:8080/",
          "height": 85
        },
        "outputId": "5d4fbcfc-2810-4f91-e276-639ee1efe455"
      },
      "source": [
        "r2 = VoltageResistance(1e3)\n",
        "print('Before: %5r amps' % r2.current)\n",
        "r2.voltage = 10\n",
        "print('After:  %5r V' % r2.voltage)\n",
        "print('After:  %5r amps' % r2.current)"
      ],
      "execution_count": 138,
      "outputs": [
        {
          "output_type": "stream",
          "text": [
            "Before:     0 amps\n",
            "hello from voltage\n",
            "After:     10 V\n",
            "After:   0.01 amps\n"
          ],
          "name": "stdout"
        }
      ]
    },
    {
      "cell_type": "markdown",
      "metadata": {
        "id": "2YIyu4GLnlXI",
        "colab_type": "text"
      },
      "source": [
        "##### Use setter for type checking before setting\n",
        "\n",
        "Specifying a setter on a property also lets you perform type checking and validation on values passed to your class. "
      ]
    },
    {
      "cell_type": "code",
      "metadata": {
        "id": "FJsAVFPanqtN",
        "colab_type": "code",
        "colab": {
          "base_uri": "https://localhost:8080/",
          "height": 317
        },
        "outputId": "519d2e9b-4c61-474e-aeab-ed7ca0a2694c"
      },
      "source": [
        "class BoundedResistance(Resistor):\n",
        "    def __init__(self, ohms):\n",
        "        super().__init__(ohms)\n",
        "\n",
        "    @property\n",
        "    def ohms(self):\n",
        "        return self._ohms\n",
        "\n",
        "    @ohms.setter\n",
        "    def ohms(self, ohms):\n",
        "        if ohms <= 0:\n",
        "            raise ValueError('%f ohms must be > 0' % ohms)\n",
        "        self._ohms = ohms\n",
        "        \n",
        "r3 = BoundedResistance(1e3)\n",
        "r3.ohms = 0\n"
      ],
      "execution_count": 141,
      "outputs": [
        {
          "output_type": "error",
          "ename": "ValueError",
          "evalue": "ignored",
          "traceback": [
            "\u001b[0;31m---------------------------------------------------------------------------\u001b[0m",
            "\u001b[0;31mValueError\u001b[0m                                Traceback (most recent call last)",
            "\u001b[0;32m<ipython-input-141-3d8735dbc1ea>\u001b[0m in \u001b[0;36m<module>\u001b[0;34m()\u001b[0m\n\u001b[1;32m     14\u001b[0m \u001b[0;34m\u001b[0m\u001b[0m\n\u001b[1;32m     15\u001b[0m \u001b[0mr3\u001b[0m \u001b[0;34m=\u001b[0m \u001b[0mBoundedResistance\u001b[0m\u001b[0;34m(\u001b[0m\u001b[0;36m1e3\u001b[0m\u001b[0;34m)\u001b[0m\u001b[0;34m\u001b[0m\u001b[0;34m\u001b[0m\u001b[0m\n\u001b[0;32m---> 16\u001b[0;31m \u001b[0mr3\u001b[0m\u001b[0;34m.\u001b[0m\u001b[0mohms\u001b[0m \u001b[0;34m=\u001b[0m \u001b[0;36m0\u001b[0m\u001b[0;34m\u001b[0m\u001b[0;34m\u001b[0m\u001b[0m\n\u001b[0m",
            "\u001b[0;32m<ipython-input-141-3d8735dbc1ea>\u001b[0m in \u001b[0;36mohms\u001b[0;34m(self, ohms)\u001b[0m\n\u001b[1;32m     10\u001b[0m     \u001b[0;32mdef\u001b[0m \u001b[0mohms\u001b[0m\u001b[0;34m(\u001b[0m\u001b[0mself\u001b[0m\u001b[0;34m,\u001b[0m \u001b[0mohms\u001b[0m\u001b[0;34m)\u001b[0m\u001b[0;34m:\u001b[0m\u001b[0;34m\u001b[0m\u001b[0;34m\u001b[0m\u001b[0m\n\u001b[1;32m     11\u001b[0m         \u001b[0;32mif\u001b[0m \u001b[0mohms\u001b[0m \u001b[0;34m<=\u001b[0m \u001b[0;36m0\u001b[0m\u001b[0;34m:\u001b[0m\u001b[0;34m\u001b[0m\u001b[0;34m\u001b[0m\u001b[0m\n\u001b[0;32m---> 12\u001b[0;31m             \u001b[0;32mraise\u001b[0m \u001b[0mValueError\u001b[0m\u001b[0;34m(\u001b[0m\u001b[0;34m'%f ohms must be > 0'\u001b[0m \u001b[0;34m%\u001b[0m \u001b[0mohms\u001b[0m\u001b[0;34m)\u001b[0m\u001b[0;34m\u001b[0m\u001b[0;34m\u001b[0m\u001b[0m\n\u001b[0m\u001b[1;32m     13\u001b[0m         \u001b[0mself\u001b[0m\u001b[0;34m.\u001b[0m\u001b[0m_ohms\u001b[0m \u001b[0;34m=\u001b[0m \u001b[0mohms\u001b[0m\u001b[0;34m\u001b[0m\u001b[0;34m\u001b[0m\u001b[0m\n\u001b[1;32m     14\u001b[0m \u001b[0;34m\u001b[0m\u001b[0m\n",
            "\u001b[0;31mValueError\u001b[0m: 0.000000 ohms must be > 0"
          ]
        }
      ]
    },
    {
      "cell_type": "code",
      "metadata": {
        "id": "1kEz2dKJoErJ",
        "colab_type": "code",
        "colab": {
          "base_uri": "https://localhost:8080/",
          "height": 307
        },
        "outputId": "d5237559-c7b9-4b20-9021-46c1367536e3"
      },
      "source": [
        "BoundedResistance(-5)"
      ],
      "execution_count": 142,
      "outputs": [
        {
          "output_type": "error",
          "ename": "ValueError",
          "evalue": "ignored",
          "traceback": [
            "\u001b[0;31m---------------------------------------------------------------------------\u001b[0m",
            "\u001b[0;31mValueError\u001b[0m                                Traceback (most recent call last)",
            "\u001b[0;32m<ipython-input-142-9fc5cf3426e1>\u001b[0m in \u001b[0;36m<module>\u001b[0;34m()\u001b[0m\n\u001b[0;32m----> 1\u001b[0;31m \u001b[0mBoundedResistance\u001b[0m\u001b[0;34m(\u001b[0m\u001b[0;34m-\u001b[0m\u001b[0;36m5\u001b[0m\u001b[0;34m)\u001b[0m\u001b[0;34m\u001b[0m\u001b[0;34m\u001b[0m\u001b[0m\n\u001b[0m",
            "\u001b[0;32m<ipython-input-141-3d8735dbc1ea>\u001b[0m in \u001b[0;36m__init__\u001b[0;34m(self, ohms)\u001b[0m\n\u001b[1;32m      1\u001b[0m \u001b[0;32mclass\u001b[0m \u001b[0mBoundedResistance\u001b[0m\u001b[0;34m(\u001b[0m\u001b[0mResistor\u001b[0m\u001b[0;34m)\u001b[0m\u001b[0;34m:\u001b[0m\u001b[0;34m\u001b[0m\u001b[0;34m\u001b[0m\u001b[0m\n\u001b[1;32m      2\u001b[0m     \u001b[0;32mdef\u001b[0m \u001b[0m__init__\u001b[0m\u001b[0;34m(\u001b[0m\u001b[0mself\u001b[0m\u001b[0;34m,\u001b[0m \u001b[0mohms\u001b[0m\u001b[0;34m)\u001b[0m\u001b[0;34m:\u001b[0m\u001b[0;34m\u001b[0m\u001b[0;34m\u001b[0m\u001b[0m\n\u001b[0;32m----> 3\u001b[0;31m         \u001b[0msuper\u001b[0m\u001b[0;34m(\u001b[0m\u001b[0;34m)\u001b[0m\u001b[0;34m.\u001b[0m\u001b[0m__init__\u001b[0m\u001b[0;34m(\u001b[0m\u001b[0mohms\u001b[0m\u001b[0;34m)\u001b[0m\u001b[0;34m\u001b[0m\u001b[0;34m\u001b[0m\u001b[0m\n\u001b[0m\u001b[1;32m      4\u001b[0m \u001b[0;34m\u001b[0m\u001b[0m\n\u001b[1;32m      5\u001b[0m     \u001b[0;34m@\u001b[0m\u001b[0mproperty\u001b[0m\u001b[0;34m\u001b[0m\u001b[0;34m\u001b[0m\u001b[0m\n",
            "\u001b[0;32m<ipython-input-139-142169e34133>\u001b[0m in \u001b[0;36m__init__\u001b[0;34m(self, ohms)\u001b[0m\n\u001b[1;32m      1\u001b[0m \u001b[0;32mclass\u001b[0m \u001b[0mResistor\u001b[0m\u001b[0;34m(\u001b[0m\u001b[0mobject\u001b[0m\u001b[0;34m)\u001b[0m\u001b[0;34m:\u001b[0m\u001b[0;34m\u001b[0m\u001b[0;34m\u001b[0m\u001b[0m\n\u001b[1;32m      2\u001b[0m     \u001b[0;32mdef\u001b[0m \u001b[0m__init__\u001b[0m\u001b[0;34m(\u001b[0m\u001b[0mself\u001b[0m\u001b[0;34m,\u001b[0m \u001b[0mohms\u001b[0m\u001b[0;34m)\u001b[0m\u001b[0;34m:\u001b[0m\u001b[0;34m\u001b[0m\u001b[0;34m\u001b[0m\u001b[0m\n\u001b[0;32m----> 3\u001b[0;31m         \u001b[0mself\u001b[0m\u001b[0;34m.\u001b[0m\u001b[0mohms\u001b[0m \u001b[0;34m=\u001b[0m \u001b[0mohms\u001b[0m\u001b[0;34m\u001b[0m\u001b[0;34m\u001b[0m\u001b[0m\n\u001b[0m\u001b[1;32m      4\u001b[0m         \u001b[0mself\u001b[0m\u001b[0;34m.\u001b[0m\u001b[0mvoltage\u001b[0m \u001b[0;34m=\u001b[0m \u001b[0;36m0\u001b[0m\u001b[0;34m\u001b[0m\u001b[0;34m\u001b[0m\u001b[0m\n\u001b[1;32m      5\u001b[0m         \u001b[0mself\u001b[0m\u001b[0;34m.\u001b[0m\u001b[0mcurrent\u001b[0m \u001b[0;34m=\u001b[0m \u001b[0;36m0\u001b[0m\u001b[0;34m\u001b[0m\u001b[0;34m\u001b[0m\u001b[0m\n",
            "\u001b[0;32m<ipython-input-141-3d8735dbc1ea>\u001b[0m in \u001b[0;36mohms\u001b[0;34m(self, ohms)\u001b[0m\n\u001b[1;32m     10\u001b[0m     \u001b[0;32mdef\u001b[0m \u001b[0mohms\u001b[0m\u001b[0;34m(\u001b[0m\u001b[0mself\u001b[0m\u001b[0;34m,\u001b[0m \u001b[0mohms\u001b[0m\u001b[0;34m)\u001b[0m\u001b[0;34m:\u001b[0m\u001b[0;34m\u001b[0m\u001b[0;34m\u001b[0m\u001b[0m\n\u001b[1;32m     11\u001b[0m         \u001b[0;32mif\u001b[0m \u001b[0mohms\u001b[0m \u001b[0;34m<=\u001b[0m \u001b[0;36m0\u001b[0m\u001b[0;34m:\u001b[0m\u001b[0;34m\u001b[0m\u001b[0;34m\u001b[0m\u001b[0m\n\u001b[0;32m---> 12\u001b[0;31m             \u001b[0;32mraise\u001b[0m \u001b[0mValueError\u001b[0m\u001b[0;34m(\u001b[0m\u001b[0;34m'%f ohms must be > 0'\u001b[0m \u001b[0;34m%\u001b[0m \u001b[0mohms\u001b[0m\u001b[0;34m)\u001b[0m\u001b[0;34m\u001b[0m\u001b[0;34m\u001b[0m\u001b[0m\n\u001b[0m\u001b[1;32m     13\u001b[0m         \u001b[0mself\u001b[0m\u001b[0;34m.\u001b[0m\u001b[0m_ohms\u001b[0m \u001b[0;34m=\u001b[0m \u001b[0mohms\u001b[0m\u001b[0;34m\u001b[0m\u001b[0;34m\u001b[0m\u001b[0m\n\u001b[1;32m     14\u001b[0m \u001b[0;34m\u001b[0m\u001b[0m\n",
            "\u001b[0;31mValueError\u001b[0m: -5.000000 ohms must be > 0"
          ]
        }
      ]
    },
    {
      "cell_type": "markdown",
      "metadata": {
        "id": "-rBU1AaqoK93",
        "colab_type": "text"
      },
      "source": [
        "This happens because BoundedResistance.__init__ calls Resistor.__init__, which assigns self.ohms = -5. That assignment causes the @ohms.setter method from BoundedResistance to be called, immediately running the validation code before object construction has completed."
      ]
    },
    {
      "cell_type": "markdown",
      "metadata": {
        "id": "JUY2iI-HoOE8",
        "colab_type": "text"
      },
      "source": [
        "##### You can even use @property to make attributes from parent classes immutable."
      ]
    },
    {
      "cell_type": "code",
      "metadata": {
        "id": "if3Ym55QoVmR",
        "colab_type": "code",
        "colab": {
          "base_uri": "https://localhost:8080/",
          "height": 317
        },
        "outputId": "8594d855-0a26-4b53-c849-0e92d6c079c3"
      },
      "source": [
        "class FixedResistance(Resistor):\n",
        "    # ...\n",
        "    @property\n",
        "    def ohms(self):\n",
        "        return self._ohms\n",
        "\n",
        "    @ohms.setter\n",
        "    def ohms(self, ohms):\n",
        "        if hasattr(self, '_ohms'):\n",
        "            raise AttributeError(\"Can't set attribute\")\n",
        "        self._ohms = ohms\n",
        "        \n",
        "r4 = FixedResistance(1e3)\n",
        "r4.ohms = 2e3"
      ],
      "execution_count": 144,
      "outputs": [
        {
          "output_type": "error",
          "ename": "AttributeError",
          "evalue": "ignored",
          "traceback": [
            "\u001b[0;31m---------------------------------------------------------------------------\u001b[0m",
            "\u001b[0;31mAttributeError\u001b[0m                            Traceback (most recent call last)",
            "\u001b[0;32m<ipython-input-144-d77536c8a9ef>\u001b[0m in \u001b[0;36m<module>\u001b[0;34m()\u001b[0m\n\u001b[1;32m     12\u001b[0m \u001b[0;34m\u001b[0m\u001b[0m\n\u001b[1;32m     13\u001b[0m \u001b[0mr4\u001b[0m \u001b[0;34m=\u001b[0m \u001b[0mFixedResistance\u001b[0m\u001b[0;34m(\u001b[0m\u001b[0;36m1e3\u001b[0m\u001b[0;34m)\u001b[0m\u001b[0;34m\u001b[0m\u001b[0;34m\u001b[0m\u001b[0m\n\u001b[0;32m---> 14\u001b[0;31m \u001b[0mr4\u001b[0m\u001b[0;34m.\u001b[0m\u001b[0mohms\u001b[0m \u001b[0;34m=\u001b[0m \u001b[0;36m2e3\u001b[0m\u001b[0;34m\u001b[0m\u001b[0;34m\u001b[0m\u001b[0m\n\u001b[0m",
            "\u001b[0;32m<ipython-input-144-d77536c8a9ef>\u001b[0m in \u001b[0;36mohms\u001b[0;34m(self, ohms)\u001b[0m\n\u001b[1;32m      8\u001b[0m     \u001b[0;32mdef\u001b[0m \u001b[0mohms\u001b[0m\u001b[0;34m(\u001b[0m\u001b[0mself\u001b[0m\u001b[0;34m,\u001b[0m \u001b[0mohms\u001b[0m\u001b[0;34m)\u001b[0m\u001b[0;34m:\u001b[0m\u001b[0;34m\u001b[0m\u001b[0;34m\u001b[0m\u001b[0m\n\u001b[1;32m      9\u001b[0m         \u001b[0;32mif\u001b[0m \u001b[0mhasattr\u001b[0m\u001b[0;34m(\u001b[0m\u001b[0mself\u001b[0m\u001b[0;34m,\u001b[0m \u001b[0;34m'_ohms'\u001b[0m\u001b[0;34m)\u001b[0m\u001b[0;34m:\u001b[0m\u001b[0;34m\u001b[0m\u001b[0;34m\u001b[0m\u001b[0m\n\u001b[0;32m---> 10\u001b[0;31m             \u001b[0;32mraise\u001b[0m \u001b[0mAttributeError\u001b[0m\u001b[0;34m(\u001b[0m\u001b[0;34m\"Can't set attribute\"\u001b[0m\u001b[0;34m)\u001b[0m\u001b[0;34m\u001b[0m\u001b[0;34m\u001b[0m\u001b[0m\n\u001b[0m\u001b[1;32m     11\u001b[0m         \u001b[0mself\u001b[0m\u001b[0;34m.\u001b[0m\u001b[0m_ohms\u001b[0m \u001b[0;34m=\u001b[0m \u001b[0mohms\u001b[0m\u001b[0;34m\u001b[0m\u001b[0;34m\u001b[0m\u001b[0m\n\u001b[1;32m     12\u001b[0m \u001b[0;34m\u001b[0m\u001b[0m\n",
            "\u001b[0;31mAttributeError\u001b[0m: Can't set attribute"
          ]
        }
      ]
    },
    {
      "cell_type": "markdown",
      "metadata": {
        "id": "vKtRe9FbpdV6",
        "colab_type": "text"
      },
      "source": [
        "#### Prefer public attributes over private ones\n",
        "\n",
        "In Python, there are only two types of attribute visibility for a class’s attributes: public and private.\n",
        "\n",
        "Public attributes can be accessed by anyone using the dot operator on the object.\n",
        "\n",
        "Private fields are specified by prefixing an attribute’s name with a double underscore. They can be accessed directly by methods of the containing class."
      ]
    },
    {
      "cell_type": "code",
      "metadata": {
        "id": "RSicxWtopkcO",
        "colab_type": "code",
        "colab": {}
      },
      "source": [
        "class MyObject():\n",
        "    def __init__(self):\n",
        "        self.public_field = 5\n",
        "        self.__private_field = 10\n",
        "\n",
        "    def get_private_field(self):\n",
        "        return self.__private_field"
      ],
      "execution_count": 0,
      "outputs": []
    },
    {
      "cell_type": "code",
      "metadata": {
        "id": "AQhsm3Ampq3z",
        "colab_type": "code",
        "colab": {
          "base_uri": "https://localhost:8080/",
          "height": 34
        },
        "outputId": "f0bf45ba-de9e-4ed0-c15d-4b8a360b8dd1"
      },
      "source": [
        "foo = MyObject()\n",
        "foo.public_field"
      ],
      "execution_count": 148,
      "outputs": [
        {
          "output_type": "execute_result",
          "data": {
            "text/plain": [
              "5"
            ]
          },
          "metadata": {
            "tags": []
          },
          "execution_count": 148
        }
      ]
    },
    {
      "cell_type": "code",
      "metadata": {
        "id": "5jDHL02eq3lC",
        "colab_type": "code",
        "colab": {
          "base_uri": "https://localhost:8080/",
          "height": 164
        },
        "outputId": "c1a75114-fa29-48cd-fd98-5713ade8ceef"
      },
      "source": [
        "#Looks like you cant access private fields\n",
        "foo.__private_field"
      ],
      "execution_count": 154,
      "outputs": [
        {
          "output_type": "error",
          "ename": "AttributeError",
          "evalue": "ignored",
          "traceback": [
            "\u001b[0;31m---------------------------------------------------------------------------\u001b[0m",
            "\u001b[0;31mAttributeError\u001b[0m                            Traceback (most recent call last)",
            "\u001b[0;32m<ipython-input-154-a888a87e4048>\u001b[0m in \u001b[0;36m<module>\u001b[0;34m()\u001b[0m\n\u001b[0;32m----> 1\u001b[0;31m \u001b[0mfoo\u001b[0m\u001b[0;34m.\u001b[0m\u001b[0m__private_field\u001b[0m\u001b[0;34m\u001b[0m\u001b[0;34m\u001b[0m\u001b[0m\n\u001b[0m",
            "\u001b[0;31mAttributeError\u001b[0m: 'MyObject' object has no attribute '__private_field'"
          ]
        }
      ]
    },
    {
      "cell_type": "code",
      "metadata": {
        "id": "5_H0cFZypzC9",
        "colab_type": "code",
        "colab": {
          "base_uri": "https://localhost:8080/",
          "height": 34
        },
        "outputId": "ebcf0202-0605-4a10-d769-d48120df907e"
      },
      "source": [
        "#BUT YOU CAN\n",
        "foo._MyObject__private_field"
      ],
      "execution_count": 155,
      "outputs": [
        {
          "output_type": "execute_result",
          "data": {
            "text/plain": [
              "10"
            ]
          },
          "metadata": {
            "tags": []
          },
          "execution_count": 155
        }
      ]
    },
    {
      "cell_type": "code",
      "metadata": {
        "id": "fn5qGWtNp8Gv",
        "colab_type": "code",
        "colab": {
          "base_uri": "https://localhost:8080/",
          "height": 34
        },
        "outputId": "8534ddc7-0011-4477-922c-6f5188f90ca3"
      },
      "source": [
        "foo.get_private_field()"
      ],
      "execution_count": 150,
      "outputs": [
        {
          "output_type": "execute_result",
          "data": {
            "text/plain": [
              "10"
            ]
          },
          "metadata": {
            "tags": []
          },
          "execution_count": 150
        }
      ]
    },
    {
      "cell_type": "markdown",
      "metadata": {
        "id": "faStcXgZrMSe",
        "colab_type": "text"
      },
      "source": [
        "If you look in the object’s attribute dictionary, you’ll see that private attributes are actually stored with the names as they appear after the transformation."
      ]
    },
    {
      "cell_type": "code",
      "metadata": {
        "id": "TefgNrdfrHxa",
        "colab_type": "code",
        "colab": {
          "base_uri": "https://localhost:8080/",
          "height": 34
        },
        "outputId": "e4a29e83-85fc-4e57-856d-5dd6044ddf41"
      },
      "source": [
        "print(foo.__dict__)"
      ],
      "execution_count": 156,
      "outputs": [
        {
          "output_type": "stream",
          "text": [
            "{'public_field': 5, '_MyObject__private_field': 10}\n"
          ],
          "name": "stdout"
        }
      ]
    },
    {
      "cell_type": "markdown",
      "metadata": {
        "id": "Ca6GpX2Sqeq0",
        "colab_type": "text"
      },
      "source": [
        "##### Subclass cant access parent class private"
      ]
    },
    {
      "cell_type": "code",
      "metadata": {
        "id": "gEmHqVwTqdgF",
        "colab_type": "code",
        "colab": {
          "base_uri": "https://localhost:8080/",
          "height": 317
        },
        "outputId": "8808d6e2-423b-4b61-8f68-905a17a39401"
      },
      "source": [
        "class MyParentObject(object):\n",
        "    def __init__(self):\n",
        "        self.__private_field = 71\n",
        "\n",
        "class MyChildObject(MyParentObject):\n",
        "    def get_private_field(self):\n",
        "        return self.__private_field\n",
        "\n",
        "baz = MyChildObject()\n",
        "baz.get_private_field()"
      ],
      "execution_count": 152,
      "outputs": [
        {
          "output_type": "error",
          "ename": "AttributeError",
          "evalue": "ignored",
          "traceback": [
            "\u001b[0;31m---------------------------------------------------------------------------\u001b[0m",
            "\u001b[0;31mAttributeError\u001b[0m                            Traceback (most recent call last)",
            "\u001b[0;32m<ipython-input-152-12d690c81381>\u001b[0m in \u001b[0;36m<module>\u001b[0;34m()\u001b[0m\n\u001b[1;32m      8\u001b[0m \u001b[0;34m\u001b[0m\u001b[0m\n\u001b[1;32m      9\u001b[0m \u001b[0mbaz\u001b[0m \u001b[0;34m=\u001b[0m \u001b[0mMyChildObject\u001b[0m\u001b[0;34m(\u001b[0m\u001b[0;34m)\u001b[0m\u001b[0;34m\u001b[0m\u001b[0;34m\u001b[0m\u001b[0m\n\u001b[0;32m---> 10\u001b[0;31m \u001b[0mbaz\u001b[0m\u001b[0;34m.\u001b[0m\u001b[0mget_private_field\u001b[0m\u001b[0;34m(\u001b[0m\u001b[0;34m)\u001b[0m\u001b[0;34m\u001b[0m\u001b[0;34m\u001b[0m\u001b[0m\n\u001b[0m",
            "\u001b[0;32m<ipython-input-152-12d690c81381>\u001b[0m in \u001b[0;36mget_private_field\u001b[0;34m(self)\u001b[0m\n\u001b[1;32m      5\u001b[0m \u001b[0;32mclass\u001b[0m \u001b[0mMyChildObject\u001b[0m\u001b[0;34m(\u001b[0m\u001b[0mMyParentObject\u001b[0m\u001b[0;34m)\u001b[0m\u001b[0;34m:\u001b[0m\u001b[0;34m\u001b[0m\u001b[0;34m\u001b[0m\u001b[0m\n\u001b[1;32m      6\u001b[0m     \u001b[0;32mdef\u001b[0m \u001b[0mget_private_field\u001b[0m\u001b[0;34m(\u001b[0m\u001b[0mself\u001b[0m\u001b[0;34m)\u001b[0m\u001b[0;34m:\u001b[0m\u001b[0;34m\u001b[0m\u001b[0;34m\u001b[0m\u001b[0m\n\u001b[0;32m----> 7\u001b[0;31m         \u001b[0;32mreturn\u001b[0m \u001b[0mself\u001b[0m\u001b[0;34m.\u001b[0m\u001b[0m__private_field\u001b[0m\u001b[0;34m\u001b[0m\u001b[0;34m\u001b[0m\u001b[0m\n\u001b[0m\u001b[1;32m      8\u001b[0m \u001b[0;34m\u001b[0m\u001b[0m\n\u001b[1;32m      9\u001b[0m \u001b[0mbaz\u001b[0m \u001b[0;34m=\u001b[0m \u001b[0mMyChildObject\u001b[0m\u001b[0;34m(\u001b[0m\u001b[0;34m)\u001b[0m\u001b[0;34m\u001b[0m\u001b[0;34m\u001b[0m\u001b[0m\n",
            "\u001b[0;31mAttributeError\u001b[0m: 'MyChildObject' object has no attribute '_MyChildObject__private_field'"
          ]
        }
      ]
    },
    {
      "cell_type": "markdown",
      "metadata": {
        "id": "iMuZ4KJusCof",
        "colab_type": "text"
      },
      "source": [
        "##### But private variables can be accessed directly - wow, how is that?"
      ]
    },
    {
      "cell_type": "code",
      "metadata": {
        "id": "epN2ePL9qjOJ",
        "colab_type": "code",
        "colab": {}
      },
      "source": [
        "#BUT YOU CAN!!\n",
        "assert baz._MyParentObject__private_field == 71"
      ],
      "execution_count": 0,
      "outputs": []
    },
    {
      "cell_type": "markdown",
      "metadata": {
        "id": "rQGm3In4sR3c",
        "colab_type": "text"
      },
      "source": [
        "##### And why?"
      ]
    },
    {
      "cell_type": "markdown",
      "metadata": {
        "id": "yh1lQ-u1r3nK",
        "colab_type": "text"
      },
      "source": [
        "Why doesn’t the syntax for private attributes actually enforce strict visibility? The simplest answer is one often-quoted motto of Python: “We are all consenting adults here.” Python programmers believe that the benefits of being open outweigh the downsides of being closed."
      ]
    },
    {
      "cell_type": "markdown",
      "metadata": {
        "id": "e-0Ts3SWr9nX",
        "colab_type": "text"
      },
      "source": [
        "Beyond that, having the ability to hook language features like attribute access (see Item 32: “Use __getattr__, __getattribute__, and __setattr__ for Lazy Attributes”) enables you to mess around with the internals of objects whenever you wish. If you can do that, what is the value of Python trying to prevent private attribute access otherwise?\n",
        "\n",
        "To minimize the damage of accessing internals unknowingly, Python programmers follow a naming convention defined in the style guide (see Item 2: “Follow the PEP 8 Style Guide”). Fields prefixed by a single underscore (like _protected_field) are protected, meaning external users of the class should proceed with caution.\n",
        "\n",
        "However, many programmers who are new to Python use private fields to indicate an internal API that shouldn’t be accessed by subclasses or externally."
      ]
    },
    {
      "cell_type": "markdown",
      "metadata": {
        "id": "Lm_xUNfvss0S",
        "colab_type": "text"
      },
      "source": [
        "##### Summary\n",
        "\n",
        "Private attributes aren’t rigorously enforced by the Python compiler.\n",
        "\n",
        "Plan from the beginning to allow subclasses to do more with your internal APIs and attributes instead of locking them out by default.\n",
        "\n",
        "Use documentation of protected fields to guide subclasses instead of trying to force access control with private attributes.\n",
        "\n",
        "Only consider using private attributes to avoid naming conflicts with subclasses that are out of your control."
      ]
    },
    {
      "cell_type": "markdown",
      "metadata": {
        "id": "LELY-ztckCfu",
        "colab_type": "text"
      },
      "source": [
        "#### Avoid dictionaries that contain dictionaries\n",
        "\n",
        "At first, you didn’t know you’d need to support weighted grades, so the complexity of additional helper classes seemed unwarranted. Python’s built-in dictionary and tuple types made it easy to keep going, adding layer after layer to the internal bookkeeping. But you should avoid doing this for more than one level of nesting (i.e., avoid dictionaries that contain dictionaries). It makes your code hard to read by other programmers and sets you up for a maintenance nightmare.\n",
        "\n",
        "As soon as you realize the bookkeeping is getting complicated, break it all out into classes. This lets you provide well-defined interfaces that better encapsulate your data. This also enables you to create a layer of abstraction between your interfaces and your concrete implementations.\n",
        "\n"
      ]
    },
    {
      "cell_type": "code",
      "metadata": {
        "id": "WcZNMsr6js6-",
        "colab_type": "code",
        "colab": {}
      },
      "source": [
        ""
      ],
      "execution_count": 0,
      "outputs": []
    },
    {
      "cell_type": "code",
      "metadata": {
        "id": "WX-YJElQmCm6",
        "colab_type": "code",
        "colab": {}
      },
      "source": [
        ""
      ],
      "execution_count": 0,
      "outputs": []
    }
  ]
}