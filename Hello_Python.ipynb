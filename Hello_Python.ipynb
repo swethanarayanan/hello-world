{
  "nbformat": 4,
  "nbformat_minor": 0,
  "metadata": {
    "colab": {
      "name": "Hello Python.ipynb",
      "version": "0.3.2",
      "provenance": [],
      "collapsed_sections": [],
      "toc_visible": true,
      "include_colab_link": true
    },
    "kernelspec": {
      "name": "python3",
      "display_name": "Python 3"
    }
  },
  "cells": [
    {
      "cell_type": "markdown",
      "metadata": {
        "id": "view-in-github",
        "colab_type": "text"
      },
      "source": [
        "<a href=\"https://colab.research.google.com/github/swethanarayanan/hello-world/blob/master/Hello_Python.ipynb\" target=\"_parent\"><img src=\"https://colab.research.google.com/assets/colab-badge.svg\" alt=\"Open In Colab\"/></a>"
      ]
    },
    {
      "cell_type": "markdown",
      "metadata": {
        "id": "jX9Kekw3dx0t",
        "colab_type": "text"
      },
      "source": [
        "### Acknowledgements\n",
        "\n",
        "This learning python notebook was created with the help of following textbooks\n",
        "\n",
        "1.   Effective Python\n",
        "2.   Think Stats - 2nd edition\n",
        "3.   Python for data analysis - 2nd edition\n",
        "\n",
        "\n"
      ]
    },
    {
      "cell_type": "markdown",
      "metadata": {
        "id": "gPGw1gk-sTyo",
        "colab_type": "text"
      },
      "source": [
        "### High level summary of best practices\n",
        "\n",
        "\n",
        "\n",
        "1.   Always add doc string for functions\n",
        "\n"
      ]
    },
    {
      "cell_type": "markdown",
      "metadata": {
        "id": "3LQKrSgRmkQH",
        "colab_type": "text"
      },
      "source": [
        "### Main Data structures\n",
        "\n",
        "1.   List  [1,2,3] | Mutable, variable length\n",
        "\n",
        "*   List can be used as a stack as well as a queue - x.pop() - stack. x.pop(0) is queue\n",
        "*   You can insert or remove items from the end of a list in O(1) - constant time. But inserting or removing items from the head of a list takes linear time - O(n)\n",
        "*   Ideal for LIFO queues\n",
        "\n",
        "2.   Integer, Float, Decimal, bool, bytes (raw ASCII bytes),  None( unique instance of NoneType )\n",
        "\n",
        "3.   Tuple (1,2,3) | Immutable\n",
        "\n",
        "4.  Dictionary - Key value pair, or hashmap or slang structure\n",
        "\n",
        "*   Dictionaries have a method called items that returns a sequence of tuples, where each tuple is a key-value pair\n",
        "\n",
        "5.  String\n",
        "\n",
        "7.  Matrix\n",
        "\n",
        "8.  Under collections, Deque - double ended queue\n",
        "\n",
        "*   The deque class from the collections module is a double-ended queue. It provides constant time operations for inserting or removing items from its beginning or end. This makes it ideal for first-in-first-out (FIFO) queues.\n",
        "\n",
        "9. built-in module - datettime\n",
        "10. Set\n",
        "\n",
        "\n",
        "Note : Lists and tuples are semantically similar \n",
        "\n",
        "\n"
      ]
    },
    {
      "cell_type": "markdown",
      "metadata": {
        "id": "r5OElRzrpkWP",
        "colab_type": "text"
      },
      "source": [
        "In Python 3, there are two types that represent sequences of characters: bytes and str. Instances of bytes contain raw 8-bit values. Instances of str contain Unicode characters."
      ]
    },
    {
      "cell_type": "markdown",
      "metadata": {
        "id": "l9UWx3RA5UyM",
        "colab_type": "text"
      },
      "source": [
        "### Other Data Structures\n",
        "\n",
        "1. Pandas Dataframe - designed for working with tabular or heterogeneous data\n",
        "2. Pandas Series - A Series is a one-dimensional array-like object containing a sequence of values (of similar types to NumPy types) and an associated array of data labels, called its index. , can be used similar to a dict also\n",
        "3. Numpy nd arrays  - best suited for numerical homogenous data"
      ]
    },
    {
      "cell_type": "markdown",
      "metadata": {
        "id": "TEoVkijcsZVS",
        "colab_type": "text"
      },
      "source": [
        "### Python cool stuff\n",
        "\n",
        "\n",
        "\n",
        "1.  List comprehensions\n",
        "\n",
        "2.  Map reduce\n",
        "\n",
        "List comprehensions are easier to read than map\n"
      ]
    },
    {
      "cell_type": "markdown",
      "metadata": {
        "id": "HNRFr9jwao-f",
        "colab_type": "text"
      },
      "source": [
        "### Python syntax nuances\n",
        "\n",
        "1) 2 ** 2 (square)\n",
        "\n",
        "2) 2 ^ 2 - bitwise XOR\n",
        "\n",
        "3) repr vs str\n",
        "\n",
        "str() is used for creating output for end user while repr() is mainly used for debugging and development. repr’s goal is to be unambiguous and str’s is to be readable. For example, if we suspect a float has a small rounding error, repr will show us while str may not.\n",
        "\n",
        "4) Private attributes aren’t rigorously enforced by the Python compiler.\n",
        "\n",
        "5) As you can see by now, Python statements also do not need to be terminated by semicolons. Semicolons can be used, however, to separate multiple statements on a single line. Putting multiple statements on one line is generally discouraged in Python as it often makes code less readable.\n",
        "\n",
        "6) If b = a, b and a now refer to the same object reference, Any change in a will affect b.\n",
        "\n",
        "but if we do b = list(a), this creates a copy\n",
        "\n",
        "7) Object references in Python have no type associated with them. Type information is stored inside the object itself. \n",
        "\n",
        "So you can do\n",
        "\n",
        "a = 5\n",
        "a = 'abc'\n",
        "\n",
        "but you cant do a = 5 + 'abc'\n",
        "\n",
        "So python is a strongly typed language"
      ]
    },
    {
      "cell_type": "markdown",
      "metadata": {
        "id": "BklZzC5OsRHs",
        "colab_type": "text"
      },
      "source": [
        "### Other Useful stuff"
      ]
    },
    {
      "cell_type": "markdown",
      "metadata": {
        "id": "IgZN82AB7lad",
        "colab_type": "text"
      },
      "source": [
        "#### Version"
      ]
    },
    {
      "cell_type": "code",
      "metadata": {
        "id": "PIIASee7grkZ",
        "colab_type": "code",
        "outputId": "8bf52093-4158-4334-c435-4347a2d8ccc6",
        "colab": {
          "base_uri": "https://localhost:8080/",
          "height": 51
        }
      },
      "source": [
        "import sys\n",
        "print('Python: {}'.format(sys.version))"
      ],
      "execution_count": 0,
      "outputs": [
        {
          "output_type": "stream",
          "text": [
            "Python: 3.6.8 (default, Jan 14 2019, 11:02:34) \n",
            "[GCC 8.0.1 20180414 (experimental) [trunk revision 259383]]\n"
          ],
          "name": "stdout"
        }
      ]
    },
    {
      "cell_type": "code",
      "metadata": {
        "id": "-X7mmnvE7IIc",
        "colab_type": "code",
        "colab": {}
      },
      "source": [
        "a = [1,2,3]"
      ],
      "execution_count": 0,
      "outputs": []
    },
    {
      "cell_type": "markdown",
      "metadata": {
        "id": "X5hdP6kp7SbD",
        "colab_type": "text"
      },
      "source": [
        "#### Object introspection\n",
        "\n",
        "Python int size can be arbitrarily large"
      ]
    },
    {
      "cell_type": "code",
      "metadata": {
        "id": "sO0Wiuyf7PUc",
        "colab_type": "code",
        "colab": {}
      },
      "source": [
        "a?"
      ],
      "execution_count": 0,
      "outputs": []
    },
    {
      "cell_type": "code",
      "metadata": {
        "id": "Se9mDyRrnKDz",
        "colab_type": "code",
        "outputId": "0207ecb1-cc4b-4d4e-c4b5-2ecf772747c5",
        "colab": {
          "base_uri": "https://localhost:8080/",
          "height": 34
        }
      },
      "source": [
        "a = 5\n",
        "isinstance(a, int)"
      ],
      "execution_count": 0,
      "outputs": [
        {
          "output_type": "execute_result",
          "data": {
            "text/plain": [
              "True"
            ]
          },
          "metadata": {
            "tags": []
          },
          "execution_count": 23
        }
      ]
    },
    {
      "cell_type": "code",
      "metadata": {
        "id": "v9agPRL3yMO4",
        "colab_type": "code",
        "outputId": "16548b52-68db-4d6a-d939-cb16b8bb69ed",
        "colab": {
          "base_uri": "https://localhost:8080/",
          "height": 34
        }
      },
      "source": [
        "type(a)"
      ],
      "execution_count": 0,
      "outputs": [
        {
          "output_type": "execute_result",
          "data": {
            "text/plain": [
              "int"
            ]
          },
          "metadata": {
            "tags": []
          },
          "execution_count": 26
        }
      ]
    },
    {
      "cell_type": "code",
      "metadata": {
        "id": "h7ya3gf9qmEC",
        "colab_type": "code",
        "outputId": "1a55cb8d-26bb-4a57-f8df-67f6f2b31783",
        "colab": {
          "base_uri": "https://localhost:8080/",
          "height": 34
        }
      },
      "source": [
        "import sys\n",
        "sys.maxsize"
      ],
      "execution_count": 0,
      "outputs": [
        {
          "output_type": "execute_result",
          "data": {
            "text/plain": [
              "9223372036854775807"
            ]
          },
          "metadata": {
            "tags": []
          },
          "execution_count": 12
        }
      ]
    },
    {
      "cell_type": "markdown",
      "metadata": {
        "id": "zm9gK4annP9e",
        "colab_type": "text"
      },
      "source": [
        "isinstance can accept a tuple of types if you want to check that an object’s type is among those present in the tuple:"
      ]
    },
    {
      "cell_type": "code",
      "metadata": {
        "id": "f_xmzJVnnQ_2",
        "colab_type": "code",
        "outputId": "b45a5645-36b7-42e7-d6c8-b57c5a55c9a9",
        "colab": {
          "base_uri": "https://localhost:8080/",
          "height": 34
        }
      },
      "source": [
        "isinstance(a, (int, float))"
      ],
      "execution_count": 0,
      "outputs": [
        {
          "output_type": "execute_result",
          "data": {
            "text/plain": [
              "True"
            ]
          },
          "metadata": {
            "tags": []
          },
          "execution_count": 2
        }
      ]
    },
    {
      "cell_type": "markdown",
      "metadata": {
        "id": "tV2ZMt5-njo0",
        "colab_type": "text"
      },
      "source": [
        "#### Attributes and methods\n",
        "\n",
        "In other languages, accessing objects by name is often referred to as “reflection.”"
      ]
    },
    {
      "cell_type": "code",
      "metadata": {
        "id": "V7IDHViznmnU",
        "colab_type": "code",
        "outputId": "60306deb-d224-4273-d42e-807b41e09a8c",
        "colab": {
          "base_uri": "https://localhost:8080/",
          "height": 34
        }
      },
      "source": [
        "a = 'hello world'\n",
        "b = getattr(a, 'split') # similar to a.split()\n",
        "b()"
      ],
      "execution_count": 0,
      "outputs": [
        {
          "output_type": "execute_result",
          "data": {
            "text/plain": [
              "['hello', 'world']"
            ]
          },
          "metadata": {
            "tags": []
          },
          "execution_count": 7
        }
      ]
    },
    {
      "cell_type": "markdown",
      "metadata": {
        "id": "5DXg5jBZoG1e",
        "colab_type": "text"
      },
      "source": [
        "#### Duck typing\n",
        "\n",
        "Often you may not care about the type of an object but rather only whether it has certain methods or behavior. This is sometimes called “duck typing,” after the saying “If it walks like a duck and quacks like a duck, then it’s a duck.”"
      ]
    },
    {
      "cell_type": "code",
      "metadata": {
        "id": "6o6s1x-OoIpJ",
        "colab_type": "code",
        "colab": {}
      },
      "source": [
        "def isiterable(obj):\n",
        "    try:\n",
        "        iter(obj)\n",
        "        return True\n",
        "    except TypeError: # not iterable\n",
        "        return False"
      ],
      "execution_count": 0,
      "outputs": []
    },
    {
      "cell_type": "markdown",
      "metadata": {
        "id": "aojTop7cqMSc",
        "colab_type": "text"
      },
      "source": [
        "#### Mutable and immutable\n",
        "\n",
        "Most objects in Python, such as lists, dicts, NumPy arrays, and most user-defined types (classes), are mutable. Others, like strings and tuples, are immutable:"
      ]
    },
    {
      "cell_type": "code",
      "metadata": {
        "id": "UZysOuosqOYm",
        "colab_type": "code",
        "outputId": "a364f3b2-b04b-4b08-c02a-5ffa73c69682",
        "colab": {
          "base_uri": "https://localhost:8080/",
          "height": 181
        }
      },
      "source": [
        "a = 'this is a string'\n",
        "a[1] = 'b'"
      ],
      "execution_count": 0,
      "outputs": [
        {
          "output_type": "error",
          "ename": "TypeError",
          "evalue": "ignored",
          "traceback": [
            "\u001b[0;31m---------------------------------------------------------------------------\u001b[0m",
            "\u001b[0;31mTypeError\u001b[0m                                 Traceback (most recent call last)",
            "\u001b[0;32m<ipython-input-15-75ff40e74f64>\u001b[0m in \u001b[0;36m<module>\u001b[0;34m()\u001b[0m\n\u001b[1;32m      1\u001b[0m \u001b[0ma\u001b[0m \u001b[0;34m=\u001b[0m \u001b[0;34m'this is a string'\u001b[0m\u001b[0;34m\u001b[0m\u001b[0;34m\u001b[0m\u001b[0m\n\u001b[0;32m----> 2\u001b[0;31m \u001b[0ma\u001b[0m\u001b[0;34m[\u001b[0m\u001b[0;36m1\u001b[0m\u001b[0;34m]\u001b[0m \u001b[0;34m=\u001b[0m \u001b[0;34m'b'\u001b[0m\u001b[0;34m\u001b[0m\u001b[0;34m\u001b[0m\u001b[0m\n\u001b[0m",
            "\u001b[0;31mTypeError\u001b[0m: 'str' object does not support item assignment"
          ]
        }
      ]
    },
    {
      "cell_type": "markdown",
      "metadata": {
        "id": "Jrb1SuE47naQ",
        "colab_type": "text"
      },
      "source": [
        "#### %run Command\n",
        "You can run any file as a Python program inside the environment of your IPython session using the %run command. "
      ]
    },
    {
      "cell_type": "markdown",
      "metadata": {
        "id": "nDUY14iv74OJ",
        "colab_type": "text"
      },
      "source": [
        "#### Magic commands\n",
        "\n",
        "IPython’s special commands (which are not built into Python itself) are known as “magic” commands. These are designed to facilitate common tasks and enable you to easily control the behavior of the IPython system. A magic command is any command prefixed by the percent symbol %"
      ]
    },
    {
      "cell_type": "code",
      "metadata": {
        "id": "JjsmyEep8AKr",
        "colab_type": "code",
        "outputId": "739795a0-e772-4a19-b40c-944ebb2f7432",
        "colab": {
          "base_uri": "https://localhost:8080/",
          "height": 34
        }
      },
      "source": [
        "import numpy as np\n",
        "%timeit np.random.randn(100, 100)"
      ],
      "execution_count": 0,
      "outputs": [
        {
          "output_type": "stream",
          "text": [
            "1000 loops, best of 3: 482 µs per loop\n"
          ],
          "name": "stdout"
        }
      ]
    },
    {
      "cell_type": "code",
      "metadata": {
        "id": "xmT9tJwu8YJG",
        "colab_type": "code",
        "outputId": "60ba9af1-2cfa-4dbf-a4c8-9bf1186ea9be",
        "colab": {
          "base_uri": "https://localhost:8080/",
          "height": 34
        }
      },
      "source": [
        "%pwd"
      ],
      "execution_count": 0,
      "outputs": [
        {
          "output_type": "execute_result",
          "data": {
            "text/plain": [
              "'/content'"
            ]
          },
          "metadata": {
            "tags": []
          },
          "execution_count": 12
        }
      ]
    },
    {
      "cell_type": "markdown",
      "metadata": {
        "id": "x03SKNZhtrX6",
        "colab_type": "text"
      },
      "source": [
        "#### If else"
      ]
    },
    {
      "cell_type": "code",
      "metadata": {
        "id": "QvZaZFGutua6",
        "colab_type": "code",
        "outputId": "20595e2b-3027-49c8-ceb2-8b46c377d0f8",
        "colab": {
          "base_uri": "https://localhost:8080/",
          "height": 34
        }
      },
      "source": [
        "x = 5\n",
        "if x < 0:\n",
        "    print('It\\'s negative')\n",
        "elif x == 0:\n",
        "    print('Equal to zero')\n",
        "elif 0 < x < 5:\n",
        "    print('Positive but smaller than 5')\n",
        "else:\n",
        "    print('Positive and larger than or equal to 5')"
      ],
      "execution_count": 0,
      "outputs": [
        {
          "output_type": "stream",
          "text": [
            "Positive and larger than or equal to 5\n"
          ],
          "name": "stdout"
        }
      ]
    },
    {
      "cell_type": "markdown",
      "metadata": {
        "id": "flqx6gglt2Td",
        "colab_type": "text"
      },
      "source": [
        "#### Chaining comparisions"
      ]
    },
    {
      "cell_type": "code",
      "metadata": {
        "id": "jj5kPqYMt4Nl",
        "colab_type": "code",
        "outputId": "0fda42f8-43a3-4666-ec81-10f6012041b6",
        "colab": {
          "base_uri": "https://localhost:8080/",
          "height": 34
        }
      },
      "source": [
        "4 > 3 > 2 > 1"
      ],
      "execution_count": 0,
      "outputs": [
        {
          "output_type": "execute_result",
          "data": {
            "text/plain": [
              "True"
            ]
          },
          "metadata": {
            "tags": []
          },
          "execution_count": 28
        }
      ]
    },
    {
      "cell_type": "markdown",
      "metadata": {
        "id": "A_z1V5-RuA2x",
        "colab_type": "text"
      },
      "source": [
        "#### Break and pass"
      ]
    },
    {
      "cell_type": "code",
      "metadata": {
        "id": "Kfi2mPuFuCsH",
        "colab_type": "code",
        "colab": {}
      },
      "source": [
        "x = 0\n",
        "if x < 0:\n",
        "    print('negative!')\n",
        "elif x == 0:\n",
        "    # TODO: put something smart here\n",
        "    pass\n",
        "else:\n",
        "    print('positive!')\n"
      ],
      "execution_count": 0,
      "outputs": []
    },
    {
      "cell_type": "markdown",
      "metadata": {
        "id": "pyhQhHgis4En",
        "colab_type": "text"
      },
      "source": [
        "#### Ternary operations in python"
      ]
    },
    {
      "cell_type": "code",
      "metadata": {
        "id": "G0Lx7_uf8z7M",
        "colab_type": "code",
        "outputId": "bbc975a0-0866-4a29-93ff-6ddeff5a15f5",
        "colab": {
          "base_uri": "https://localhost:8080/",
          "height": 34
        }
      },
      "source": [
        "x = 5\n",
        "'Non-negative' if x >= 0 else 'Negative'"
      ],
      "execution_count": 0,
      "outputs": [
        {
          "output_type": "execute_result",
          "data": {
            "text/plain": [
              "'Non-negative'"
            ]
          },
          "metadata": {
            "tags": []
          },
          "execution_count": 20
        }
      ]
    },
    {
      "cell_type": "markdown",
      "metadata": {
        "id": "kIsIRIsqv8Bu",
        "colab_type": "text"
      },
      "source": [
        "#### Swapping\n",
        "\n",
        "Very simple in python"
      ]
    },
    {
      "cell_type": "code",
      "metadata": {
        "id": "i-39GgCDv-9Y",
        "colab_type": "code",
        "colab": {}
      },
      "source": [
        "b, a = a, b"
      ],
      "execution_count": 0,
      "outputs": []
    },
    {
      "cell_type": "markdown",
      "metadata": {
        "id": "F3AnYy4MwD2_",
        "colab_type": "text"
      },
      "source": [
        "#### _ (underscore) for unwanted variables"
      ]
    },
    {
      "cell_type": "code",
      "metadata": {
        "id": "EeLqh1KcwDE1",
        "colab_type": "code",
        "colab": {}
      },
      "source": [
        ""
      ],
      "execution_count": 0,
      "outputs": []
    },
    {
      "cell_type": "markdown",
      "metadata": {
        "id": "T39obaGxneXG",
        "colab_type": "text"
      },
      "source": [
        "### List"
      ]
    },
    {
      "cell_type": "markdown",
      "metadata": {
        "id": "RslB0anbXS2v",
        "colab_type": "text"
      },
      "source": [
        "You can append two lists in python with a +"
      ]
    },
    {
      "cell_type": "code",
      "metadata": {
        "id": "ePojp8x6XXdQ",
        "colab_type": "code",
        "outputId": "60f7ca5e-7ed4-49e3-c5d8-f898c0b69b7e",
        "colab": {
          "base_uri": "https://localhost:8080/",
          "height": 34
        }
      },
      "source": [
        "a = [1] + [2,3]\n",
        "a"
      ],
      "execution_count": 0,
      "outputs": [
        {
          "output_type": "execute_result",
          "data": {
            "text/plain": [
              "[1, 2, 3]"
            ]
          },
          "metadata": {
            "tags": []
          },
          "execution_count": 3
        }
      ]
    },
    {
      "cell_type": "code",
      "metadata": {
        "id": "AoMtuAJ4XX7D",
        "colab_type": "code",
        "outputId": "0b99eff9-6e87-417e-c389-2e174010cb53",
        "colab": {
          "base_uri": "https://localhost:8080/",
          "height": 85
        }
      },
      "source": [
        "numbers = [1,2,3]\n",
        "for i in range(len(numbers)):\n",
        "    print(i)\n",
        "    numbers[i] = numbers[i] * 2\n",
        "print(numbers)"
      ],
      "execution_count": 0,
      "outputs": [
        {
          "output_type": "stream",
          "text": [
            "0\n",
            "1\n",
            "2\n",
            "[2, 4, 6]\n"
          ],
          "name": "stdout"
        }
      ]
    },
    {
      "cell_type": "code",
      "metadata": {
        "id": "VIWQKohaYlXw",
        "colab_type": "code",
        "outputId": "1c170e23-c9de-49ba-c2bf-a654c0725edb",
        "colab": {
          "base_uri": "https://localhost:8080/",
          "height": 34
        }
      },
      "source": [
        "result_list = [0] * 5\n",
        "result_list"
      ],
      "execution_count": 0,
      "outputs": [
        {
          "output_type": "execute_result",
          "data": {
            "text/plain": [
              "[0, 0, 0, 0, 0]"
            ]
          },
          "metadata": {
            "tags": []
          },
          "execution_count": 7
        }
      ]
    },
    {
      "cell_type": "code",
      "metadata": {
        "id": "bNY4fgyedfkS",
        "colab_type": "code",
        "outputId": "b72191b6-54bb-4994-be4c-397f0917a913",
        "colab": {
          "base_uri": "https://localhost:8080/",
          "height": 102
        }
      },
      "source": [
        " for i, bit in enumerate(result_list):\n",
        "    print(str(bit) + \",\" + str(i))"
      ],
      "execution_count": 0,
      "outputs": [
        {
          "output_type": "stream",
          "text": [
            "0,0\n",
            "0,1\n",
            "0,2\n",
            "0,3\n",
            "0,4\n"
          ],
          "name": "stdout"
        }
      ]
    },
    {
      "cell_type": "code",
      "metadata": {
        "id": "Fl_VxvliouSr",
        "colab_type": "code",
        "outputId": "fb2ed76f-1064-43e2-ca14-d44d5887269f",
        "colab": {
          "base_uri": "https://localhost:8080/",
          "height": 34
        }
      },
      "source": [
        "#Store all three values of the list in 3 new variables\n",
        "x= [1,2,3]\n",
        "a,b,c = x\n",
        "a"
      ],
      "execution_count": 0,
      "outputs": [
        {
          "output_type": "execute_result",
          "data": {
            "text/plain": [
              "1"
            ]
          },
          "metadata": {
            "tags": []
          },
          "execution_count": 30
        }
      ]
    },
    {
      "cell_type": "code",
      "metadata": {
        "id": "4CLS6ZYSrp6T",
        "colab_type": "code",
        "outputId": "007cb032-2f8a-4ce0-838a-087afa0ea381",
        "colab": {
          "base_uri": "https://localhost:8080/",
          "height": 34
        }
      },
      "source": [
        "x.pop() #Delete the last element from list and print it (i.e pop)"
      ],
      "execution_count": 0,
      "outputs": [
        {
          "output_type": "execute_result",
          "data": {
            "text/plain": [
              "3"
            ]
          },
          "metadata": {
            "tags": []
          },
          "execution_count": 34
        }
      ]
    },
    {
      "cell_type": "code",
      "metadata": {
        "id": "oYp0cYddrv9D",
        "colab_type": "code",
        "outputId": "77bccb96-6761-462c-bf2a-643a4418a8f0",
        "colab": {
          "base_uri": "https://localhost:8080/",
          "height": 34
        }
      },
      "source": [
        "x.append(5)\n",
        "x"
      ],
      "execution_count": 0,
      "outputs": [
        {
          "output_type": "execute_result",
          "data": {
            "text/plain": [
              "[1, 2, 5]"
            ]
          },
          "metadata": {
            "tags": []
          },
          "execution_count": 35
        }
      ]
    },
    {
      "cell_type": "code",
      "metadata": {
        "id": "XU_rTsdnaBuF",
        "colab_type": "code",
        "outputId": "55a748eb-884e-490c-df7b-eee1c6c594d9",
        "colab": {
          "base_uri": "https://localhost:8080/",
          "height": 34
        }
      },
      "source": [
        "x = [1,2,3]\n",
        "x.append(5)\n",
        "x.pop(0)"
      ],
      "execution_count": 0,
      "outputs": [
        {
          "output_type": "execute_result",
          "data": {
            "text/plain": [
              "1"
            ]
          },
          "metadata": {
            "tags": []
          },
          "execution_count": 4
        }
      ]
    },
    {
      "cell_type": "code",
      "metadata": {
        "id": "dohNgCQMrlHd",
        "colab_type": "code",
        "outputId": "ed95a071-faee-4f68-e40b-dde7fac3363f",
        "colab": {
          "base_uri": "https://localhost:8080/",
          "height": 68
        }
      },
      "source": [
        "a = ['a', 'b', 'c', 'd', 'e', 'f', 'g', 'h']\n",
        "print('First four:', a[:4])\n",
        "print('Last four: ', a[-4:])\n",
        "print('Middle two:', a[3:-3])"
      ],
      "execution_count": 0,
      "outputs": [
        {
          "output_type": "stream",
          "text": [
            "First four: ['a', 'b', 'c', 'd']\n",
            "Last four:  ['e', 'f', 'g', 'h']\n",
            "Middle two: ['d', 'e']\n"
          ],
          "name": "stdout"
        }
      ]
    },
    {
      "cell_type": "code",
      "metadata": {
        "id": "s2mhHraLrody",
        "colab_type": "code",
        "outputId": "1b1ac697-c52a-4a5a-e830-8ebbd4221d18",
        "colab": {
          "base_uri": "https://localhost:8080/",
          "height": 34
        }
      },
      "source": [
        "a[:1] #evaluates to less than 1 index, hence only 0"
      ],
      "execution_count": 0,
      "outputs": [
        {
          "output_type": "execute_result",
          "data": {
            "text/plain": [
              "['a']"
            ]
          },
          "metadata": {
            "tags": []
          },
          "execution_count": 6
        }
      ]
    },
    {
      "cell_type": "markdown",
      "metadata": {
        "id": "JArq3rclr15n",
        "colab_type": "text"
      },
      "source": [
        "When slicing from the start of a list, you should leave out the zero index to reduce visual noise.\n"
      ]
    },
    {
      "cell_type": "code",
      "metadata": {
        "id": "Jcr7rqjOr0WY",
        "colab_type": "code",
        "colab": {}
      },
      "source": [
        "assert a[:5] == a[0:5]"
      ],
      "execution_count": 0,
      "outputs": []
    },
    {
      "cell_type": "markdown",
      "metadata": {
        "id": "l4TF8dQTr6Nr",
        "colab_type": "text"
      },
      "source": [
        "\n",
        "When slicing to the end of a list, you should leave out the final index because it’s redundant."
      ]
    },
    {
      "cell_type": "code",
      "metadata": {
        "id": "9euaO3cur71_",
        "colab_type": "code",
        "colab": {}
      },
      "source": [
        "assert a[5:] == a[5:len(a)]"
      ],
      "execution_count": 0,
      "outputs": []
    },
    {
      "cell_type": "code",
      "metadata": {
        "id": "guuo8AZJsBgx",
        "colab_type": "code",
        "outputId": "2720b770-889e-4aa2-baa0-1eb8da0cda59",
        "colab": {
          "base_uri": "https://localhost:8080/",
          "height": 34
        }
      },
      "source": [
        "a[:-5] #5th character from end is NOT included"
      ],
      "execution_count": 0,
      "outputs": [
        {
          "output_type": "execute_result",
          "data": {
            "text/plain": [
              "['a', 'b', 'c']"
            ]
          },
          "metadata": {
            "tags": []
          },
          "execution_count": 12
        }
      ]
    },
    {
      "cell_type": "markdown",
      "metadata": {
        "id": "JcGAUuU-YsBT",
        "colab_type": "text"
      },
      "source": [
        "#### Stride\n",
        "\n",
        "a[start:end:stride]"
      ]
    },
    {
      "cell_type": "code",
      "metadata": {
        "id": "bHxF6o8CYo-t",
        "colab_type": "code",
        "outputId": "1c16efb4-ef51-49b1-ac15-92914610dfe1",
        "colab": {
          "base_uri": "https://localhost:8080/",
          "height": 34
        }
      },
      "source": [
        "a = ['red', 'orange', 'yellow', 'green', 'blue', 'purple']\n",
        "odds = a[::2]\n",
        "evens = a[1::2]\n",
        "odds"
      ],
      "execution_count": 0,
      "outputs": [
        {
          "output_type": "execute_result",
          "data": {
            "text/plain": [
              "['red', 'yellow', 'blue']"
            ]
          },
          "metadata": {
            "tags": []
          },
          "execution_count": 3
        }
      ]
    },
    {
      "cell_type": "code",
      "metadata": {
        "id": "xazxZy6pY4h2",
        "colab_type": "code",
        "outputId": "6fd49a95-8aaf-40cb-a2ef-a21d27dd37e4",
        "colab": {
          "base_uri": "https://localhost:8080/",
          "height": 34
        }
      },
      "source": [
        "evens"
      ],
      "execution_count": 0,
      "outputs": [
        {
          "output_type": "execute_result",
          "data": {
            "text/plain": [
              "['orange', 'green', 'purple']"
            ]
          },
          "metadata": {
            "tags": []
          },
          "execution_count": 4
        }
      ]
    },
    {
      "cell_type": "markdown",
      "metadata": {
        "id": "i52WOco0ZK78",
        "colab_type": "text"
      },
      "source": [
        "#### Stride can also be used for reversing a string or a list\n",
        "\n",
        "That works well for byte strings and ASCII characters, but it will break for Unicode characters encoded as UTF-8 byte strings."
      ]
    },
    {
      "cell_type": "code",
      "metadata": {
        "id": "UDccpSZuZOeX",
        "colab_type": "code",
        "outputId": "61580f46-e319-4273-cbfe-866dedb00212",
        "colab": {
          "base_uri": "https://localhost:8080/",
          "height": 34
        }
      },
      "source": [
        "a[::-1]"
      ],
      "execution_count": 0,
      "outputs": [
        {
          "output_type": "execute_result",
          "data": {
            "text/plain": [
              "['purple', 'blue', 'green', 'yellow', 'orange', 'red']"
            ]
          },
          "metadata": {
            "tags": []
          },
          "execution_count": 8
        }
      ]
    },
    {
      "cell_type": "markdown",
      "metadata": {
        "id": "eLvjYhoXY_dp",
        "colab_type": "text"
      },
      "source": [
        "#### Python is forgiving of index out of bounds"
      ]
    },
    {
      "cell_type": "code",
      "metadata": {
        "id": "MMj0eYkPY7CA",
        "colab_type": "code",
        "outputId": "6a519302-834a-46e8-d72f-b3d85ab20061",
        "colab": {
          "base_uri": "https://localhost:8080/",
          "height": 34
        }
      },
      "source": [
        "a[:10] "
      ],
      "execution_count": 0,
      "outputs": [
        {
          "output_type": "execute_result",
          "data": {
            "text/plain": [
              "['red', 'orange', 'yellow', 'green', 'blue', 'purple']"
            ]
          },
          "metadata": {
            "tags": []
          },
          "execution_count": 7
        }
      ]
    },
    {
      "cell_type": "markdown",
      "metadata": {
        "id": "MJox74mcHQiX",
        "colab_type": "text"
      },
      "source": [
        "#### Use zip to process iterators in parallel"
      ]
    },
    {
      "cell_type": "code",
      "metadata": {
        "id": "BRw5bQ6cHW0t",
        "colab_type": "code",
        "colab": {}
      },
      "source": [
        "names = ['Cecilia', 'Lise', 'Marie']\n",
        "letters = [len(n) for n in names]"
      ],
      "execution_count": 0,
      "outputs": []
    },
    {
      "cell_type": "markdown",
      "metadata": {
        "id": "zgFwYuG6Hy2U",
        "colab_type": "text"
      },
      "source": [
        "##### Not recommended"
      ]
    },
    {
      "cell_type": "code",
      "metadata": {
        "id": "wMTrl0ArHeFo",
        "colab_type": "code",
        "outputId": "c34549c8-4b3d-4d3a-9c1a-1c9461f61319",
        "colab": {
          "base_uri": "https://localhost:8080/",
          "height": 34
        }
      },
      "source": [
        "longest_name = None\n",
        "max_letters = 0\n",
        "\n",
        "for i in range(len(names)):\n",
        "    count = letters[i]\n",
        "    if count > max_letters:\n",
        "        longest_name = names[i]\n",
        "        max_letters = count\n",
        "\n",
        "print(longest_name)"
      ],
      "execution_count": 0,
      "outputs": [
        {
          "output_type": "stream",
          "text": [
            "Cecilia\n"
          ],
          "name": "stdout"
        }
      ]
    },
    {
      "cell_type": "markdown",
      "metadata": {
        "id": "xcpyS-GbH0eq",
        "colab_type": "text"
      },
      "source": [
        "##### Recommended"
      ]
    },
    {
      "cell_type": "code",
      "metadata": {
        "id": "jxVYaF97HoXb",
        "colab_type": "code",
        "outputId": "efa264bd-fcf1-4598-b4ad-a978c681bc04",
        "colab": {
          "base_uri": "https://localhost:8080/",
          "height": 34
        }
      },
      "source": [
        "longest_name = None\n",
        "max_letters = 0\n",
        "for name, count in zip(names, letters):\n",
        "    if count > max_letters:\n",
        "        longest_name = name\n",
        "        max_letters = count\n",
        "print(longest_name)"
      ],
      "execution_count": 0,
      "outputs": [
        {
          "output_type": "stream",
          "text": [
            "Cecilia\n"
          ],
          "name": "stdout"
        }
      ]
    },
    {
      "cell_type": "markdown",
      "metadata": {
        "id": "KnNfISKhIhKG",
        "colab_type": "text"
      },
      "source": [
        "#### Avoid else blocks after for and while"
      ]
    },
    {
      "cell_type": "code",
      "metadata": {
        "id": "uFGuqCNJInpv",
        "colab_type": "code",
        "outputId": "fa0fa62c-ebb4-45c1-ac3b-4f7fc0f7a7ac",
        "colab": {
          "base_uri": "https://localhost:8080/",
          "height": 85
        }
      },
      "source": [
        "for i in range(3):\n",
        "    print('Loop %d' % i)\n",
        "else:\n",
        "    print('Else block!')"
      ],
      "execution_count": 0,
      "outputs": [
        {
          "output_type": "stream",
          "text": [
            "Loop 0\n",
            "Loop 1\n",
            "Loop 2\n",
            "Else block!\n"
          ],
          "name": "stdout"
        }
      ]
    },
    {
      "cell_type": "markdown",
      "metadata": {
        "id": "JgJQ90gGyQFT",
        "colab_type": "text"
      },
      "source": [
        "insert is computationally expensive compared with append, because references to subsequent elements have to be shifted internally to make room for the new element. If you need to insert elements at both the beginning and end of a sequence, you may wish to explore collections.deque, a double-ended queue, for this purpose."
      ]
    },
    {
      "cell_type": "code",
      "metadata": {
        "id": "a6ui5xqPwpZz",
        "colab_type": "code",
        "outputId": "f68f2b95-d458-41b3-b431-525731a24556",
        "colab": {
          "base_uri": "https://localhost:8080/",
          "height": 34
        }
      },
      "source": [
        "b = ['foo', 'red', 'peekaboo', 'baz', 'dwarf']\n",
        "b.insert(1, 'red')\n",
        "b"
      ],
      "execution_count": 0,
      "outputs": [
        {
          "output_type": "execute_result",
          "data": {
            "text/plain": [
              "['foo', 'red', 'red', 'peekaboo', 'baz', 'dwarf']"
            ]
          },
          "metadata": {
            "tags": []
          },
          "execution_count": 53
        }
      ]
    },
    {
      "cell_type": "markdown",
      "metadata": {
        "id": "cKsuu5-Nnh0f",
        "colab_type": "text"
      },
      "source": [
        "### Integer, Float"
      ]
    },
    {
      "cell_type": "markdown",
      "metadata": {
        "id": "9sCgBfgPgnza",
        "colab_type": "text"
      },
      "source": [
        "In Python 3, they made the / operator do a floating-point division, and added the // operator to do integer division (i.e. quotient without remainder); "
      ]
    },
    {
      "cell_type": "code",
      "metadata": {
        "id": "cICeEyeidytz",
        "colab_type": "code",
        "outputId": "d5af4aab-e40e-4c8e-9f43-0576fa08596d",
        "colab": {
          "base_uri": "https://localhost:8080/",
          "height": 34
        }
      },
      "source": [
        "4 / 3"
      ],
      "execution_count": 0,
      "outputs": [
        {
          "output_type": "execute_result",
          "data": {
            "text/plain": [
              "1.3333333333333333"
            ]
          },
          "metadata": {
            "tags": []
          },
          "execution_count": 12
        }
      ]
    },
    {
      "cell_type": "code",
      "metadata": {
        "id": "rMMTY6uLgpsU",
        "colab_type": "code",
        "outputId": "5351881d-9515-4c50-b1f9-07a9b9a1cfc6",
        "colab": {
          "base_uri": "https://localhost:8080/",
          "height": 34
        }
      },
      "source": [
        "4 // 3"
      ],
      "execution_count": 0,
      "outputs": [
        {
          "output_type": "execute_result",
          "data": {
            "text/plain": [
              "1"
            ]
          },
          "metadata": {
            "tags": []
          },
          "execution_count": 13
        }
      ]
    },
    {
      "cell_type": "markdown",
      "metadata": {
        "id": "5cioptHltMO_",
        "colab_type": "text"
      },
      "source": [
        "### Datetime"
      ]
    },
    {
      "cell_type": "code",
      "metadata": {
        "id": "Zt7o08yTtPQC",
        "colab_type": "code",
        "colab": {}
      },
      "source": [
        "from datetime import datetime, date, time"
      ],
      "execution_count": 0,
      "outputs": []
    },
    {
      "cell_type": "code",
      "metadata": {
        "id": "cWpudQ11tSlD",
        "colab_type": "code",
        "colab": {}
      },
      "source": [
        "dt = datetime(2011, 10, 29, 20, 30, 21)"
      ],
      "execution_count": 0,
      "outputs": []
    },
    {
      "cell_type": "code",
      "metadata": {
        "id": "Z870uUydtUmo",
        "colab_type": "code",
        "outputId": "4a3ddb39-0a7a-4873-9e23-131fd0b85b69",
        "colab": {
          "base_uri": "https://localhost:8080/",
          "height": 34
        }
      },
      "source": [
        "dt.day"
      ],
      "execution_count": 0,
      "outputs": [
        {
          "output_type": "execute_result",
          "data": {
            "text/plain": [
              "29"
            ]
          },
          "metadata": {
            "tags": []
          },
          "execution_count": 23
        }
      ]
    },
    {
      "cell_type": "markdown",
      "metadata": {
        "id": "vvlFXMpctcy4",
        "colab_type": "text"
      },
      "source": [
        "Date to string"
      ]
    },
    {
      "cell_type": "code",
      "metadata": {
        "id": "SbTAWNeEteye",
        "colab_type": "code",
        "outputId": "52d985d2-0676-4dcd-bce4-930d3d188c4a",
        "colab": {
          "base_uri": "https://localhost:8080/",
          "height": 34
        }
      },
      "source": [
        "dt.strftime('%m/%d/%Y %H:%M')"
      ],
      "execution_count": 0,
      "outputs": [
        {
          "output_type": "execute_result",
          "data": {
            "text/plain": [
              "'10/29/2011 20:30'"
            ]
          },
          "metadata": {
            "tags": []
          },
          "execution_count": 24
        }
      ]
    },
    {
      "cell_type": "markdown",
      "metadata": {
        "id": "jcevKZ6UtgW_",
        "colab_type": "text"
      },
      "source": [
        "String to date"
      ]
    },
    {
      "cell_type": "code",
      "metadata": {
        "id": "exBhXzC8thy6",
        "colab_type": "code",
        "outputId": "92341892-07b6-48fe-b21a-72c68f0df7fa",
        "colab": {
          "base_uri": "https://localhost:8080/",
          "height": 34
        }
      },
      "source": [
        "datetime.strptime('20091031', '%Y%m%d')"
      ],
      "execution_count": 0,
      "outputs": [
        {
          "output_type": "execute_result",
          "data": {
            "text/plain": [
              "datetime.datetime(2009, 10, 31, 0, 0)"
            ]
          },
          "metadata": {
            "tags": []
          },
          "execution_count": 25
        }
      ]
    },
    {
      "cell_type": "markdown",
      "metadata": {
        "id": "DI63tkRnn5j4",
        "colab_type": "text"
      },
      "source": [
        "### Pandas Data frame"
      ]
    },
    {
      "cell_type": "code",
      "metadata": {
        "id": "gFTUleADlyP5",
        "colab_type": "code",
        "outputId": "6732e358-11cd-46e3-ad76-369c7b1fbc8d",
        "colab": {
          "base_uri": "https://localhost:8080/",
          "height": 170
        }
      },
      "source": [
        "import pandas as pd\n",
        "\n",
        "# Load dataset\n",
        "url = \"https://archive.ics.uci.edu/ml/machine-learning-databases/iris/iris.data\"\n",
        "names = ['sepal-length', 'sepal-width', 'petal-length', 'petal-width', 'class']\n",
        "dataset = pd.read_csv(url, names=names)\n",
        "\n",
        "# descriptions\n",
        "print(dataset.describe())"
      ],
      "execution_count": 0,
      "outputs": [
        {
          "output_type": "stream",
          "text": [
            "       sepal-length  sepal-width  petal-length  petal-width\n",
            "count    150.000000   150.000000    150.000000   150.000000\n",
            "mean       5.843333     3.054000      3.758667     1.198667\n",
            "std        0.828066     0.433594      1.764420     0.763161\n",
            "min        4.300000     2.000000      1.000000     0.100000\n",
            "25%        5.100000     2.800000      1.600000     0.300000\n",
            "50%        5.800000     3.000000      4.350000     1.300000\n",
            "75%        6.400000     3.300000      5.100000     1.800000\n",
            "max        7.900000     4.400000      6.900000     2.500000\n"
          ],
          "name": "stdout"
        }
      ]
    },
    {
      "cell_type": "code",
      "metadata": {
        "id": "VHiPcYpil4W4",
        "colab_type": "code",
        "outputId": "f6b2ab6b-bdb9-4d47-85b4-95ef2bdf316f",
        "colab": {
          "base_uri": "https://localhost:8080/",
          "height": 204
        }
      },
      "source": [
        "# Create data\n",
        "data = {'score': [1,2,3,4,5]}\n",
        "\n",
        "# Create dataframe\n",
        "df = pd.DataFrame(data)\n",
        "\n",
        "df"
      ],
      "execution_count": 0,
      "outputs": [
        {
          "output_type": "execute_result",
          "data": {
            "text/html": [
              "<div>\n",
              "<style scoped>\n",
              "    .dataframe tbody tr th:only-of-type {\n",
              "        vertical-align: middle;\n",
              "    }\n",
              "\n",
              "    .dataframe tbody tr th {\n",
              "        vertical-align: top;\n",
              "    }\n",
              "\n",
              "    .dataframe thead th {\n",
              "        text-align: right;\n",
              "    }\n",
              "</style>\n",
              "<table border=\"1\" class=\"dataframe\">\n",
              "  <thead>\n",
              "    <tr style=\"text-align: right;\">\n",
              "      <th></th>\n",
              "      <th>score</th>\n",
              "    </tr>\n",
              "  </thead>\n",
              "  <tbody>\n",
              "    <tr>\n",
              "      <th>0</th>\n",
              "      <td>1</td>\n",
              "    </tr>\n",
              "    <tr>\n",
              "      <th>1</th>\n",
              "      <td>2</td>\n",
              "    </tr>\n",
              "    <tr>\n",
              "      <th>2</th>\n",
              "      <td>3</td>\n",
              "    </tr>\n",
              "    <tr>\n",
              "      <th>3</th>\n",
              "      <td>4</td>\n",
              "    </tr>\n",
              "    <tr>\n",
              "      <th>4</th>\n",
              "      <td>5</td>\n",
              "    </tr>\n",
              "  </tbody>\n",
              "</table>\n",
              "</div>"
            ],
            "text/plain": [
              "   score\n",
              "0      1\n",
              "1      2\n",
              "2      3\n",
              "3      4\n",
              "4      5"
            ]
          },
          "metadata": {
            "tags": []
          },
          "execution_count": 19
        }
      ]
    },
    {
      "cell_type": "markdown",
      "metadata": {
        "id": "mM-Zyie9n9b8",
        "colab_type": "text"
      },
      "source": [
        "### Tuple"
      ]
    },
    {
      "cell_type": "markdown",
      "metadata": {
        "id": "_-ospZp9mQvA",
        "colab_type": "text"
      },
      "source": [
        "In python, tuples are immutable but lists are mutable\n",
        "\n",
        "Elements can be accessed with square brackets [] as with most other sequence types."
      ]
    },
    {
      "cell_type": "code",
      "metadata": {
        "id": "SPD1n2hNmF7D",
        "colab_type": "code",
        "colab": {}
      },
      "source": [
        "t1 = ('a', 'b', 'c', 'd', 'e')\n",
        "\n",
        "t2 = (1,2)"
      ],
      "execution_count": 0,
      "outputs": []
    },
    {
      "cell_type": "code",
      "metadata": {
        "id": "Ng1wQ86cvutg",
        "colab_type": "code",
        "outputId": "ff6d690d-f6d1-4b3c-fadc-48550c318411",
        "colab": {
          "base_uri": "https://localhost:8080/",
          "height": 34
        }
      },
      "source": [
        "t1[4]"
      ],
      "execution_count": 0,
      "outputs": [
        {
          "output_type": "execute_result",
          "data": {
            "text/plain": [
              "'e'"
            ]
          },
          "metadata": {
            "tags": []
          },
          "execution_count": 45
        }
      ]
    },
    {
      "cell_type": "markdown",
      "metadata": {
        "id": "p7L2Fj9dmZbA",
        "colab_type": "text"
      },
      "source": [
        "Cool feature, tuple assignment"
      ]
    },
    {
      "cell_type": "code",
      "metadata": {
        "id": "E5bnM8kTmbNa",
        "colab_type": "code",
        "colab": {}
      },
      "source": [
        "t1, t2 = t2, t1"
      ],
      "execution_count": 0,
      "outputs": []
    },
    {
      "cell_type": "code",
      "metadata": {
        "id": "-4Mx8R6Nmezn",
        "colab_type": "code",
        "outputId": "a6cbab5e-93ec-47cc-c054-b7c34620ff78",
        "colab": {
          "base_uri": "https://localhost:8080/",
          "height": 34
        }
      },
      "source": [
        "t2"
      ],
      "execution_count": 0,
      "outputs": [
        {
          "output_type": "execute_result",
          "data": {
            "text/plain": [
              "('a', 'b', 'c', 'd', 'e')"
            ]
          },
          "metadata": {
            "tags": []
          },
          "execution_count": 22
        }
      ]
    },
    {
      "cell_type": "markdown",
      "metadata": {
        "id": "VvKpAcnywQUp",
        "colab_type": "text"
      },
      "source": [
        "#### No of occurrences of a value"
      ]
    },
    {
      "cell_type": "code",
      "metadata": {
        "id": "lJ2-ZIzDwUU9",
        "colab_type": "code",
        "outputId": "18b254d7-6ba7-4150-b00e-b0910b884438",
        "colab": {
          "base_uri": "https://localhost:8080/",
          "height": 34
        }
      },
      "source": [
        "a = (1, 2, 2, 2, 3, 4, 2)\n",
        "a.count(2)"
      ],
      "execution_count": 0,
      "outputs": [
        {
          "output_type": "execute_result",
          "data": {
            "text/plain": [
              "4"
            ]
          },
          "metadata": {
            "tags": []
          },
          "execution_count": 48
        }
      ]
    },
    {
      "cell_type": "markdown",
      "metadata": {
        "id": "AydrNLOFka8F",
        "colab_type": "text"
      },
      "source": [
        "#### Named tuple"
      ]
    },
    {
      "cell_type": "code",
      "metadata": {
        "id": "6dyYF2dckeEo",
        "colab_type": "code",
        "colab": {}
      },
      "source": [
        "import collections\n",
        "Grade = collections.namedtuple('Grade', ('score', 'weight'))"
      ],
      "execution_count": 0,
      "outputs": []
    },
    {
      "cell_type": "markdown",
      "metadata": {
        "id": "LCjUhhL3m4v2",
        "colab_type": "text"
      },
      "source": [
        "### String manipulation\n",
        "\n",
        "Strings are a sequence of Unicode characters and therefore can be treated like other sequences, such as lists and tuples.\n",
        "\n",
        "You can do slicing etc for strings also like s[:3]"
      ]
    },
    {
      "cell_type": "code",
      "metadata": {
        "id": "k93obHA3mfiq",
        "colab_type": "code",
        "outputId": "e584f7ae-b337-44fa-d16a-b8f6642e355b",
        "colab": {
          "base_uri": "https://localhost:8080/",
          "height": 34
        }
      },
      "source": [
        "addr = 'monty@python.org'\n",
        "uname, domain = addr.split('@')\n",
        "uname"
      ],
      "execution_count": 0,
      "outputs": [
        {
          "output_type": "execute_result",
          "data": {
            "text/plain": [
              "'monty'"
            ]
          },
          "metadata": {
            "tags": []
          },
          "execution_count": 24
        }
      ]
    },
    {
      "cell_type": "code",
      "metadata": {
        "id": "ftusgPoQoYUN",
        "colab_type": "code",
        "outputId": "04c3d539-1263-451d-d42f-bb76ae5ff5f5",
        "colab": {
          "base_uri": "https://localhost:8080/",
          "height": 34
        }
      },
      "source": [
        "  #Reverse a string\n",
        "  a =  \"codementor\"\n",
        "  print(a[::-1])"
      ],
      "execution_count": 0,
      "outputs": [
        {
          "output_type": "stream",
          "text": [
            "rotnemedoc\n"
          ],
          "name": "stdout"
        }
      ]
    },
    {
      "cell_type": "code",
      "metadata": {
        "id": "cZF5PxQBo6CY",
        "colab_type": "code",
        "outputId": "ef99bb8b-2847-44ed-a9ab-cb091b5912a7",
        "colab": {
          "base_uri": "https://localhost:8080/",
          "height": 34
        }
      },
      "source": [
        "#Create a single string from all the elements in list above.\n",
        "a = [\"Code\", \"mentor\", \"Python\", \"Developer\"]\n",
        "print(\" \".join(a))"
      ],
      "execution_count": 0,
      "outputs": [
        {
          "output_type": "stream",
          "text": [
            "Code mentor Python Developer\n"
          ],
          "name": "stdout"
        }
      ]
    },
    {
      "cell_type": "code",
      "metadata": {
        "id": "LZp82Tboo9UE",
        "colab_type": "code",
        "outputId": "baeda0bf-200d-42b2-80f1-5ebd7680172c",
        "colab": {
          "base_uri": "https://localhost:8080/",
          "height": 34
        }
      },
      "source": [
        "print(\"code\"*4+' '+\"mentor\"*5)"
      ],
      "execution_count": 0,
      "outputs": [
        {
          "output_type": "stream",
          "text": [
            "codecodecodecode mentormentormentormentormentor\n"
          ],
          "name": "stdout"
        }
      ]
    },
    {
      "cell_type": "markdown",
      "metadata": {
        "id": "XaW5NmUYrfTg",
        "colab_type": "text"
      },
      "source": [
        "You can write string literals using either single quotes ' or double quotes \".\n",
        "\n",
        "For multiline strings with line breaks, you can use triple quotes, either ''' or \"\"\"\n",
        "\n"
      ]
    },
    {
      "cell_type": "code",
      "metadata": {
        "id": "Ktzrh125rLOv",
        "colab_type": "code",
        "colab": {}
      },
      "source": [
        "c = \"\"\"\n",
        "This is a longer string that\n",
        "spans multiple lines\n",
        "\"\"\""
      ],
      "execution_count": 0,
      "outputs": []
    },
    {
      "cell_type": "code",
      "metadata": {
        "id": "_bwPxvRprMAo",
        "colab_type": "code",
        "outputId": "8e1ee102-16f5-42cd-fd7c-b9ec9f488186",
        "colab": {
          "base_uri": "https://localhost:8080/",
          "height": 34
        }
      },
      "source": [
        "c.count('\\n')"
      ],
      "execution_count": 0,
      "outputs": [
        {
          "output_type": "execute_result",
          "data": {
            "text/plain": [
              "3"
            ]
          },
          "metadata": {
            "tags": []
          },
          "execution_count": 14
        }
      ]
    },
    {
      "cell_type": "markdown",
      "metadata": {
        "id": "uyhqRsAirtQy",
        "colab_type": "text"
      },
      "source": [
        "Escape character"
      ]
    },
    {
      "cell_type": "code",
      "metadata": {
        "id": "NCu_6kM9rsoo",
        "colab_type": "code",
        "outputId": "05d7129d-5253-496d-9c90-6afeb7158220",
        "colab": {
          "base_uri": "https://localhost:8080/",
          "height": 34
        }
      },
      "source": [
        "s = '12\\\\34'\n",
        "print(s)"
      ],
      "execution_count": 0,
      "outputs": [
        {
          "output_type": "stream",
          "text": [
            "12\\34\n"
          ],
          "name": "stdout"
        }
      ]
    },
    {
      "cell_type": "markdown",
      "metadata": {
        "id": "iYdRMLQlr_rI",
        "colab_type": "text"
      },
      "source": [
        "r prefix for string to be treated as is"
      ]
    },
    {
      "cell_type": "code",
      "metadata": {
        "id": "8EWCO20Er8E0",
        "colab_type": "code",
        "outputId": "f76ccdf1-8e97-4800-9489-dfb5e5915355",
        "colab": {
          "base_uri": "https://localhost:8080/",
          "height": 34
        }
      },
      "source": [
        "s = r'12\\\\34'\n",
        "print(s)"
      ],
      "execution_count": 0,
      "outputs": [
        {
          "output_type": "stream",
          "text": [
            "12\\\\34\n"
          ],
          "name": "stdout"
        }
      ]
    },
    {
      "cell_type": "markdown",
      "metadata": {
        "id": "HSpf327ksHS_",
        "colab_type": "text"
      },
      "source": [
        "concatentation"
      ]
    },
    {
      "cell_type": "code",
      "metadata": {
        "id": "OE285g6QsGBN",
        "colab_type": "code",
        "outputId": "73f2f87f-1991-4f91-9ea0-c5ae9cd659ec",
        "colab": {
          "base_uri": "https://localhost:8080/",
          "height": 34
        }
      },
      "source": [
        "a = 'hello'\n",
        "b = 'world'\n",
        "a + b"
      ],
      "execution_count": 0,
      "outputs": [
        {
          "output_type": "execute_result",
          "data": {
            "text/plain": [
              "'helloworld'"
            ]
          },
          "metadata": {
            "tags": []
          },
          "execution_count": 19
        }
      ]
    },
    {
      "cell_type": "markdown",
      "metadata": {
        "id": "HIkn95uKvSqV",
        "colab_type": "text"
      },
      "source": [
        "#### String templating or formatting\n",
        "\n",
        "\n",
        "{0:.2f} means to format the first argument as a floating-point number with two decimal places.\n",
        "\n",
        "{1:s} means to format the second argument as a string.\n",
        "\n",
        "{2:d} means to format the third argument as an exact integer.\n"
      ]
    },
    {
      "cell_type": "code",
      "metadata": {
        "id": "_X_n8NmZvWgq",
        "colab_type": "code",
        "outputId": "86728f20-e342-4c9a-ad9d-4f677a3875ba",
        "colab": {
          "base_uri": "https://localhost:8080/",
          "height": 34
        }
      },
      "source": [
        "template = '{0:.2f} {1:s} are worth US${2:d}'\n",
        "\n",
        "template.format(4.5560, 'Argentine Pesos', 1)"
      ],
      "execution_count": 0,
      "outputs": [
        {
          "output_type": "execute_result",
          "data": {
            "text/plain": [
              "'4.56 Argentine Pesos are worth US$1'"
            ]
          },
          "metadata": {
            "tags": []
          },
          "execution_count": 43
        }
      ]
    },
    {
      "cell_type": "markdown",
      "metadata": {
        "id": "Mm1JJqzVnSpS",
        "colab_type": "text"
      },
      "source": [
        "### Dictionary"
      ]
    },
    {
      "cell_type": "code",
      "metadata": {
        "id": "dLcPRO2mm912",
        "colab_type": "code",
        "outputId": "b40f1e65-a6ed-4187-acdc-9da6c7a23378",
        "colab": {
          "base_uri": "https://localhost:8080/",
          "height": 34
        }
      },
      "source": [
        "d = {'a':0, 'b':1, 'c':2}\n",
        "t = d.items()\n",
        "t"
      ],
      "execution_count": 0,
      "outputs": [
        {
          "output_type": "execute_result",
          "data": {
            "text/plain": [
              "dict_items([('a', 0), ('b', 1), ('c', 2)])"
            ]
          },
          "metadata": {
            "tags": []
          },
          "execution_count": 25
        }
      ]
    },
    {
      "cell_type": "markdown",
      "metadata": {
        "id": "X6TOSvTFZh-v",
        "colab_type": "text"
      },
      "source": [
        "#### DefaultDict over Dict\n",
        "\n",
        "Dictionaries are useful for bookkeeping and tracking statistics. One problem with dictionaries is that you can’t assume any keys are already present. That makes it clumsy to do simple things like increment a counter stored in a dictionary."
      ]
    },
    {
      "cell_type": "code",
      "metadata": {
        "id": "I6Zhga0nZhaq",
        "colab_type": "code",
        "colab": {}
      },
      "source": [
        "stats = {}\n",
        "key = 'my_counter'\n",
        "if key not in stats: #we can do better\n",
        "   stats[key] = 0\n",
        "stats[key] += 1"
      ],
      "execution_count": 0,
      "outputs": []
    },
    {
      "cell_type": "markdown",
      "metadata": {
        "id": "IlQbV8-OZwYm",
        "colab_type": "text"
      },
      "source": [
        "The defaultdict class from the collections module simplifies this by automatically storing a default value when a key doesn’t exist. All you have to do is provide a function that will return the default value each time a key is missing. In this example, the int built-in function returns 0 (see Item 23: “Accept Functions for Simple Interfaces Instead of Classes” for another example). Now, incrementing a counter is simple.\n",
        "\n"
      ]
    },
    {
      "cell_type": "code",
      "metadata": {
        "id": "whj2bzwxZuXR",
        "colab_type": "code",
        "outputId": "582570a0-e035-4706-c12e-f2d06db5f031",
        "colab": {
          "base_uri": "https://localhost:8080/",
          "height": 34
        }
      },
      "source": [
        "from collections import defaultdict\n",
        "stats = defaultdict(int)\n",
        "stats['my_counter'] += 1\n",
        "stats.items()"
      ],
      "execution_count": 0,
      "outputs": [
        {
          "output_type": "execute_result",
          "data": {
            "text/plain": [
              "dict_items([('my_counter', 1)])"
            ]
          },
          "metadata": {
            "tags": []
          },
          "execution_count": 125
        }
      ]
    },
    {
      "cell_type": "markdown",
      "metadata": {
        "id": "vi80p7nB8zDs",
        "colab_type": "text"
      },
      "source": [
        "### Set"
      ]
    },
    {
      "cell_type": "code",
      "metadata": {
        "id": "xm2uXL5r81u4",
        "colab_type": "code",
        "colab": {}
      },
      "source": [
        "names = ['Bob', 'Bob', 'Anna']"
      ],
      "execution_count": 0,
      "outputs": []
    },
    {
      "cell_type": "code",
      "metadata": {
        "id": "q6S0A1IB87Nr",
        "colab_type": "code",
        "outputId": "f15bb610-0e6a-45a4-e537-ea3a4ad61a7a",
        "colab": {
          "base_uri": "https://localhost:8080/",
          "height": 34
        }
      },
      "source": [
        "set(names)"
      ],
      "execution_count": 0,
      "outputs": [
        {
          "output_type": "execute_result",
          "data": {
            "text/plain": [
              "{'Anna', 'Bob'}"
            ]
          },
          "metadata": {
            "tags": []
          },
          "execution_count": 64
        }
      ]
    },
    {
      "cell_type": "markdown",
      "metadata": {
        "id": "S1SA4HYGokbk",
        "colab_type": "text"
      },
      "source": [
        "### Matrix"
      ]
    },
    {
      "cell_type": "code",
      "metadata": {
        "id": "hLu9dvVGolaL",
        "colab_type": "code",
        "outputId": "c7363dd1-72f9-43fb-e00d-21b3128b5387",
        "colab": {
          "base_uri": "https://localhost:8080/",
          "height": 68
        }
      },
      "source": [
        "#transpose a matrix\n",
        "mat = [[1, 2, 3], [4, 5, 6]]\n",
        "mat_t = zip(*mat)\n",
        "# or mat_t = rez = [[m[j][i] for j in range(len(m))] for i in range(len(m[0]))] \n",
        "for row in mat_t: \n",
        "    print(row) "
      ],
      "execution_count": 0,
      "outputs": [
        {
          "output_type": "stream",
          "text": [
            "(1, 4)\n",
            "(2, 5)\n",
            "(3, 6)\n"
          ],
          "name": "stdout"
        }
      ]
    },
    {
      "cell_type": "markdown",
      "metadata": {
        "id": "JZKdNKKesdQT",
        "colab_type": "text"
      },
      "source": [
        "### List comprehensions\n",
        "\n",
        "Python provides compact syntax for deriving one list from another. These expressions are called list comprehensions. \n",
        "\n",
        "Unless you’re applying a single-argument function, list comprehensions are clearer than the map built-in function for simple cases. map requires creating a lambda function for the computation, which is visually noisy."
      ]
    },
    {
      "cell_type": "code",
      "metadata": {
        "id": "Walim5KssexC",
        "colab_type": "code",
        "colab": {}
      },
      "source": [
        "def list_double_when_greater_then_five(list):\n",
        "  return [num*2 for num in list if num > 5]"
      ],
      "execution_count": 0,
      "outputs": []
    },
    {
      "cell_type": "code",
      "metadata": {
        "id": "nSJoRTGasn-P",
        "colab_type": "code",
        "outputId": "9993cef0-6dd4-49bc-a6bc-877ee46281d3",
        "colab": {
          "base_uri": "https://localhost:8080/",
          "height": 34
        }
      },
      "source": [
        "list_double_when_greater_then_five([1,2,3,4,5,6,7])"
      ],
      "execution_count": 0,
      "outputs": [
        {
          "output_type": "execute_result",
          "data": {
            "text/plain": [
              "[12, 14]"
            ]
          },
          "metadata": {
            "tags": []
          },
          "execution_count": 40
        }
      ]
    },
    {
      "cell_type": "code",
      "metadata": {
        "id": "jAeE77flaSqK",
        "colab_type": "code",
        "outputId": "e9393841-cac8-4863-c7d5-4721cccfaee2",
        "colab": {
          "base_uri": "https://localhost:8080/",
          "height": 34
        }
      },
      "source": [
        "a = [1, 2, 3, 4, 5, 6, 7, 8, 9, 10]\n",
        "squares = [x**2 for x in a]\n",
        "print(squares)"
      ],
      "execution_count": 0,
      "outputs": [
        {
          "output_type": "stream",
          "text": [
            "[1, 4, 9, 16, 25, 36, 49, 64, 81, 100]\n"
          ],
          "name": "stdout"
        }
      ]
    },
    {
      "cell_type": "code",
      "metadata": {
        "id": "tnGvNXTubEOo",
        "colab_type": "code",
        "outputId": "cacaded3-a92d-44bf-a3db-2c3cbf4c43a8",
        "colab": {
          "base_uri": "https://localhost:8080/",
          "height": 34
        }
      },
      "source": [
        "even_squares = [x**2 for x in a if x % 2 == 0]\n",
        "even_squares"
      ],
      "execution_count": 0,
      "outputs": [
        {
          "output_type": "execute_result",
          "data": {
            "text/plain": [
              "[4, 16, 36, 64, 100]"
            ]
          },
          "metadata": {
            "tags": []
          },
          "execution_count": 14
        }
      ]
    },
    {
      "cell_type": "markdown",
      "metadata": {
        "id": "jXG0lKfYbOAZ",
        "colab_type": "text"
      },
      "source": [
        "The filter built-in function can be used along with map to achieve the same outcome, but it is much harder to read."
      ]
    },
    {
      "cell_type": "markdown",
      "metadata": {
        "id": "FDts90W3bgPq",
        "colab_type": "text"
      },
      "source": [
        "#### List comprehensions in dict and set"
      ]
    },
    {
      "cell_type": "code",
      "metadata": {
        "id": "hP2t2k62bfRt",
        "colab_type": "code",
        "outputId": "e84b28de-2934-43bd-d08a-cdff4c462f10",
        "colab": {
          "base_uri": "https://localhost:8080/",
          "height": 51
        }
      },
      "source": [
        "chile_ranks = {'ghost': 1, 'habanero': 2, 'cayenne': 3}\n",
        "rank_dict = {rank: name for name, rank in chile_ranks.items()}\n",
        "chile_len_set = {len(name) for name in rank_dict.values()}\n",
        "print(rank_dict)\n",
        "print(chile_len_set)"
      ],
      "execution_count": 0,
      "outputs": [
        {
          "output_type": "stream",
          "text": [
            "{1: 'ghost', 2: 'habanero', 3: 'cayenne'}\n",
            "{8, 5, 7}\n"
          ],
          "name": "stdout"
        }
      ]
    },
    {
      "cell_type": "markdown",
      "metadata": {
        "id": "o-zJPWW_cQD3",
        "colab_type": "text"
      },
      "source": [
        "#### List comprehensions also support multiple levels of looping\n",
        "\n",
        "Beyond basic usage (see Item 7: “Use List Comprehensions Instead of map and filter”), list comprehensions also support multiple levels of looping. For example, say you want to simplify a matrix (a list containing other lists) into one flat list of all cells. Here, I do this with a list comprehension by including two for expressions. These expressions run in the order provided from left to right.\n",
        "\n"
      ]
    },
    {
      "cell_type": "code",
      "metadata": {
        "id": "8QzbUHZNcUA1",
        "colab_type": "code",
        "outputId": "a20c3b33-2148-4aa8-fa93-0f50de94fd03",
        "colab": {
          "base_uri": "https://localhost:8080/",
          "height": 34
        }
      },
      "source": [
        "matrix = [[1, 2, 3], [4, 5, 6], [7, 8, 9]]\n",
        "flat = [x for row in matrix for x in row]\n",
        "print(flat)"
      ],
      "execution_count": 0,
      "outputs": [
        {
          "output_type": "stream",
          "text": [
            "[1, 2, 3, 4, 5, 6, 7, 8, 9]\n"
          ],
          "name": "stdout"
        }
      ]
    },
    {
      "cell_type": "markdown",
      "metadata": {
        "id": "QJUQVhuCcgp7",
        "colab_type": "text"
      },
      "source": [
        "Maintaining the two level layer"
      ]
    },
    {
      "cell_type": "code",
      "metadata": {
        "id": "ENH2AoiUcirw",
        "colab_type": "code",
        "outputId": "6af47374-69f9-4f5d-abce-260231b09e2f",
        "colab": {
          "base_uri": "https://localhost:8080/",
          "height": 34
        }
      },
      "source": [
        "squared = [[x**2 for x in row] for row in matrix]\n",
        "print(squared)"
      ],
      "execution_count": 0,
      "outputs": [
        {
          "output_type": "stream",
          "text": [
            "[[1, 4, 9], [16, 25, 36], [49, 64, 81]]\n"
          ],
          "name": "stdout"
        }
      ]
    },
    {
      "cell_type": "markdown",
      "metadata": {
        "id": "lsCdyR5UcuDs",
        "colab_type": "text"
      },
      "source": [
        "List comprehensions also support multiple if conditions. Multiple conditions at the same loop level are an implicit and expression. For example, say you want to filter a list of numbers to only even values greater than four. These two list comprehensions are equivalent."
      ]
    },
    {
      "cell_type": "code",
      "metadata": {
        "id": "8RQ4ZkdFcvqD",
        "colab_type": "code",
        "colab": {}
      },
      "source": [
        "a = [1, 2, 3, 4, 5, 6, 7, 8, 9, 10]\n",
        "b = [x for x in a if x > 4 if x % 2 == 0]\n",
        "c = [x for x in a if x > 4 and x % 2 == 0]\n",
        "assert b == c"
      ],
      "execution_count": 0,
      "outputs": []
    },
    {
      "cell_type": "markdown",
      "metadata": {
        "id": "0cxjWwtvdCId",
        "colab_type": "text"
      },
      "source": [
        "#### Avoid complicated list comprehensions\n",
        "\n",
        "The rule of thumb is to avoid using more than two expressions in a list comprehension. This could be two conditions, two loops, or one condition and one loop. As soon as it gets more complicated than that, you should use normal if and for statements and write a helper function"
      ]
    },
    {
      "cell_type": "markdown",
      "metadata": {
        "id": "Etago0CUdqTQ",
        "colab_type": "text"
      },
      "source": [
        "#### List comprehensions for large input\n",
        "\n",
        "For example, say you want to read a file and return the number of characters on each line. Doing this with a list comprehension would require holding the length of every line of the file in memory. If the file is absolutely enormous or perhaps a never-ending network socket, list comprehensions are problematic. Here, I use a list comprehension in a way that can only handle small input values."
      ]
    },
    {
      "cell_type": "markdown",
      "metadata": {
        "id": "ORbgQFMhDq6u",
        "colab_type": "text"
      },
      "source": [
        "#### Generator expressions for large list comprehensions"
      ]
    },
    {
      "cell_type": "code",
      "metadata": {
        "id": "9uBjehKEDxHV",
        "colab_type": "code",
        "outputId": "1d098156-9b3b-489e-c314-9c8f079fa153",
        "colab": {
          "base_uri": "https://localhost:8080/",
          "height": 34
        }
      },
      "source": [
        "it = [len(x) for x in [\"hello\", \"python\"]]\n",
        "print(it)"
      ],
      "execution_count": 0,
      "outputs": [
        {
          "output_type": "stream",
          "text": [
            "[5, 6]\n"
          ],
          "name": "stdout"
        }
      ]
    },
    {
      "cell_type": "code",
      "metadata": {
        "id": "GpzBWRXcDpZF",
        "colab_type": "code",
        "outputId": "3e80a005-0ad2-4928-9bdb-137efcf88454",
        "colab": {
          "base_uri": "https://localhost:8080/",
          "height": 34
        }
      },
      "source": [
        "#Assume the list is LARGE\n",
        "a = [\"hello\", \"world\"]\n",
        "it = (len(x) for x in a)\n",
        "print(it)"
      ],
      "execution_count": 0,
      "outputs": [
        {
          "output_type": "stream",
          "text": [
            "<generator object <genexpr> at 0x7f005999a2b0>\n"
          ],
          "name": "stdout"
        }
      ]
    },
    {
      "cell_type": "markdown",
      "metadata": {
        "id": "FfeqYCinD-3Z",
        "colab_type": "text"
      },
      "source": [
        "For example, say you want to read a file and return the number of characters on each line. Doing this with a list comprehension would require holding the length of every line of the file in memory. If the file is absolutely enormous or perhaps a never-ending network socket, list comprehensions are problematic.\n",
        "\n",
        "To solve this, Python provides generator expressions, a generalization of list comprehensions and generators. Generator expressions don’t materialize the whole output sequence when they’re run. Instead, generator expressions evaluate to an iterator that yields one item at a time from the expression.\n",
        "\n",
        "A generator expression is created by putting list-comprehension-like syntax between () characters. Here, I use a generator expression that is equivalent to the code above. However, the generator expression immediately evaluates to an iterator and doesn’t make any forward progress.\n",
        "\n",
        "The returned iterator can be advanced one step at a time to produce the next output from the generator expression as needed (using the next built-in function). Your code can consume as much of the generator expression as you want without risking a blowup in memory usage.\n",
        "\n",
        "Chaining generators like this executes very quickly in Python. When you’re looking for a way to compose functionality that’s operating on a large stream of input, generator expressions are the best tool for the job. "
      ]
    },
    {
      "cell_type": "code",
      "metadata": {
        "id": "pHP1Jsm5EYMD",
        "colab_type": "code",
        "outputId": "d2c77009-8753-4e1b-eeba-e89bfe33124e",
        "colab": {
          "base_uri": "https://localhost:8080/",
          "height": 51
        }
      },
      "source": [
        "for i in range(len(a)):\n",
        "  print(next(it))"
      ],
      "execution_count": 0,
      "outputs": [
        {
          "output_type": "stream",
          "text": [
            "5\n",
            "5\n"
          ],
          "name": "stdout"
        }
      ]
    },
    {
      "cell_type": "markdown",
      "metadata": {
        "id": "Yk5sGv4nFMdC",
        "colab_type": "text"
      },
      "source": [
        "Another powerful outcome of generator expressions is that they can be composed together. Here, I take the iterator returned by the generator expression above and use it as the input for another generator expression."
      ]
    },
    {
      "cell_type": "code",
      "metadata": {
        "id": "TLV6sW7oFLxe",
        "colab_type": "code",
        "outputId": "a1a3c20a-37cc-4d43-cbbb-33be612f406c",
        "colab": {
          "base_uri": "https://localhost:8080/",
          "height": 34
        }
      },
      "source": [
        "roots = ((x, x**0.5) for x in it)\n",
        "print(next(roots))"
      ],
      "execution_count": 0,
      "outputs": [
        {
          "output_type": "stream",
          "text": [
            "(5, 2.23606797749979)\n"
          ],
          "name": "stdout"
        }
      ]
    },
    {
      "cell_type": "markdown",
      "metadata": {
        "id": "hL5UbPrzFkZM",
        "colab_type": "text"
      },
      "source": [
        "IMPORTANT CATCH WHILE USING SOME GENERATOR EXPRESSIONS : The iterators returned by generator expressions are stateful, so you must be careful not to use them more than once"
      ]
    },
    {
      "cell_type": "markdown",
      "metadata": {
        "id": "YUhbKA5NGEgs",
        "colab_type": "text"
      },
      "source": [
        "#### Prefer enumerate over range"
      ]
    },
    {
      "cell_type": "code",
      "metadata": {
        "id": "zPPWvE3xGXWj",
        "colab_type": "code",
        "colab": {}
      },
      "source": [
        "flavor_list = ['vanilla', 'chocolate', 'pecan', 'strawberry']"
      ],
      "execution_count": 0,
      "outputs": []
    },
    {
      "cell_type": "code",
      "metadata": {
        "id": "awz7IAyiGDYJ",
        "colab_type": "code",
        "colab": {}
      },
      "source": [
        "for i in range(len(flavor_list)):\n",
        "    flavor = flavor_list[i]\n",
        "    print('%d: %s' % (i + 1, flavor))"
      ],
      "execution_count": 0,
      "outputs": []
    },
    {
      "cell_type": "markdown",
      "metadata": {
        "id": "zD46Hk_UGPS4",
        "colab_type": "text"
      },
      "source": [
        "Enumerate wraps any iterator with a lazy generator. This generator yields pairs of the loop index and the next value from the iterator. The resulting code is much clearer."
      ]
    },
    {
      "cell_type": "code",
      "metadata": {
        "id": "cBFrMQe5GOWF",
        "colab_type": "code",
        "outputId": "61db94cb-5455-4149-bdf6-fce9c2e7f4d3",
        "colab": {
          "base_uri": "https://localhost:8080/",
          "height": 85
        }
      },
      "source": [
        "for i,f in enumerate(flavor_list):\n",
        "  print('%d: %s' % (i + 1, f))"
      ],
      "execution_count": 0,
      "outputs": [
        {
          "output_type": "stream",
          "text": [
            "1: vanilla\n",
            "2: chocolate\n",
            "3: pecan\n",
            "4: strawberry\n"
          ],
          "name": "stdout"
        }
      ]
    },
    {
      "cell_type": "markdown",
      "metadata": {
        "id": "fGbbShp2G74-",
        "colab_type": "text"
      },
      "source": [
        "You can make this even shorter by specifying the number from which enumerate should begin counting (1 in this case)."
      ]
    },
    {
      "cell_type": "code",
      "metadata": {
        "id": "vY7aZmZkG826",
        "colab_type": "code",
        "outputId": "f2a3ddfa-bc30-44af-e430-326deac5a8df",
        "colab": {
          "base_uri": "https://localhost:8080/",
          "height": 85
        }
      },
      "source": [
        "for i, flavor in enumerate(flavor_list, 1):\n",
        "    print('%d: %s' % (i, flavor))"
      ],
      "execution_count": 0,
      "outputs": [
        {
          "output_type": "stream",
          "text": [
            "1: vanilla\n",
            "2: chocolate\n",
            "3: pecan\n",
            "4: strawberry\n"
          ],
          "name": "stdout"
        }
      ]
    },
    {
      "cell_type": "markdown",
      "metadata": {
        "id": "KGmSOhBatCTS",
        "colab_type": "text"
      },
      "source": [
        "### Map, filter and  reduce"
      ]
    },
    {
      "cell_type": "code",
      "metadata": {
        "id": "aUFc6w6obQ6c",
        "colab_type": "code",
        "colab": {}
      },
      "source": [
        "alt = map(lambda x: x**2, filter(lambda x: x % 2 == 0, a))\n",
        "assert even_squares == list(alt)"
      ],
      "execution_count": 0,
      "outputs": []
    },
    {
      "cell_type": "code",
      "metadata": {
        "id": "FVaZX6EztDTl",
        "colab_type": "code",
        "colab": {}
      },
      "source": [
        "arr = map(lambda x : 2*x, [1,2,3,4,5])"
      ],
      "execution_count": 0,
      "outputs": []
    },
    {
      "cell_type": "code",
      "metadata": {
        "id": "sYotiW_OtI-J",
        "colab_type": "code",
        "outputId": "f2e4a18e-6e5b-4a0d-cdcf-abfb89b5eb6a",
        "colab": {
          "base_uri": "https://localhost:8080/",
          "height": 34
        }
      },
      "source": [
        "from functools import reduce\n",
        "reduce(lambda x,y : x+ y, arr)"
      ],
      "execution_count": 0,
      "outputs": [
        {
          "output_type": "execute_result",
          "data": {
            "text/plain": [
              "30"
            ]
          },
          "metadata": {
            "tags": []
          },
          "execution_count": 44
        }
      ]
    },
    {
      "cell_type": "code",
      "metadata": {
        "id": "ldSa2q9ktJpo",
        "colab_type": "code",
        "outputId": "302c6b3c-c8f6-45a1-e176-e6b5f1f2a93c",
        "colab": {
          "base_uri": "https://localhost:8080/",
          "height": 34
        }
      },
      "source": [
        "[1]*6"
      ],
      "execution_count": 0,
      "outputs": [
        {
          "output_type": "execute_result",
          "data": {
            "text/plain": [
              "[1, 1, 1, 1, 1, 1]"
            ]
          },
          "metadata": {
            "tags": []
          },
          "execution_count": 1
        }
      ]
    },
    {
      "cell_type": "code",
      "metadata": {
        "id": "J80Y3OmvUWTb",
        "colab_type": "code",
        "outputId": "23ae52f2-9060-43bc-dc66-0aaf8253c85b",
        "colab": {
          "base_uri": "https://localhost:8080/",
          "height": 374
        }
      },
      "source": [
        "import this"
      ],
      "execution_count": 0,
      "outputs": [
        {
          "output_type": "stream",
          "text": [
            "The Zen of Python, by Tim Peters\n",
            "\n",
            "Beautiful is better than ugly.\n",
            "Explicit is better than implicit.\n",
            "Simple is better than complex.\n",
            "Complex is better than complicated.\n",
            "Flat is better than nested.\n",
            "Sparse is better than dense.\n",
            "Readability counts.\n",
            "Special cases aren't special enough to break the rules.\n",
            "Although practicality beats purity.\n",
            "Errors should never pass silently.\n",
            "Unless explicitly silenced.\n",
            "In the face of ambiguity, refuse the temptation to guess.\n",
            "There should be one-- and preferably only one --obvious way to do it.\n",
            "Although that way may not be obvious at first unless you're Dutch.\n",
            "Now is better than never.\n",
            "Although never is often better than *right* now.\n",
            "If the implementation is hard to explain, it's a bad idea.\n",
            "If the implementation is easy to explain, it may be a good idea.\n",
            "Namespaces are one honking great idea -- let's do more of those!\n"
          ],
          "name": "stdout"
        }
      ]
    },
    {
      "cell_type": "code",
      "metadata": {
        "id": "jSo6Wb53nsOg",
        "colab_type": "code",
        "outputId": "52e72b4a-adf9-4701-ad8d-9e2a227d66c5",
        "colab": {
          "base_uri": "https://localhost:8080/",
          "height": 68
        }
      },
      "source": [
        "import sys\n",
        "print(sys.version_info)\n",
        "print(sys.version)"
      ],
      "execution_count": 0,
      "outputs": [
        {
          "output_type": "stream",
          "text": [
            "sys.version_info(major=3, minor=6, micro=8, releaselevel='final', serial=0)\n",
            "3.6.8 (default, Jan 14 2019, 11:02:34) \n",
            "[GCC 8.0.1 20180414 (experimental) [trunk revision 259383]]\n"
          ],
          "name": "stdout"
        }
      ]
    },
    {
      "cell_type": "markdown",
      "metadata": {
        "id": "D3QFh0wfW1FH",
        "colab_type": "text"
      },
      "source": [
        "### Use built in data structures and algorithms\n",
        "\n",
        "When you’re implementing Python programs that handle a non-trivial amount of data, you’ll eventually see slowdowns caused by the algorithmic complexity of your code. This usually isn’t the result of Python’s speed as a language. The issue, more likely, is that you aren’t using the best algorithms and data structures for your problem."
      ]
    },
    {
      "cell_type": "markdown",
      "metadata": {
        "id": "1nz8WMugXHfT",
        "colab_type": "text"
      },
      "source": [
        "#### Deque\n"
      ]
    },
    {
      "cell_type": "code",
      "metadata": {
        "id": "G8oUVmxHWx2I",
        "colab_type": "code",
        "outputId": "bc7c7c47-7c5e-40a2-a0d5-dbebf45dcf4d",
        "colab": {
          "base_uri": "https://localhost:8080/",
          "height": 34
        }
      },
      "source": [
        "from collections import deque\n",
        "fifo = deque()\n",
        "fifo.append(1)      # Producer\n",
        "fifo.append(2) \n",
        "x = fifo.popleft()  # Consumer\n",
        "x"
      ],
      "execution_count": 0,
      "outputs": [
        {
          "output_type": "execute_result",
          "data": {
            "text/plain": [
              "1"
            ]
          },
          "metadata": {
            "tags": []
          },
          "execution_count": 109
        }
      ]
    },
    {
      "cell_type": "markdown",
      "metadata": {
        "id": "ran5wPq2X1Xd",
        "colab_type": "text"
      },
      "source": [
        "#### Decimal\n",
        "\n",
        "The solution is to use the Decimal class from the decimal built-in module. The Decimal class provides fixed point math of 28 decimal points by default."
      ]
    },
    {
      "cell_type": "code",
      "metadata": {
        "id": "OUryy_wXX248",
        "colab_type": "code",
        "outputId": "563ece66-cdfe-4df5-a056-f75f88863775",
        "colab": {
          "base_uri": "https://localhost:8080/",
          "height": 68
        }
      },
      "source": [
        "from decimal import Decimal\n",
        "from decimal import ROUND_UP\n",
        "rate = Decimal('0.05')\n",
        "seconds = Decimal('5')\n",
        "cost = rate * seconds / Decimal('60')\n",
        "rounded = cost.quantize(Decimal('0.01'), rounding=ROUND_UP)\n",
        "print(cost)\n",
        "print(rounded)\n",
        "print(round(cost, 2)) #Always rounds down"
      ],
      "execution_count": 0,
      "outputs": [
        {
          "output_type": "stream",
          "text": [
            "0.004166666666666666666666666667\n",
            "0.01\n",
            "0.00\n"
          ],
          "name": "stdout"
        }
      ]
    },
    {
      "cell_type": "markdown",
      "metadata": {
        "id": "09G8qU4MZImM",
        "colab_type": "text"
      },
      "source": [
        "#### Fractions\n",
        "\n",
        "For representing rational numbers with no limit to precision, consider using the Fraction class from the fractions built-in module.\n",
        "\n"
      ]
    },
    {
      "cell_type": "markdown",
      "metadata": {
        "id": "80Eutr36ouTQ",
        "colab_type": "text"
      },
      "source": [
        "### Whats a python runtime\n",
        "You're computer doesn't understand python natively, it only understands machine code. In order to get your machine to run python code you need some way to convert it into machine code. The programs, libraries, and configuration that allow you to do this are collectively known as the \"python runtime environment\".There are multiple popular runtimes for Python: CPython, Jython, IronPython, PyPy, etc."
      ]
    },
    {
      "cell_type": "markdown",
      "metadata": {
        "id": "hBjyEsugo5xG",
        "colab_type": "text"
      },
      "source": [
        "### Python style guide\n",
        "Python Enhancement Proposal #8, otherwise known as PEP 8, is the style guide for how to format Python code. Follow style guide here  : https://www.python.org/dev/peps/pep-0008/"
      ]
    },
    {
      "cell_type": "markdown",
      "metadata": {
        "id": "te8EBRhzpjGH",
        "colab_type": "text"
      },
      "source": [
        "### Encoding and decoding in python\n",
        "Encoding - convert unicode (string) to UTF-8 (bytes)"
      ]
    },
    {
      "cell_type": "markdown",
      "metadata": {
        "id": "34Z1L6MYudsN",
        "colab_type": "text"
      },
      "source": [
        "Unicode has become the first-class string type to enable more consistent handling of ASCII and non-ASCII text. "
      ]
    },
    {
      "cell_type": "code",
      "metadata": {
        "id": "u_C4JPY7uW_E",
        "colab_type": "code",
        "colab": {}
      },
      "source": [
        "val = \"español\""
      ],
      "execution_count": 0,
      "outputs": []
    },
    {
      "cell_type": "code",
      "metadata": {
        "id": "dMBwiQd1uYwn",
        "colab_type": "code",
        "outputId": "9338f4d2-9f85-4eb6-e070-e7aaf8ca6a97",
        "colab": {
          "base_uri": "https://localhost:8080/",
          "height": 34
        }
      },
      "source": [
        "val"
      ],
      "execution_count": 0,
      "outputs": [
        {
          "output_type": "execute_result",
          "data": {
            "text/plain": [
              "'español'"
            ]
          },
          "metadata": {
            "tags": []
          },
          "execution_count": 33
        }
      ]
    },
    {
      "cell_type": "markdown",
      "metadata": {
        "id": "4Y8SemU1uccv",
        "colab_type": "text"
      },
      "source": [
        "Convert Unicode string to UTF-8"
      ]
    },
    {
      "cell_type": "code",
      "metadata": {
        "id": "TgbTV2MhuZu8",
        "colab_type": "code",
        "outputId": "43719178-5e13-4b22-9fd1-f3484c9ca532",
        "colab": {
          "base_uri": "https://localhost:8080/",
          "height": 34
        }
      },
      "source": [
        "val_utf8 = val.encode('utf-8')\n",
        "val_utf8"
      ],
      "execution_count": 0,
      "outputs": [
        {
          "output_type": "execute_result",
          "data": {
            "text/plain": [
              "b'espa\\xc3\\xb1ol'"
            ]
          },
          "metadata": {
            "tags": []
          },
          "execution_count": 35
        }
      ]
    },
    {
      "cell_type": "code",
      "metadata": {
        "id": "_9Hh08hIusQ_",
        "colab_type": "code",
        "outputId": "d804fa00-e388-4320-f957-23b980bf0891",
        "colab": {
          "base_uri": "https://localhost:8080/",
          "height": 34
        }
      },
      "source": [
        "type(val_utf8)"
      ],
      "execution_count": 0,
      "outputs": [
        {
          "output_type": "execute_result",
          "data": {
            "text/plain": [
              "bytes"
            ]
          },
          "metadata": {
            "tags": []
          },
          "execution_count": 36
        }
      ]
    },
    {
      "cell_type": "code",
      "metadata": {
        "id": "xCK-3_oguxpd",
        "colab_type": "code",
        "outputId": "b43695d7-1a2d-41f1-9f6c-95e0319556da",
        "colab": {
          "base_uri": "https://localhost:8080/",
          "height": 34
        }
      },
      "source": [
        "val_utf8.decode('utf-8')\n"
      ],
      "execution_count": 0,
      "outputs": [
        {
          "output_type": "execute_result",
          "data": {
            "text/plain": [
              "'español'"
            ]
          },
          "metadata": {
            "tags": []
          },
          "execution_count": 37
        }
      ]
    },
    {
      "cell_type": "code",
      "metadata": {
        "id": "7T1oYPRGu-h8",
        "colab_type": "code",
        "outputId": "3cf1f4a0-bef2-410c-f6f6-cbc5a9862486",
        "colab": {
          "base_uri": "https://localhost:8080/",
          "height": 34
        }
      },
      "source": [
        "a = b'this is bytes'\n",
        "decoded = a.decode('utf8')\n",
        "decoded"
      ],
      "execution_count": 0,
      "outputs": [
        {
          "output_type": "execute_result",
          "data": {
            "text/plain": [
              "'this is bytes'"
            ]
          },
          "metadata": {
            "tags": []
          },
          "execution_count": 41
        }
      ]
    },
    {
      "cell_type": "code",
      "metadata": {
        "id": "z6nr6t-aoGt_",
        "colab_type": "code",
        "colab": {}
      },
      "source": [
        "def to_str(bytes_or_str):\n",
        "    if isinstance(bytes_or_str, bytes):\n",
        "        value = bytes_or_str.decode('utf-8')\n",
        "    else:\n",
        "        value = bytes_or_str\n",
        "    return value  # Instance of str"
      ],
      "execution_count": 0,
      "outputs": []
    },
    {
      "cell_type": "code",
      "metadata": {
        "id": "jOYKSaZeqzcz",
        "colab_type": "code",
        "colab": {}
      },
      "source": [
        "def to_bytes(bytes_or_str):\n",
        "    if isinstance(bytes_or_str, str):\n",
        "        value = bytes_or_str.encode('utf-8')\n",
        "    else:\n",
        "        value = bytes_or_str\n",
        "    return value  # Instance of bytes"
      ],
      "execution_count": 0,
      "outputs": []
    },
    {
      "cell_type": "markdown",
      "metadata": {
        "id": "nhNtYvGyrHkS",
        "colab_type": "text"
      },
      "source": [
        "### Python's pithy syntax \n",
        "A pithy phrase or statement is brief but full of substance and meaning."
      ]
    },
    {
      "cell_type": "markdown",
      "metadata": {
        "id": "QN1HuzKbmvV9",
        "colab_type": "text"
      },
      "source": [
        "### Functions in python"
      ]
    },
    {
      "cell_type": "markdown",
      "metadata": {
        "id": "FOZ2hlvkmx3V",
        "colab_type": "text"
      },
      "source": [
        "#### Prefer exceptions over returning None\n",
        "\n",
        "Functions that return None to indicate special meaning are error prone because None and other values (e.g., zero, the empty string) all evaluate to False in conditional expressions."
      ]
    },
    {
      "cell_type": "markdown",
      "metadata": {
        "id": "47nG1rtBnCjJ",
        "colab_type": "text"
      },
      "source": [
        "##### Wrong way"
      ]
    },
    {
      "cell_type": "code",
      "metadata": {
        "id": "0FEZoRbsq1YF",
        "colab_type": "code",
        "outputId": "9574c4a9-fc23-4f60-a62d-1fb6dbdb0340",
        "colab": {
          "base_uri": "https://localhost:8080/",
          "height": 34
        }
      },
      "source": [
        "def divide(a, b):\n",
        "    try:\n",
        "        return a / b\n",
        "    except ZeroDivisionError:\n",
        "        return None\n",
        "\n",
        "x, y = 0, 5\n",
        "result = divide(x, y)\n",
        "if not result:\n",
        "  print('Invalid inputs')  # This is wrong!"
      ],
      "execution_count": 0,
      "outputs": [
        {
          "output_type": "stream",
          "text": [
            "Invalid inputs\n"
          ],
          "name": "stdout"
        }
      ]
    },
    {
      "cell_type": "markdown",
      "metadata": {
        "id": "J9HV1wJ9nUkH",
        "colab_type": "text"
      },
      "source": [
        "##### Slightly better way"
      ]
    },
    {
      "cell_type": "code",
      "metadata": {
        "id": "U4zoOUPPnK5w",
        "colab_type": "code",
        "outputId": "82cfdc80-abd3-4043-c748-75dc865d0dd0",
        "colab": {
          "base_uri": "https://localhost:8080/",
          "height": 51
        }
      },
      "source": [
        "def divide(a, b):\n",
        "    try:\n",
        "        return True, a // b\n",
        "    except ZeroDivisionError:\n",
        "        return False, None\n",
        "      \n",
        "success, result = divide(0, 5)\n",
        "if not success:\n",
        "    print('Invalid inputs')  \n",
        "else:\n",
        "    print(result)\n",
        "success, result = divide(5, 0)\n",
        "if not success:\n",
        "    print('Invalid inputs')   \n",
        "else:\n",
        "    print(result)"
      ],
      "execution_count": 0,
      "outputs": [
        {
          "output_type": "stream",
          "text": [
            "0\n",
            "Invalid inputs\n"
          ],
          "name": "stdout"
        }
      ]
    },
    {
      "cell_type": "markdown",
      "metadata": {
        "id": "WfJJ2FblnuJ8",
        "colab_type": "text"
      },
      "source": [
        "##### Recommended way"
      ]
    },
    {
      "cell_type": "code",
      "metadata": {
        "id": "XjY5TTcBnaAA",
        "colab_type": "code",
        "outputId": "c934c485-05a0-43c7-8898-b1454c850483",
        "colab": {
          "base_uri": "https://localhost:8080/",
          "height": 51
        }
      },
      "source": [
        "def divide(a, b):\n",
        "    try:\n",
        "        return a / b\n",
        "    except ZeroDivisionError as e:\n",
        "        raise ValueError('Invalid inputs') from e\n",
        "x, y = 5, 2\n",
        "try:\n",
        "    result = divide(x, y)\n",
        "except ValueError:\n",
        "    print('Invalid inputs')\n",
        "else:\n",
        "    print('Result is %.1f' % result)        \n",
        "x, y = 5, 0\n",
        "try:\n",
        "    result = divide(x, y)\n",
        "except ValueError:\n",
        "    print('Invalid inputs')\n",
        "else:\n",
        "    print('Result is %.1f' % result)  "
      ],
      "execution_count": 0,
      "outputs": [
        {
          "output_type": "stream",
          "text": [
            "Result is 2.5\n",
            "Invalid inputs\n"
          ],
          "name": "stdout"
        }
      ]
    },
    {
      "cell_type": "markdown",
      "metadata": {
        "id": "dHdsXJhp_qgJ",
        "colab_type": "text"
      },
      "source": [
        "#### Closures and variable scopes\n",
        "\n",
        "Say you want to sort a list of numbers but prioritize one group of numbers to come first. This pattern is useful when you’re rendering a user interface and want important messages or exceptional events to be displayed before everything else.\n",
        "\n",
        "A common way to do this is to pass a helper function as the key argument to a list’s sort method. The helper’s return value will be used as the value for sorting each item in the list. The helper can check whether the given item is in the important group and can vary the sort key accordingly."
      ]
    },
    {
      "cell_type": "code",
      "metadata": {
        "id": "49Qt5_84_wiX",
        "colab_type": "code",
        "colab": {}
      },
      "source": [
        "def sort_priority(values, group):\n",
        "    def helper(x):\n",
        "        if x in group:\n",
        "            return (0, x)\n",
        "        return (1, x)\n",
        "    values.sort(key=helper)"
      ],
      "execution_count": 0,
      "outputs": []
    },
    {
      "cell_type": "code",
      "metadata": {
        "id": "s0onIZDF_4MB",
        "colab_type": "code",
        "outputId": "ca8bcecf-6aef-4fb8-b2fd-02c91b3d99ce",
        "colab": {
          "base_uri": "https://localhost:8080/",
          "height": 34
        }
      },
      "source": [
        "numbers = [8, 3, 1, 2, 5, 4, 7, 6]\n",
        "group = {2, 3, 5, 7}\n",
        "sort_priority(numbers, group)\n",
        "print(numbers)"
      ],
      "execution_count": 0,
      "outputs": [
        {
          "output_type": "stream",
          "text": [
            "[2, 3, 5, 7, 1, 4, 6, 8]\n"
          ],
          "name": "stdout"
        }
      ]
    },
    {
      "cell_type": "markdown",
      "metadata": {
        "id": "YumQbNtF_8lv",
        "colab_type": "text"
      },
      "source": [
        "There are three reasons why this function operates as expected:\n",
        "\n",
        "1) Python supports closures: functions that refer to variables from the scope in which they were defined. This is why the helper function is able to access the group argument to sort_priority.\n",
        "\n",
        "2) Functions are first-class objects in Python, meaning you can refer to them directly, assign them to variables, pass them as arguments to other functions, compare them in expressions and if statements, etc. This is how the sort method can accept a closure function as the key argument.\n",
        "\n",
        "3) Python has specific rules for comparing tuples. It first compares items in index zero, then index one, then index two, and so on. This is why the return value from the helper closure causes the sort order to have two distinct groups.\n",
        "\n",
        "\n"
      ]
    },
    {
      "cell_type": "markdown",
      "metadata": {
        "id": "ODbPztaSAqKd",
        "colab_type": "text"
      },
      "source": [
        "When you reference a variable in an expression, the Python interpreter will traverse the scope to resolve the reference in this order:\n",
        "\n",
        "1. The current function’s scope\n",
        "\n",
        "2. Any enclosing scopes (like other containing functions)\n",
        "\n",
        "3. The scope of the module that contains the code (also called the global scope)\n",
        "\n",
        "4. The built-in scope (that contains functions like len and str)\n",
        "\n",
        "If none of these places have a defined variable with the referenced name, then a NameError exception is raised"
      ]
    },
    {
      "cell_type": "code",
      "metadata": {
        "id": "_3012QThACcN",
        "colab_type": "code",
        "colab": {}
      },
      "source": [
        "def sort_priority(values, group):\n",
        "    found = False\n",
        "    def helper(x):\n",
        "        if x in group:\n",
        "            print(found)\n",
        "            return (0, x)\n",
        "        return (1, x)\n",
        "    values.sort(key=helper)"
      ],
      "execution_count": 0,
      "outputs": []
    },
    {
      "cell_type": "code",
      "metadata": {
        "id": "axuvl2aUAzOi",
        "colab_type": "code",
        "outputId": "975c2a4a-8478-479f-b0e5-d0a58621cb0c",
        "colab": {
          "base_uri": "https://localhost:8080/",
          "height": 102
        }
      },
      "source": [
        "numbers = [8, 3, 1, 2, 5, 4, 7, 6]\n",
        "group = {2, 3, 5, 7}\n",
        "sort_priority(numbers, group)\n",
        "print(numbers)"
      ],
      "execution_count": 0,
      "outputs": [
        {
          "output_type": "stream",
          "text": [
            "False\n",
            "False\n",
            "False\n",
            "False\n",
            "[2, 3, 5, 7, 1, 4, 6, 8]\n"
          ],
          "name": "stdout"
        }
      ]
    },
    {
      "cell_type": "markdown",
      "metadata": {
        "id": "4At11nwfBA6g",
        "colab_type": "text"
      },
      "source": [
        "Assigning a value to a variable works differently. If the variable is already defined in the current function scope, then it will just take on the new value. If the variable doesn’t exist in the current scope, then Python treats the assignment as a variable definition. The scope of the newly defined variable is the function that contains the assignment."
      ]
    },
    {
      "cell_type": "markdown",
      "metadata": {
        "id": "8-pe0z8TBP8m",
        "colab_type": "text"
      },
      "source": [
        "Encountering this problem is sometimes called the scoping bug because it can be so surprising to newbies. But this is the intended result. This behavior prevents local variables in a function from polluting the containing module. Otherwise, every assignment within a function would put garbage into the global module scope. Not only would that be noise, but the interplay of the resulting global variables could cause obscure bugs."
      ]
    },
    {
      "cell_type": "markdown",
      "metadata": {
        "id": "4y0JDWnmBwwL",
        "colab_type": "text"
      },
      "source": [
        "In Python 3, there is special syntax for getting data out of a closure. The nonlocal statement is used to indicate that scope traversal should happen upon assignment for a specific variable name. The only limit is that nonlocal won’t traverse up to the module-level scope (to avoid polluting globals)."
      ]
    },
    {
      "cell_type": "code",
      "metadata": {
        "id": "haZG0_90B4pb",
        "colab_type": "code",
        "colab": {}
      },
      "source": [
        "def sort_priority3(numbers, group):\n",
        "    found = False\n",
        "    def helper(x):\n",
        "        nonlocal found\n",
        "        if x in group:\n",
        "            found = True\n",
        "            return (0, x)\n",
        "        return (1, x)\n",
        "    numbers.sort(key=helper)\n",
        "    return found, numbers"
      ],
      "execution_count": 0,
      "outputs": []
    },
    {
      "cell_type": "code",
      "metadata": {
        "id": "ZrzPgHAXCF-7",
        "colab_type": "code",
        "outputId": "44d0574e-8c1b-4f3a-dee3-3a29e020443e",
        "colab": {
          "base_uri": "https://localhost:8080/",
          "height": 34
        }
      },
      "source": [
        "numbers = [8, 3, 1, 2, 5, 4, 7, 6]\n",
        "group = {2, 3, 5, 7}\n",
        "found, numbers = sort_priority3(numbers, group)\n",
        "found"
      ],
      "execution_count": 0,
      "outputs": [
        {
          "output_type": "execute_result",
          "data": {
            "text/plain": [
              "True"
            ]
          },
          "metadata": {
            "tags": []
          },
          "execution_count": 63
        }
      ]
    },
    {
      "cell_type": "code",
      "metadata": {
        "id": "aihes5v9CVqa",
        "colab_type": "code",
        "outputId": "b0519e7b-070d-40c0-fd49-95ddce0566af",
        "colab": {
          "base_uri": "https://localhost:8080/",
          "height": 34
        }
      },
      "source": [
        "numbers"
      ],
      "execution_count": 0,
      "outputs": [
        {
          "output_type": "execute_result",
          "data": {
            "text/plain": [
              "[2, 3, 5, 7, 1, 4, 6, 8]"
            ]
          },
          "metadata": {
            "tags": []
          },
          "execution_count": 64
        }
      ]
    },
    {
      "cell_type": "markdown",
      "metadata": {
        "id": "ew14axzpCDbA",
        "colab_type": "text"
      },
      "source": [
        "However, much like the anti-pattern of global variables, I’d caution against using nonlocal for anything beyond simple functions. The side effects of nonlocal can be hard to follow. It’s especially hard to understand in long functions where the nonlocal statements and assignments to associated variables are far apart."
      ]
    },
    {
      "cell_type": "code",
      "metadata": {
        "id": "187_W2xUChKz",
        "colab_type": "code",
        "colab": {}
      },
      "source": [
        "class Sorter(object):\n",
        "    def __init__(self, group):\n",
        "        self.group = group\n",
        "        self.found = False\n",
        "\n",
        "    def __call__(self, x):\n",
        "        if x in self.group:\n",
        "            self.found = True\n",
        "            return (0, x)\n",
        "        return (1, x)\n",
        "\n",
        "sorter = Sorter(group)\n",
        "numbers.sort(key=sorter)\n",
        "assert sorter.found is True"
      ],
      "execution_count": 0,
      "outputs": []
    },
    {
      "cell_type": "markdown",
      "metadata": {
        "id": "DTbHqDd5TH-w",
        "colab_type": "text"
      },
      "source": [
        "#### Take advantage of try/catch/finally/else\n",
        "\n",
        "Use try/except/else/finally when you want to do it all in one compound statement. For example, say you want to read a description of work to do from a file, process it, and then update the file in place. Here, the try block is used to read the file and process it. The except block is used to handle exceptions from the try block that are expected. The else block is used to update the file in place and to allow related exceptions to propagate up. The finally block cleans up the file handle."
      ]
    },
    {
      "cell_type": "code",
      "metadata": {
        "id": "aUj_g95TTgnc",
        "colab_type": "code",
        "colab": {}
      },
      "source": [
        "UNDEFINED = object()\n",
        "\n",
        "def divide_json(path):\n",
        "    handle = open(path, 'r+')   # May raise IOError\n",
        "    try:\n",
        "        data = handle.read()    # May raise UnicodeDecodeError\n",
        "        op = json.loads(data)   # May raise ValueError\n",
        "        value = (\n",
        "            op['numerator'] /\n",
        "            op['denominator'])  # May raise ZeroDivisionError\n",
        "    except ZeroDivisionError as e:\n",
        "        return UNDEFINED\n",
        "    else:\n",
        "        op['result'] = value\n",
        "        result = json.dumps(op)\n",
        "        handle.seek(0)\n",
        "        handle.write(result)    # May raise IOError\n",
        "        return value\n",
        "    finally:\n",
        "        handle.close()          # Always runs"
      ],
      "execution_count": 0,
      "outputs": []
    },
    {
      "cell_type": "markdown",
      "metadata": {
        "id": "50CMqTVooScJ",
        "colab_type": "text"
      },
      "source": [
        "### Memory Management in python"
      ]
    },
    {
      "cell_type": "markdown",
      "metadata": {
        "id": "9qfMA-ftoZqC",
        "colab_type": "text"
      },
      "source": [
        "#### Use trace malloc to understand memory usage and leaks\n",
        "\n",
        "Memory management in the default implementation of Python, CPython, uses reference counting. This ensures that as soon as all references to an object have expired, the referenced object is also cleared. CPython also has a built-in cycle detector to ensure that self-referencing objects are eventually garbage collected.\n",
        "\n",
        "In theory, this means that most Python programmers don’t have to worry about allocating or deallocating memory in their programs. It’s taken care of automatically by the language and the CPython runtime. However, in practice, programs eventually do run out of memory due to held references. Figuring out where your Python programs are using or leaking memory proves to be a challenge.\n",
        "\n",
        "The first way to debug memory usage is to ask the gc built-in module to list every object currently known by the garbage collector. Although it’s quite a blunt tool, this approach does let you quickly get a sense of where your program’s memory is being used."
      ]
    },
    {
      "cell_type": "code",
      "metadata": {
        "id": "bT901euIn2s9",
        "colab_type": "code",
        "outputId": "d1739f6b-0d6b-48e8-b7a1-55d4ee0c272a",
        "colab": {
          "base_uri": "https://localhost:8080/",
          "height": 34
        }
      },
      "source": [
        "import gc\n",
        "found_objects = gc.get_objects()\n",
        "print('%d objects before' % len(found_objects))"
      ],
      "execution_count": 0,
      "outputs": [
        {
          "output_type": "stream",
          "text": [
            "128017 objects before\n"
          ],
          "name": "stdout"
        }
      ]
    },
    {
      "cell_type": "markdown",
      "metadata": {
        "id": "MsXxm1VzpMHi",
        "colab_type": "text"
      },
      "source": [
        "The tracemalloc built-in module provides powerful tools for understanding the source of memory usage."
      ]
    },
    {
      "cell_type": "markdown",
      "metadata": {
        "id": "qs6CbZu5qu1f",
        "colab_type": "text"
      },
      "source": [
        "### Documentation in python\n",
        "\n",
        "\n",
        "Each module should have a top-level docstring. This is a string literal that is the first statement in a source file. It should use three double quotes (\"\"\"). The goal of this docstring is to introduce the module and its contents.\n",
        "\n",
        "The first line of the docstring should be a single sentence describing the module’s purpose. The paragraphs that follow should contain the details that all users of the module should know about its operation. The module docstring is also a jumping-off point where you can highlight important classes and functions found in the module."
      ]
    },
    {
      "cell_type": "markdown",
      "metadata": {
        "id": "oFiAPgv2tUVL",
        "colab_type": "text"
      },
      "source": [
        "#### Library documentation"
      ]
    },
    {
      "cell_type": "code",
      "metadata": {
        "id": "5L2lR8BOtZc8",
        "colab_type": "code",
        "outputId": "514315c7-4b79-4759-c29d-abc396c695a5",
        "colab": {
          "base_uri": "https://localhost:8080/",
          "height": 54
        }
      },
      "source": [
        "# words.py\n",
        "#!/usr/bin/env python3\n",
        "\"\"\"Library for testing words for various linguistic patterns.\n",
        "\n",
        "Testing how words relate to each other can be tricky sometimes!\n",
        "This module provides easy ways to determine when words you've\n",
        "found have special properties.\n",
        "\n",
        "Available functions:\n",
        "- palindrome: Determine if a word is a palindrome.\n",
        "- check_anagram: Determine if two words are anagrams.\n",
        "...\n",
        "\"\"\"\n",
        "\n",
        "# ..."
      ],
      "execution_count": 0,
      "outputs": [
        {
          "output_type": "execute_result",
          "data": {
            "text/plain": [
              "\"Library for testing words for various linguistic patterns.\\n\\nTesting how words relate to each other can be tricky sometimes!\\nThis module provides easy ways to determine when words you've\\nfound have special properties.\\n\\nAvailable functions:\\n- palindrome: Determine if a word is a palindrome.\\n- check_anagram: Determine if two words are anagrams.\\n...\\n\""
            ]
          },
          "metadata": {
            "tags": []
          },
          "execution_count": 40
        }
      ]
    },
    {
      "cell_type": "markdown",
      "metadata": {
        "id": "KLylp3odtM-G",
        "colab_type": "text"
      },
      "source": [
        "####  Function documentation"
      ]
    },
    {
      "cell_type": "code",
      "metadata": {
        "id": "S40DpzdstQxo",
        "colab_type": "code",
        "colab": {}
      },
      "source": [
        "def find_anagrams(word, dictionary):\n",
        "    \"\"\"Find all anagrams for a word.\n",
        "\n",
        "    This function only runs as fast as the test for\n",
        "    membership in the 'dictionary' container. It will\n",
        "    be slow if the dictionary is a list and fast if\n",
        "    it's a set.\n",
        "\n",
        "    Args:\n",
        "        word: String of the target word.\n",
        "        dictionary: Container with all strings that\n",
        "            are known to be actual words.\n",
        "\n",
        "    Returns:\n",
        "        List of anagrams that were found. Empty if\n",
        "        none were found.\n",
        "    \"\"\"\n",
        "    # ..."
      ],
      "execution_count": 0,
      "outputs": []
    },
    {
      "cell_type": "code",
      "metadata": {
        "id": "gYSxbBMbo0ap",
        "colab_type": "code",
        "colab": {}
      },
      "source": [
        "def palindrome(word):\n",
        "    \"\"\"Return True if the given word is a palindrome.\"\"\"\n",
        "    return word == word[::-1]"
      ],
      "execution_count": 0,
      "outputs": []
    },
    {
      "cell_type": "code",
      "metadata": {
        "id": "9j7CnQi6qyQ7",
        "colab_type": "code",
        "outputId": "646749a5-633a-48c8-80e7-ac0014b1abcf",
        "colab": {
          "base_uri": "https://localhost:8080/",
          "height": 34
        }
      },
      "source": [
        "palindrome('nan')"
      ],
      "execution_count": 0,
      "outputs": [
        {
          "output_type": "execute_result",
          "data": {
            "text/plain": [
              "True"
            ]
          },
          "metadata": {
            "tags": []
          },
          "execution_count": 36
        }
      ]
    },
    {
      "cell_type": "code",
      "metadata": {
        "id": "xnKcJAQ1q2P1",
        "colab_type": "code",
        "outputId": "52a780e0-7872-433f-9f79-07ca1965277e",
        "colab": {
          "base_uri": "https://localhost:8080/",
          "height": 34
        }
      },
      "source": [
        "print(repr(palindrome.__doc__))"
      ],
      "execution_count": 0,
      "outputs": [
        {
          "output_type": "stream",
          "text": [
            "'Return True if the given word is a palindrome.'\n"
          ],
          "name": "stdout"
        }
      ]
    },
    {
      "cell_type": "markdown",
      "metadata": {
        "id": "h6g9UEJ1ssO9",
        "colab_type": "text"
      },
      "source": [
        "#### Class documentation\n",
        "\n",
        "Each class should have a class-level docstring. This largely follows the same pattern as the module-level docstring. The first line is the single-sentence purpose of the class. Paragraphs that follow discuss important details of the class’s operation.\n",
        "\n",
        "Important public attributes and methods of the class should be highlighted in the class-level docstring. It should also provide guidance to subclasses on how to properly interact with protected attributes (see Item 27: “Prefer Public Attributes Over Private Ones”) and the superclass’s methods.\n",
        "\n"
      ]
    },
    {
      "cell_type": "code",
      "metadata": {
        "id": "HYh4AzoNrlpO",
        "colab_type": "code",
        "colab": {}
      },
      "source": [
        "class Player(object):\n",
        "    \"\"\"Represents a player of the game.\n",
        "\n",
        "    Subclasses may override the 'tick' method to provide\n",
        "    custom animations for the player's movement depending\n",
        "    on their power level, etc.\n",
        "\n",
        "    Public attributes:\n",
        "    - power: Unused power-ups (float between 0 and 1).\n",
        "    - coins: Coins found during the level (integer).\n",
        "    \"\"\"\n",
        "\n",
        "    # ..."
      ],
      "execution_count": 0,
      "outputs": []
    },
    {
      "cell_type": "markdown",
      "metadata": {
        "id": "Ks-TfojPUonh",
        "colab_type": "text"
      },
      "source": [
        "### Namespace in python\n",
        "Approach 1 : The as clause can be used to rename anything you retrieve with the import statement, including entire modules. This makes it easy to access namespaced code and make its identity clear when you use it.\n",
        "\n",
        "Approach 2 : Another approach for avoiding imported name conflicts is to always access names by their highest unique module name.\n",
        "\n",
        "For the example above, you’d first import analysis.utils and import frontend.utils. Then, you’d access the inspect functions with the full paths of analysis.utils.inspect and frontend.utils.inspect.\n",
        "\n",
        "This approach allows you to avoid the as clause altogether. It also makes it abundantly clear to new readers of the code where each function is defined."
      ]
    },
    {
      "cell_type": "code",
      "metadata": {
        "id": "b43HPvRhs2W9",
        "colab_type": "code",
        "colab": {}
      },
      "source": [
        "import numpy as np"
      ],
      "execution_count": 0,
      "outputs": []
    },
    {
      "cell_type": "markdown",
      "metadata": {
        "id": "94AV1evCVBPv",
        "colab_type": "text"
      },
      "source": [
        "The safest approach is to avoid import * in your code and explicitly import names with the from x import y style."
      ]
    },
    {
      "cell_type": "markdown",
      "metadata": {
        "id": "-DS7_hGljlZR",
        "colab_type": "text"
      },
      "source": [
        "### Classes in python"
      ]
    },
    {
      "cell_type": "code",
      "metadata": {
        "id": "Ov_9u6kqUnI9",
        "colab_type": "code",
        "colab": {}
      },
      "source": [
        "class SimpleGradebook(object):\n",
        "    def __init__(self):\n",
        "        self._grades = {}\n",
        "\n",
        "    def add_student(self, name):\n",
        "        self._grades[name] = []\n",
        "\n",
        "    def report_grade(self, name, score):\n",
        "        self._grades[name].append(score)\n",
        "\n",
        "    def average_grade(self, name):\n",
        "        grades = self._grades[name]\n",
        "        return sum(grades) / len(grades)"
      ],
      "execution_count": 0,
      "outputs": []
    },
    {
      "cell_type": "code",
      "metadata": {
        "id": "4G-bHeLFjoqd",
        "colab_type": "code",
        "outputId": "74e83d96-0f8c-486f-9e25-7ec817b24276",
        "colab": {
          "base_uri": "https://localhost:8080/",
          "height": 34
        }
      },
      "source": [
        "book = SimpleGradebook()\n",
        "book.add_student('Isaac Newton')\n",
        "book.report_grade('Isaac Newton', 90)\n",
        "book.report_grade('Isaac Newton', 80)\n",
        "# ...\n",
        "print(book.average_grade('Isaac Newton'))"
      ],
      "execution_count": 0,
      "outputs": [
        {
          "output_type": "stream",
          "text": [
            "85.0\n"
          ],
          "name": "stdout"
        }
      ]
    },
    {
      "cell_type": "markdown",
      "metadata": {
        "id": "Nm6Z27wymHBp",
        "colab_type": "text"
      },
      "source": [
        "#### Use plain attributes instead of get and set, use property and setter only when required\n",
        "In Python, however, you almost never need to implement explicit setter or getter methods. Instead, you should always start your implementations with simple public attributes.\n",
        "\n"
      ]
    },
    {
      "cell_type": "code",
      "metadata": {
        "id": "alXJLsR4mp3N",
        "colab_type": "code",
        "colab": {}
      },
      "source": [
        "#notrecommended\n",
        "\n",
        "class OldResistor(object):\n",
        "    def __init__(self, ohms):\n",
        "        self._ohms = ohms\n",
        "\n",
        "    def get_ohms(self):\n",
        "        return self._ohms\n",
        "\n",
        "    def set_ohms(self, ohms):\n",
        "        self._ohms = ohms"
      ],
      "execution_count": 0,
      "outputs": []
    },
    {
      "cell_type": "code",
      "metadata": {
        "id": "Oc2I_UwxmDU4",
        "colab_type": "code",
        "outputId": "aaddb406-fdec-49af-aefb-6c320d3754ec",
        "colab": {
          "base_uri": "https://localhost:8080/",
          "height": 34
        }
      },
      "source": [
        "#recommended\n",
        "class Resistor(object):\n",
        "    def __init__(self, ohms):\n",
        "        self.ohms = ohms\n",
        "        self.voltage = 0\n",
        "        self.current = 0\n",
        "\n",
        "r1 = Resistor(50e3)\n",
        "r1.ohms = 10e3\n",
        "r1.ohms "
      ],
      "execution_count": 0,
      "outputs": [
        {
          "output_type": "execute_result",
          "data": {
            "text/plain": [
              "10000.0"
            ]
          },
          "metadata": {
            "tags": []
          },
          "execution_count": 139
        }
      ]
    },
    {
      "cell_type": "markdown",
      "metadata": {
        "id": "DaNGsrAxm-YN",
        "colab_type": "text"
      },
      "source": [
        "#### Using @property decorator and its corresponding setter attribute"
      ]
    },
    {
      "cell_type": "markdown",
      "metadata": {
        "id": "qSZaVKT6m8LN",
        "colab_type": "text"
      },
      "source": [
        "Later, if you decide you need special behavior when an attribute is set, you can migrate to the @property decorator and its corresponding setter attribute. Here, I define a new subclass of Resistor that lets me vary the current by assigning the voltage property. Note that in order to work properly the name of both the setter and getter methods must match the intended property name."
      ]
    },
    {
      "cell_type": "code",
      "metadata": {
        "id": "zpIFhoRynBl8",
        "colab_type": "code",
        "colab": {}
      },
      "source": [
        "class VoltageResistance(Resistor):\n",
        "  \n",
        "    def __init__(self, ohms):\n",
        "        super().__init__(ohms)\n",
        "        self._voltage = 0\n",
        "        \n",
        "    @property\n",
        "    def voltage(self):\n",
        "        print(\"hello from voltage\")\n",
        "        return self._voltage\n",
        "\n",
        "    @voltage.setter\n",
        "    def voltage(self, voltage):\n",
        "        self._voltage = voltage\n",
        "        self.current = self._voltage / self.ohms"
      ],
      "execution_count": 0,
      "outputs": []
    },
    {
      "cell_type": "code",
      "metadata": {
        "id": "HFZoxPDYnM-h",
        "colab_type": "code",
        "outputId": "5d4fbcfc-2810-4f91-e276-639ee1efe455",
        "colab": {
          "base_uri": "https://localhost:8080/",
          "height": 85
        }
      },
      "source": [
        "r2 = VoltageResistance(1e3)\n",
        "print('Before: %5r amps' % r2.current)\n",
        "r2.voltage = 10\n",
        "print('After:  %5r V' % r2.voltage)\n",
        "print('After:  %5r amps' % r2.current)"
      ],
      "execution_count": 0,
      "outputs": [
        {
          "output_type": "stream",
          "text": [
            "Before:     0 amps\n",
            "hello from voltage\n",
            "After:     10 V\n",
            "After:   0.01 amps\n"
          ],
          "name": "stdout"
        }
      ]
    },
    {
      "cell_type": "markdown",
      "metadata": {
        "id": "2YIyu4GLnlXI",
        "colab_type": "text"
      },
      "source": [
        "##### Use setter for type checking before setting\n",
        "\n",
        "Specifying a setter on a property also lets you perform type checking and validation on values passed to your class. "
      ]
    },
    {
      "cell_type": "code",
      "metadata": {
        "id": "FJsAVFPanqtN",
        "colab_type": "code",
        "outputId": "519d2e9b-4c61-474e-aeab-ed7ca0a2694c",
        "colab": {
          "base_uri": "https://localhost:8080/",
          "height": 317
        }
      },
      "source": [
        "class BoundedResistance(Resistor):\n",
        "    def __init__(self, ohms):\n",
        "        super().__init__(ohms)\n",
        "\n",
        "    @property\n",
        "    def ohms(self):\n",
        "        return self._ohms\n",
        "\n",
        "    @ohms.setter\n",
        "    def ohms(self, ohms):\n",
        "        if ohms <= 0:\n",
        "            raise ValueError('%f ohms must be > 0' % ohms)\n",
        "        self._ohms = ohms\n",
        "        \n",
        "r3 = BoundedResistance(1e3)\n",
        "r3.ohms = 0\n"
      ],
      "execution_count": 0,
      "outputs": [
        {
          "output_type": "error",
          "ename": "ValueError",
          "evalue": "ignored",
          "traceback": [
            "\u001b[0;31m---------------------------------------------------------------------------\u001b[0m",
            "\u001b[0;31mValueError\u001b[0m                                Traceback (most recent call last)",
            "\u001b[0;32m<ipython-input-141-3d8735dbc1ea>\u001b[0m in \u001b[0;36m<module>\u001b[0;34m()\u001b[0m\n\u001b[1;32m     14\u001b[0m \u001b[0;34m\u001b[0m\u001b[0m\n\u001b[1;32m     15\u001b[0m \u001b[0mr3\u001b[0m \u001b[0;34m=\u001b[0m \u001b[0mBoundedResistance\u001b[0m\u001b[0;34m(\u001b[0m\u001b[0;36m1e3\u001b[0m\u001b[0;34m)\u001b[0m\u001b[0;34m\u001b[0m\u001b[0;34m\u001b[0m\u001b[0m\n\u001b[0;32m---> 16\u001b[0;31m \u001b[0mr3\u001b[0m\u001b[0;34m.\u001b[0m\u001b[0mohms\u001b[0m \u001b[0;34m=\u001b[0m \u001b[0;36m0\u001b[0m\u001b[0;34m\u001b[0m\u001b[0;34m\u001b[0m\u001b[0m\n\u001b[0m",
            "\u001b[0;32m<ipython-input-141-3d8735dbc1ea>\u001b[0m in \u001b[0;36mohms\u001b[0;34m(self, ohms)\u001b[0m\n\u001b[1;32m     10\u001b[0m     \u001b[0;32mdef\u001b[0m \u001b[0mohms\u001b[0m\u001b[0;34m(\u001b[0m\u001b[0mself\u001b[0m\u001b[0;34m,\u001b[0m \u001b[0mohms\u001b[0m\u001b[0;34m)\u001b[0m\u001b[0;34m:\u001b[0m\u001b[0;34m\u001b[0m\u001b[0;34m\u001b[0m\u001b[0m\n\u001b[1;32m     11\u001b[0m         \u001b[0;32mif\u001b[0m \u001b[0mohms\u001b[0m \u001b[0;34m<=\u001b[0m \u001b[0;36m0\u001b[0m\u001b[0;34m:\u001b[0m\u001b[0;34m\u001b[0m\u001b[0;34m\u001b[0m\u001b[0m\n\u001b[0;32m---> 12\u001b[0;31m             \u001b[0;32mraise\u001b[0m \u001b[0mValueError\u001b[0m\u001b[0;34m(\u001b[0m\u001b[0;34m'%f ohms must be > 0'\u001b[0m \u001b[0;34m%\u001b[0m \u001b[0mohms\u001b[0m\u001b[0;34m)\u001b[0m\u001b[0;34m\u001b[0m\u001b[0;34m\u001b[0m\u001b[0m\n\u001b[0m\u001b[1;32m     13\u001b[0m         \u001b[0mself\u001b[0m\u001b[0;34m.\u001b[0m\u001b[0m_ohms\u001b[0m \u001b[0;34m=\u001b[0m \u001b[0mohms\u001b[0m\u001b[0;34m\u001b[0m\u001b[0;34m\u001b[0m\u001b[0m\n\u001b[1;32m     14\u001b[0m \u001b[0;34m\u001b[0m\u001b[0m\n",
            "\u001b[0;31mValueError\u001b[0m: 0.000000 ohms must be > 0"
          ]
        }
      ]
    },
    {
      "cell_type": "code",
      "metadata": {
        "id": "1kEz2dKJoErJ",
        "colab_type": "code",
        "outputId": "d5237559-c7b9-4b20-9021-46c1367536e3",
        "colab": {
          "base_uri": "https://localhost:8080/",
          "height": 307
        }
      },
      "source": [
        "BoundedResistance(-5)"
      ],
      "execution_count": 0,
      "outputs": [
        {
          "output_type": "error",
          "ename": "ValueError",
          "evalue": "ignored",
          "traceback": [
            "\u001b[0;31m---------------------------------------------------------------------------\u001b[0m",
            "\u001b[0;31mValueError\u001b[0m                                Traceback (most recent call last)",
            "\u001b[0;32m<ipython-input-142-9fc5cf3426e1>\u001b[0m in \u001b[0;36m<module>\u001b[0;34m()\u001b[0m\n\u001b[0;32m----> 1\u001b[0;31m \u001b[0mBoundedResistance\u001b[0m\u001b[0;34m(\u001b[0m\u001b[0;34m-\u001b[0m\u001b[0;36m5\u001b[0m\u001b[0;34m)\u001b[0m\u001b[0;34m\u001b[0m\u001b[0;34m\u001b[0m\u001b[0m\n\u001b[0m",
            "\u001b[0;32m<ipython-input-141-3d8735dbc1ea>\u001b[0m in \u001b[0;36m__init__\u001b[0;34m(self, ohms)\u001b[0m\n\u001b[1;32m      1\u001b[0m \u001b[0;32mclass\u001b[0m \u001b[0mBoundedResistance\u001b[0m\u001b[0;34m(\u001b[0m\u001b[0mResistor\u001b[0m\u001b[0;34m)\u001b[0m\u001b[0;34m:\u001b[0m\u001b[0;34m\u001b[0m\u001b[0;34m\u001b[0m\u001b[0m\n\u001b[1;32m      2\u001b[0m     \u001b[0;32mdef\u001b[0m \u001b[0m__init__\u001b[0m\u001b[0;34m(\u001b[0m\u001b[0mself\u001b[0m\u001b[0;34m,\u001b[0m \u001b[0mohms\u001b[0m\u001b[0;34m)\u001b[0m\u001b[0;34m:\u001b[0m\u001b[0;34m\u001b[0m\u001b[0;34m\u001b[0m\u001b[0m\n\u001b[0;32m----> 3\u001b[0;31m         \u001b[0msuper\u001b[0m\u001b[0;34m(\u001b[0m\u001b[0;34m)\u001b[0m\u001b[0;34m.\u001b[0m\u001b[0m__init__\u001b[0m\u001b[0;34m(\u001b[0m\u001b[0mohms\u001b[0m\u001b[0;34m)\u001b[0m\u001b[0;34m\u001b[0m\u001b[0;34m\u001b[0m\u001b[0m\n\u001b[0m\u001b[1;32m      4\u001b[0m \u001b[0;34m\u001b[0m\u001b[0m\n\u001b[1;32m      5\u001b[0m     \u001b[0;34m@\u001b[0m\u001b[0mproperty\u001b[0m\u001b[0;34m\u001b[0m\u001b[0;34m\u001b[0m\u001b[0m\n",
            "\u001b[0;32m<ipython-input-139-142169e34133>\u001b[0m in \u001b[0;36m__init__\u001b[0;34m(self, ohms)\u001b[0m\n\u001b[1;32m      1\u001b[0m \u001b[0;32mclass\u001b[0m \u001b[0mResistor\u001b[0m\u001b[0;34m(\u001b[0m\u001b[0mobject\u001b[0m\u001b[0;34m)\u001b[0m\u001b[0;34m:\u001b[0m\u001b[0;34m\u001b[0m\u001b[0;34m\u001b[0m\u001b[0m\n\u001b[1;32m      2\u001b[0m     \u001b[0;32mdef\u001b[0m \u001b[0m__init__\u001b[0m\u001b[0;34m(\u001b[0m\u001b[0mself\u001b[0m\u001b[0;34m,\u001b[0m \u001b[0mohms\u001b[0m\u001b[0;34m)\u001b[0m\u001b[0;34m:\u001b[0m\u001b[0;34m\u001b[0m\u001b[0;34m\u001b[0m\u001b[0m\n\u001b[0;32m----> 3\u001b[0;31m         \u001b[0mself\u001b[0m\u001b[0;34m.\u001b[0m\u001b[0mohms\u001b[0m \u001b[0;34m=\u001b[0m \u001b[0mohms\u001b[0m\u001b[0;34m\u001b[0m\u001b[0;34m\u001b[0m\u001b[0m\n\u001b[0m\u001b[1;32m      4\u001b[0m         \u001b[0mself\u001b[0m\u001b[0;34m.\u001b[0m\u001b[0mvoltage\u001b[0m \u001b[0;34m=\u001b[0m \u001b[0;36m0\u001b[0m\u001b[0;34m\u001b[0m\u001b[0;34m\u001b[0m\u001b[0m\n\u001b[1;32m      5\u001b[0m         \u001b[0mself\u001b[0m\u001b[0;34m.\u001b[0m\u001b[0mcurrent\u001b[0m \u001b[0;34m=\u001b[0m \u001b[0;36m0\u001b[0m\u001b[0;34m\u001b[0m\u001b[0;34m\u001b[0m\u001b[0m\n",
            "\u001b[0;32m<ipython-input-141-3d8735dbc1ea>\u001b[0m in \u001b[0;36mohms\u001b[0;34m(self, ohms)\u001b[0m\n\u001b[1;32m     10\u001b[0m     \u001b[0;32mdef\u001b[0m \u001b[0mohms\u001b[0m\u001b[0;34m(\u001b[0m\u001b[0mself\u001b[0m\u001b[0;34m,\u001b[0m \u001b[0mohms\u001b[0m\u001b[0;34m)\u001b[0m\u001b[0;34m:\u001b[0m\u001b[0;34m\u001b[0m\u001b[0;34m\u001b[0m\u001b[0m\n\u001b[1;32m     11\u001b[0m         \u001b[0;32mif\u001b[0m \u001b[0mohms\u001b[0m \u001b[0;34m<=\u001b[0m \u001b[0;36m0\u001b[0m\u001b[0;34m:\u001b[0m\u001b[0;34m\u001b[0m\u001b[0;34m\u001b[0m\u001b[0m\n\u001b[0;32m---> 12\u001b[0;31m             \u001b[0;32mraise\u001b[0m \u001b[0mValueError\u001b[0m\u001b[0;34m(\u001b[0m\u001b[0;34m'%f ohms must be > 0'\u001b[0m \u001b[0;34m%\u001b[0m \u001b[0mohms\u001b[0m\u001b[0;34m)\u001b[0m\u001b[0;34m\u001b[0m\u001b[0;34m\u001b[0m\u001b[0m\n\u001b[0m\u001b[1;32m     13\u001b[0m         \u001b[0mself\u001b[0m\u001b[0;34m.\u001b[0m\u001b[0m_ohms\u001b[0m \u001b[0;34m=\u001b[0m \u001b[0mohms\u001b[0m\u001b[0;34m\u001b[0m\u001b[0;34m\u001b[0m\u001b[0m\n\u001b[1;32m     14\u001b[0m \u001b[0;34m\u001b[0m\u001b[0m\n",
            "\u001b[0;31mValueError\u001b[0m: -5.000000 ohms must be > 0"
          ]
        }
      ]
    },
    {
      "cell_type": "markdown",
      "metadata": {
        "id": "-rBU1AaqoK93",
        "colab_type": "text"
      },
      "source": [
        "This happens because BoundedResistance.__init__ calls Resistor.__init__, which assigns self.ohms = -5. That assignment causes the @ohms.setter method from BoundedResistance to be called, immediately running the validation code before object construction has completed."
      ]
    },
    {
      "cell_type": "markdown",
      "metadata": {
        "id": "JUY2iI-HoOE8",
        "colab_type": "text"
      },
      "source": [
        "##### You can even use @property to make attributes from parent classes immutable."
      ]
    },
    {
      "cell_type": "code",
      "metadata": {
        "id": "if3Ym55QoVmR",
        "colab_type": "code",
        "outputId": "8594d855-0a26-4b53-c849-0e92d6c079c3",
        "colab": {
          "base_uri": "https://localhost:8080/",
          "height": 317
        }
      },
      "source": [
        "class FixedResistance(Resistor):\n",
        "    # ...\n",
        "    @property\n",
        "    def ohms(self):\n",
        "        return self._ohms\n",
        "\n",
        "    @ohms.setter\n",
        "    def ohms(self, ohms):\n",
        "        if hasattr(self, '_ohms'):\n",
        "            raise AttributeError(\"Can't set attribute\")\n",
        "        self._ohms = ohms\n",
        "        \n",
        "r4 = FixedResistance(1e3)\n",
        "r4.ohms = 2e3"
      ],
      "execution_count": 0,
      "outputs": [
        {
          "output_type": "error",
          "ename": "AttributeError",
          "evalue": "ignored",
          "traceback": [
            "\u001b[0;31m---------------------------------------------------------------------------\u001b[0m",
            "\u001b[0;31mAttributeError\u001b[0m                            Traceback (most recent call last)",
            "\u001b[0;32m<ipython-input-144-d77536c8a9ef>\u001b[0m in \u001b[0;36m<module>\u001b[0;34m()\u001b[0m\n\u001b[1;32m     12\u001b[0m \u001b[0;34m\u001b[0m\u001b[0m\n\u001b[1;32m     13\u001b[0m \u001b[0mr4\u001b[0m \u001b[0;34m=\u001b[0m \u001b[0mFixedResistance\u001b[0m\u001b[0;34m(\u001b[0m\u001b[0;36m1e3\u001b[0m\u001b[0;34m)\u001b[0m\u001b[0;34m\u001b[0m\u001b[0;34m\u001b[0m\u001b[0m\n\u001b[0;32m---> 14\u001b[0;31m \u001b[0mr4\u001b[0m\u001b[0;34m.\u001b[0m\u001b[0mohms\u001b[0m \u001b[0;34m=\u001b[0m \u001b[0;36m2e3\u001b[0m\u001b[0;34m\u001b[0m\u001b[0;34m\u001b[0m\u001b[0m\n\u001b[0m",
            "\u001b[0;32m<ipython-input-144-d77536c8a9ef>\u001b[0m in \u001b[0;36mohms\u001b[0;34m(self, ohms)\u001b[0m\n\u001b[1;32m      8\u001b[0m     \u001b[0;32mdef\u001b[0m \u001b[0mohms\u001b[0m\u001b[0;34m(\u001b[0m\u001b[0mself\u001b[0m\u001b[0;34m,\u001b[0m \u001b[0mohms\u001b[0m\u001b[0;34m)\u001b[0m\u001b[0;34m:\u001b[0m\u001b[0;34m\u001b[0m\u001b[0;34m\u001b[0m\u001b[0m\n\u001b[1;32m      9\u001b[0m         \u001b[0;32mif\u001b[0m \u001b[0mhasattr\u001b[0m\u001b[0;34m(\u001b[0m\u001b[0mself\u001b[0m\u001b[0;34m,\u001b[0m \u001b[0;34m'_ohms'\u001b[0m\u001b[0;34m)\u001b[0m\u001b[0;34m:\u001b[0m\u001b[0;34m\u001b[0m\u001b[0;34m\u001b[0m\u001b[0m\n\u001b[0;32m---> 10\u001b[0;31m             \u001b[0;32mraise\u001b[0m \u001b[0mAttributeError\u001b[0m\u001b[0;34m(\u001b[0m\u001b[0;34m\"Can't set attribute\"\u001b[0m\u001b[0;34m)\u001b[0m\u001b[0;34m\u001b[0m\u001b[0;34m\u001b[0m\u001b[0m\n\u001b[0m\u001b[1;32m     11\u001b[0m         \u001b[0mself\u001b[0m\u001b[0;34m.\u001b[0m\u001b[0m_ohms\u001b[0m \u001b[0;34m=\u001b[0m \u001b[0mohms\u001b[0m\u001b[0;34m\u001b[0m\u001b[0;34m\u001b[0m\u001b[0m\n\u001b[1;32m     12\u001b[0m \u001b[0;34m\u001b[0m\u001b[0m\n",
            "\u001b[0;31mAttributeError\u001b[0m: Can't set attribute"
          ]
        }
      ]
    },
    {
      "cell_type": "markdown",
      "metadata": {
        "id": "vKtRe9FbpdV6",
        "colab_type": "text"
      },
      "source": [
        "#### Prefer public attributes over private ones\n",
        "\n",
        "In Python, there are only two types of attribute visibility for a class’s attributes: public and private.\n",
        "\n",
        "Public attributes can be accessed by anyone using the dot operator on the object.\n",
        "\n",
        "Private fields are specified by prefixing an attribute’s name with a double underscore. They can be accessed directly by methods of the containing class."
      ]
    },
    {
      "cell_type": "code",
      "metadata": {
        "id": "RSicxWtopkcO",
        "colab_type": "code",
        "colab": {}
      },
      "source": [
        "class MyObject():\n",
        "    def __init__(self):\n",
        "        self.public_field = 5\n",
        "        self.__private_field = 10\n",
        "\n",
        "    def get_private_field(self):\n",
        "        return self.__private_field"
      ],
      "execution_count": 0,
      "outputs": []
    },
    {
      "cell_type": "code",
      "metadata": {
        "id": "AQhsm3Ampq3z",
        "colab_type": "code",
        "outputId": "f0bf45ba-de9e-4ed0-c15d-4b8a360b8dd1",
        "colab": {
          "base_uri": "https://localhost:8080/",
          "height": 34
        }
      },
      "source": [
        "foo = MyObject()\n",
        "foo.public_field"
      ],
      "execution_count": 0,
      "outputs": [
        {
          "output_type": "execute_result",
          "data": {
            "text/plain": [
              "5"
            ]
          },
          "metadata": {
            "tags": []
          },
          "execution_count": 148
        }
      ]
    },
    {
      "cell_type": "code",
      "metadata": {
        "id": "5jDHL02eq3lC",
        "colab_type": "code",
        "outputId": "c1a75114-fa29-48cd-fd98-5713ade8ceef",
        "colab": {
          "base_uri": "https://localhost:8080/",
          "height": 164
        }
      },
      "source": [
        "#Looks like you cant access private fields\n",
        "foo.__private_field"
      ],
      "execution_count": 0,
      "outputs": [
        {
          "output_type": "error",
          "ename": "AttributeError",
          "evalue": "ignored",
          "traceback": [
            "\u001b[0;31m---------------------------------------------------------------------------\u001b[0m",
            "\u001b[0;31mAttributeError\u001b[0m                            Traceback (most recent call last)",
            "\u001b[0;32m<ipython-input-154-a888a87e4048>\u001b[0m in \u001b[0;36m<module>\u001b[0;34m()\u001b[0m\n\u001b[0;32m----> 1\u001b[0;31m \u001b[0mfoo\u001b[0m\u001b[0;34m.\u001b[0m\u001b[0m__private_field\u001b[0m\u001b[0;34m\u001b[0m\u001b[0;34m\u001b[0m\u001b[0m\n\u001b[0m",
            "\u001b[0;31mAttributeError\u001b[0m: 'MyObject' object has no attribute '__private_field'"
          ]
        }
      ]
    },
    {
      "cell_type": "code",
      "metadata": {
        "id": "5_H0cFZypzC9",
        "colab_type": "code",
        "outputId": "ebcf0202-0605-4a10-d769-d48120df907e",
        "colab": {
          "base_uri": "https://localhost:8080/",
          "height": 34
        }
      },
      "source": [
        "#BUT YOU CAN\n",
        "foo._MyObject__private_field"
      ],
      "execution_count": 0,
      "outputs": [
        {
          "output_type": "execute_result",
          "data": {
            "text/plain": [
              "10"
            ]
          },
          "metadata": {
            "tags": []
          },
          "execution_count": 155
        }
      ]
    },
    {
      "cell_type": "code",
      "metadata": {
        "id": "fn5qGWtNp8Gv",
        "colab_type": "code",
        "outputId": "8534ddc7-0011-4477-922c-6f5188f90ca3",
        "colab": {
          "base_uri": "https://localhost:8080/",
          "height": 34
        }
      },
      "source": [
        "foo.get_private_field()"
      ],
      "execution_count": 0,
      "outputs": [
        {
          "output_type": "execute_result",
          "data": {
            "text/plain": [
              "10"
            ]
          },
          "metadata": {
            "tags": []
          },
          "execution_count": 150
        }
      ]
    },
    {
      "cell_type": "markdown",
      "metadata": {
        "id": "faStcXgZrMSe",
        "colab_type": "text"
      },
      "source": [
        "If you look in the object’s attribute dictionary, you’ll see that private attributes are actually stored with the names as they appear after the transformation."
      ]
    },
    {
      "cell_type": "code",
      "metadata": {
        "id": "TefgNrdfrHxa",
        "colab_type": "code",
        "outputId": "e4a29e83-85fc-4e57-856d-5dd6044ddf41",
        "colab": {
          "base_uri": "https://localhost:8080/",
          "height": 34
        }
      },
      "source": [
        "print(foo.__dict__)"
      ],
      "execution_count": 0,
      "outputs": [
        {
          "output_type": "stream",
          "text": [
            "{'public_field': 5, '_MyObject__private_field': 10}\n"
          ],
          "name": "stdout"
        }
      ]
    },
    {
      "cell_type": "markdown",
      "metadata": {
        "id": "Ca6GpX2Sqeq0",
        "colab_type": "text"
      },
      "source": [
        "##### Subclass cant access parent class private"
      ]
    },
    {
      "cell_type": "code",
      "metadata": {
        "id": "gEmHqVwTqdgF",
        "colab_type": "code",
        "outputId": "8808d6e2-423b-4b61-8f68-905a17a39401",
        "colab": {
          "base_uri": "https://localhost:8080/",
          "height": 317
        }
      },
      "source": [
        "class MyParentObject(object):\n",
        "    def __init__(self):\n",
        "        self.__private_field = 71\n",
        "\n",
        "class MyChildObject(MyParentObject):\n",
        "    def get_private_field(self):\n",
        "        return self.__private_field\n",
        "\n",
        "baz = MyChildObject()\n",
        "baz.get_private_field()"
      ],
      "execution_count": 0,
      "outputs": [
        {
          "output_type": "error",
          "ename": "AttributeError",
          "evalue": "ignored",
          "traceback": [
            "\u001b[0;31m---------------------------------------------------------------------------\u001b[0m",
            "\u001b[0;31mAttributeError\u001b[0m                            Traceback (most recent call last)",
            "\u001b[0;32m<ipython-input-152-12d690c81381>\u001b[0m in \u001b[0;36m<module>\u001b[0;34m()\u001b[0m\n\u001b[1;32m      8\u001b[0m \u001b[0;34m\u001b[0m\u001b[0m\n\u001b[1;32m      9\u001b[0m \u001b[0mbaz\u001b[0m \u001b[0;34m=\u001b[0m \u001b[0mMyChildObject\u001b[0m\u001b[0;34m(\u001b[0m\u001b[0;34m)\u001b[0m\u001b[0;34m\u001b[0m\u001b[0;34m\u001b[0m\u001b[0m\n\u001b[0;32m---> 10\u001b[0;31m \u001b[0mbaz\u001b[0m\u001b[0;34m.\u001b[0m\u001b[0mget_private_field\u001b[0m\u001b[0;34m(\u001b[0m\u001b[0;34m)\u001b[0m\u001b[0;34m\u001b[0m\u001b[0;34m\u001b[0m\u001b[0m\n\u001b[0m",
            "\u001b[0;32m<ipython-input-152-12d690c81381>\u001b[0m in \u001b[0;36mget_private_field\u001b[0;34m(self)\u001b[0m\n\u001b[1;32m      5\u001b[0m \u001b[0;32mclass\u001b[0m \u001b[0mMyChildObject\u001b[0m\u001b[0;34m(\u001b[0m\u001b[0mMyParentObject\u001b[0m\u001b[0;34m)\u001b[0m\u001b[0;34m:\u001b[0m\u001b[0;34m\u001b[0m\u001b[0;34m\u001b[0m\u001b[0m\n\u001b[1;32m      6\u001b[0m     \u001b[0;32mdef\u001b[0m \u001b[0mget_private_field\u001b[0m\u001b[0;34m(\u001b[0m\u001b[0mself\u001b[0m\u001b[0;34m)\u001b[0m\u001b[0;34m:\u001b[0m\u001b[0;34m\u001b[0m\u001b[0;34m\u001b[0m\u001b[0m\n\u001b[0;32m----> 7\u001b[0;31m         \u001b[0;32mreturn\u001b[0m \u001b[0mself\u001b[0m\u001b[0;34m.\u001b[0m\u001b[0m__private_field\u001b[0m\u001b[0;34m\u001b[0m\u001b[0;34m\u001b[0m\u001b[0m\n\u001b[0m\u001b[1;32m      8\u001b[0m \u001b[0;34m\u001b[0m\u001b[0m\n\u001b[1;32m      9\u001b[0m \u001b[0mbaz\u001b[0m \u001b[0;34m=\u001b[0m \u001b[0mMyChildObject\u001b[0m\u001b[0;34m(\u001b[0m\u001b[0;34m)\u001b[0m\u001b[0;34m\u001b[0m\u001b[0;34m\u001b[0m\u001b[0m\n",
            "\u001b[0;31mAttributeError\u001b[0m: 'MyChildObject' object has no attribute '_MyChildObject__private_field'"
          ]
        }
      ]
    },
    {
      "cell_type": "markdown",
      "metadata": {
        "id": "iMuZ4KJusCof",
        "colab_type": "text"
      },
      "source": [
        "##### But private variables can be accessed directly - wow, how is that?"
      ]
    },
    {
      "cell_type": "code",
      "metadata": {
        "id": "epN2ePL9qjOJ",
        "colab_type": "code",
        "colab": {}
      },
      "source": [
        "#BUT YOU CAN!!\n",
        "assert baz._MyParentObject__private_field == 71"
      ],
      "execution_count": 0,
      "outputs": []
    },
    {
      "cell_type": "markdown",
      "metadata": {
        "id": "rQGm3In4sR3c",
        "colab_type": "text"
      },
      "source": [
        "##### And why?"
      ]
    },
    {
      "cell_type": "markdown",
      "metadata": {
        "id": "yh1lQ-u1r3nK",
        "colab_type": "text"
      },
      "source": [
        "Why doesn’t the syntax for private attributes actually enforce strict visibility? The simplest answer is one often-quoted motto of Python: “We are all consenting adults here.” Python programmers believe that the benefits of being open outweigh the downsides of being closed."
      ]
    },
    {
      "cell_type": "markdown",
      "metadata": {
        "id": "e-0Ts3SWr9nX",
        "colab_type": "text"
      },
      "source": [
        "Beyond that, having the ability to hook language features like attribute access (see Item 32: “Use __getattr__, __getattribute__, and __setattr__ for Lazy Attributes”) enables you to mess around with the internals of objects whenever you wish. If you can do that, what is the value of Python trying to prevent private attribute access otherwise?\n",
        "\n",
        "To minimize the damage of accessing internals unknowingly, Python programmers follow a naming convention defined in the style guide (see Item 2: “Follow the PEP 8 Style Guide”). Fields prefixed by a single underscore (like _protected_field) are protected, meaning external users of the class should proceed with caution.\n",
        "\n",
        "However, many programmers who are new to Python use private fields to indicate an internal API that shouldn’t be accessed by subclasses or externally."
      ]
    },
    {
      "cell_type": "markdown",
      "metadata": {
        "id": "Lm_xUNfvss0S",
        "colab_type": "text"
      },
      "source": [
        "##### Summary\n",
        "\n",
        "Private attributes aren’t rigorously enforced by the Python compiler.\n",
        "\n",
        "Plan from the beginning to allow subclasses to do more with your internal APIs and attributes instead of locking them out by default.\n",
        "\n",
        "Use documentation of protected fields to guide subclasses instead of trying to force access control with private attributes.\n",
        "\n",
        "Only consider using private attributes to avoid naming conflicts with subclasses that are out of your control."
      ]
    },
    {
      "cell_type": "markdown",
      "metadata": {
        "id": "LELY-ztckCfu",
        "colab_type": "text"
      },
      "source": [
        "#### Avoid dictionaries that contain dictionaries\n",
        "\n",
        "At first, you didn’t know you’d need to support weighted grades, so the complexity of additional helper classes seemed unwarranted. Python’s built-in dictionary and tuple types made it easy to keep going, adding layer after layer to the internal bookkeeping. But you should avoid doing this for more than one level of nesting (i.e., avoid dictionaries that contain dictionaries). It makes your code hard to read by other programmers and sets you up for a maintenance nightmare.\n",
        "\n",
        "As soon as you realize the bookkeeping is getting complicated, break it all out into classes. This lets you provide well-defined interfaces that better encapsulate your data. This also enables you to create a layer of abstraction between your interfaces and your concrete implementations.\n",
        "\n"
      ]
    },
    {
      "cell_type": "markdown",
      "metadata": {
        "id": "Xi5-CvG7vdm5",
        "colab_type": "text"
      },
      "source": [
        "### Python and multi threading\n",
        "\n",
        "Python can be a challenging language for building highly concurrent, multithreaded applications, particularly applications with many CPU-bound threads. The reason for this is that it has what is known as the global interpreter lock (GIL), a mechanism that prevents the interpreter from executing more than one Python instruction at a time. The technical reasons for why the GIL exists are beyond the scope of this book. While it is true that in many big data processing applications, a cluster of computers may be required to process a dataset in a reasonable amount of time, there are still situations where a single-process, multithreaded system is desirable.\n",
        "\n",
        "This is not to say that Python cannot execute truly multithreaded, parallel code. Python C extensions that use native multithreading (in C or C++) can run code in parallel without being impacted by the GIL, so long as they do not need to regularly interact with Python objects."
      ]
    },
    {
      "cell_type": "markdown",
      "metadata": {
        "id": "4O5PKZVx5HWi",
        "colab_type": "text"
      },
      "source": [
        "### Pandas Library"
      ]
    },
    {
      "cell_type": "markdown",
      "metadata": {
        "id": "XMPdpx_Bup-O",
        "colab_type": "text"
      },
      "source": [
        "#### Series"
      ]
    },
    {
      "cell_type": "code",
      "metadata": {
        "id": "If1VfMQfuJeU",
        "colab_type": "code",
        "colab": {}
      },
      "source": [
        "import pandas as pd"
      ],
      "execution_count": 0,
      "outputs": []
    },
    {
      "cell_type": "code",
      "metadata": {
        "id": "WcZNMsr6js6-",
        "colab_type": "code",
        "colab": {}
      },
      "source": [
        "from pandas import Series, DataFrame"
      ],
      "execution_count": 0,
      "outputs": []
    },
    {
      "cell_type": "code",
      "metadata": {
        "id": "WX-YJElQmCm6",
        "colab_type": "code",
        "outputId": "8f2ba65b-add2-458b-86d3-ffdf3e122a8c",
        "colab": {
          "base_uri": "https://localhost:8080/",
          "height": 102
        }
      },
      "source": [
        "obj = pd.Series([4, 7, -5, 3])\n",
        "obj"
      ],
      "execution_count": 0,
      "outputs": [
        {
          "output_type": "execute_result",
          "data": {
            "text/plain": [
              "0    4\n",
              "1    7\n",
              "2   -5\n",
              "3    3\n",
              "dtype: int64"
            ]
          },
          "metadata": {
            "tags": []
          },
          "execution_count": 7
        }
      ]
    },
    {
      "cell_type": "markdown",
      "metadata": {
        "id": "QII6Nj-cuY9K",
        "colab_type": "text"
      },
      "source": [
        "The string representation of a Series displayed interactively shows the index on the left and the values on the right. Since we did not specify an index for the data, a default one consisting of the integers 0 through N - 1 (where N is the length of the data) is created. "
      ]
    },
    {
      "cell_type": "code",
      "metadata": {
        "id": "qdbJJMh6z_3E",
        "colab_type": "code",
        "outputId": "89d83089-332d-42e3-ef17-1fdf2a6b6faf",
        "colab": {
          "base_uri": "https://localhost:8080/",
          "height": 34
        }
      },
      "source": [
        "obj2 = pd.Series([4, 7, -5, 3], index=['d', 'b', 'a', 'c'])\n",
        "obj2\n",
        "obj2['c']"
      ],
      "execution_count": 0,
      "outputs": [
        {
          "output_type": "execute_result",
          "data": {
            "text/plain": [
              "3"
            ]
          },
          "metadata": {
            "tags": []
          },
          "execution_count": 10
        }
      ]
    },
    {
      "cell_type": "code",
      "metadata": {
        "id": "yTBDU56cu2DP",
        "colab_type": "code",
        "outputId": "5f8e9086-d3fa-4744-af8b-f4248001d937",
        "colab": {
          "base_uri": "https://localhost:8080/",
          "height": 85
        }
      },
      "source": [
        "obj2[['c', 'a', 'd']]"
      ],
      "execution_count": 0,
      "outputs": [
        {
          "output_type": "execute_result",
          "data": {
            "text/plain": [
              "c    3\n",
              "a   -5\n",
              "d    4\n",
              "dtype: int64"
            ]
          },
          "metadata": {
            "tags": []
          },
          "execution_count": 11
        }
      ]
    },
    {
      "cell_type": "markdown",
      "metadata": {
        "id": "llf7WYVOuigv",
        "colab_type": "text"
      },
      "source": [
        "Compared with NumPy arrays, you can use labels in the index when selecting single values or a set of values:"
      ]
    },
    {
      "cell_type": "markdown",
      "metadata": {
        "id": "fZ1fAHRcvDml",
        "colab_type": "text"
      },
      "source": [
        "#### Filtering in Series"
      ]
    },
    {
      "cell_type": "code",
      "metadata": {
        "id": "9pAUWJBw0CVM",
        "colab_type": "code",
        "outputId": "fb690f4c-867c-4562-f3a5-70c4d911a818",
        "colab": {
          "base_uri": "https://localhost:8080/",
          "height": 85
        }
      },
      "source": [
        "obj2[obj2 > 0]"
      ],
      "execution_count": 0,
      "outputs": [
        {
          "output_type": "execute_result",
          "data": {
            "text/plain": [
              "d    4\n",
              "b    7\n",
              "c    3\n",
              "dtype: int64"
            ]
          },
          "metadata": {
            "tags": []
          },
          "execution_count": 12
        }
      ]
    },
    {
      "cell_type": "markdown",
      "metadata": {
        "id": "pDvtKdmIRsuR",
        "colab_type": "text"
      },
      "source": [
        "#### Data frame"
      ]
    },
    {
      "cell_type": "code",
      "metadata": {
        "id": "Rh3JUNpU0Cf7",
        "colab_type": "code",
        "colab": {}
      },
      "source": [
        "data = {'state': ['Ohio', 'Ohio', 'Ohio', 'Nevada', 'Nevada', 'Nevada'],\n",
        "        'year': [2000, 2001, 2002, 2001, 2002, 2003],\n",
        "        'pop': [1.5, 1.7, 3.6, 2.4, 2.9, 3.2]}"
      ],
      "execution_count": 0,
      "outputs": []
    },
    {
      "cell_type": "code",
      "metadata": {
        "id": "m8GKWYo_0Cun",
        "colab_type": "code",
        "colab": {}
      },
      "source": [
        "frame = pd.DataFrame(data)"
      ],
      "execution_count": 0,
      "outputs": []
    },
    {
      "cell_type": "code",
      "metadata": {
        "id": "cA8RtPsJ0Csm",
        "colab_type": "code",
        "outputId": "f4d4a5c8-c6f4-457a-dd31-dd4dd689de7e",
        "colab": {
          "base_uri": "https://localhost:8080/",
          "height": 235
        }
      },
      "source": [
        "pd.DataFrame(data, columns=['year', 'state', 'pop'])"
      ],
      "execution_count": 0,
      "outputs": [
        {
          "output_type": "execute_result",
          "data": {
            "text/html": [
              "<div>\n",
              "<style scoped>\n",
              "    .dataframe tbody tr th:only-of-type {\n",
              "        vertical-align: middle;\n",
              "    }\n",
              "\n",
              "    .dataframe tbody tr th {\n",
              "        vertical-align: top;\n",
              "    }\n",
              "\n",
              "    .dataframe thead th {\n",
              "        text-align: right;\n",
              "    }\n",
              "</style>\n",
              "<table border=\"1\" class=\"dataframe\">\n",
              "  <thead>\n",
              "    <tr style=\"text-align: right;\">\n",
              "      <th></th>\n",
              "      <th>year</th>\n",
              "      <th>state</th>\n",
              "      <th>pop</th>\n",
              "    </tr>\n",
              "  </thead>\n",
              "  <tbody>\n",
              "    <tr>\n",
              "      <th>0</th>\n",
              "      <td>2000</td>\n",
              "      <td>Ohio</td>\n",
              "      <td>1.5</td>\n",
              "    </tr>\n",
              "    <tr>\n",
              "      <th>1</th>\n",
              "      <td>2001</td>\n",
              "      <td>Ohio</td>\n",
              "      <td>1.7</td>\n",
              "    </tr>\n",
              "    <tr>\n",
              "      <th>2</th>\n",
              "      <td>2002</td>\n",
              "      <td>Ohio</td>\n",
              "      <td>3.6</td>\n",
              "    </tr>\n",
              "    <tr>\n",
              "      <th>3</th>\n",
              "      <td>2001</td>\n",
              "      <td>Nevada</td>\n",
              "      <td>2.4</td>\n",
              "    </tr>\n",
              "    <tr>\n",
              "      <th>4</th>\n",
              "      <td>2002</td>\n",
              "      <td>Nevada</td>\n",
              "      <td>2.9</td>\n",
              "    </tr>\n",
              "    <tr>\n",
              "      <th>5</th>\n",
              "      <td>2003</td>\n",
              "      <td>Nevada</td>\n",
              "      <td>3.2</td>\n",
              "    </tr>\n",
              "  </tbody>\n",
              "</table>\n",
              "</div>"
            ],
            "text/plain": [
              "   year   state  pop\n",
              "0  2000    Ohio  1.5\n",
              "1  2001    Ohio  1.7\n",
              "2  2002    Ohio  3.6\n",
              "3  2001  Nevada  2.4\n",
              "4  2002  Nevada  2.9\n",
              "5  2003  Nevada  3.2"
            ]
          },
          "metadata": {
            "tags": []
          },
          "execution_count": 93
        }
      ]
    },
    {
      "cell_type": "code",
      "metadata": {
        "id": "_51eVHkM0Cov",
        "colab_type": "code",
        "colab": {}
      },
      "source": [
        "frame2 = pd.DataFrame(data, columns=['year', 'state', 'pop', 'debt'],\n",
        "                         index=['one', 'two', 'three', 'four',\n",
        "                                'five', 'six'])"
      ],
      "execution_count": 0,
      "outputs": []
    },
    {
      "cell_type": "code",
      "metadata": {
        "id": "VLjVJURR0CmC",
        "colab_type": "code",
        "outputId": "33101651-96f7-445e-b79f-4e3dbe4e27bc",
        "colab": {
          "base_uri": "https://localhost:8080/",
          "height": 235
        }
      },
      "source": [
        "frame2"
      ],
      "execution_count": 0,
      "outputs": [
        {
          "output_type": "execute_result",
          "data": {
            "text/html": [
              "<div>\n",
              "<style scoped>\n",
              "    .dataframe tbody tr th:only-of-type {\n",
              "        vertical-align: middle;\n",
              "    }\n",
              "\n",
              "    .dataframe tbody tr th {\n",
              "        vertical-align: top;\n",
              "    }\n",
              "\n",
              "    .dataframe thead th {\n",
              "        text-align: right;\n",
              "    }\n",
              "</style>\n",
              "<table border=\"1\" class=\"dataframe\">\n",
              "  <thead>\n",
              "    <tr style=\"text-align: right;\">\n",
              "      <th></th>\n",
              "      <th>year</th>\n",
              "      <th>state</th>\n",
              "      <th>pop</th>\n",
              "      <th>debt</th>\n",
              "    </tr>\n",
              "  </thead>\n",
              "  <tbody>\n",
              "    <tr>\n",
              "      <th>one</th>\n",
              "      <td>2000</td>\n",
              "      <td>Ohio</td>\n",
              "      <td>1.5</td>\n",
              "      <td>NaN</td>\n",
              "    </tr>\n",
              "    <tr>\n",
              "      <th>two</th>\n",
              "      <td>2001</td>\n",
              "      <td>Ohio</td>\n",
              "      <td>1.7</td>\n",
              "      <td>NaN</td>\n",
              "    </tr>\n",
              "    <tr>\n",
              "      <th>three</th>\n",
              "      <td>2002</td>\n",
              "      <td>Ohio</td>\n",
              "      <td>3.6</td>\n",
              "      <td>NaN</td>\n",
              "    </tr>\n",
              "    <tr>\n",
              "      <th>four</th>\n",
              "      <td>2001</td>\n",
              "      <td>Nevada</td>\n",
              "      <td>2.4</td>\n",
              "      <td>NaN</td>\n",
              "    </tr>\n",
              "    <tr>\n",
              "      <th>five</th>\n",
              "      <td>2002</td>\n",
              "      <td>Nevada</td>\n",
              "      <td>2.9</td>\n",
              "      <td>NaN</td>\n",
              "    </tr>\n",
              "    <tr>\n",
              "      <th>six</th>\n",
              "      <td>2003</td>\n",
              "      <td>Nevada</td>\n",
              "      <td>3.2</td>\n",
              "      <td>NaN</td>\n",
              "    </tr>\n",
              "  </tbody>\n",
              "</table>\n",
              "</div>"
            ],
            "text/plain": [
              "       year   state  pop debt\n",
              "one    2000    Ohio  1.5  NaN\n",
              "two    2001    Ohio  1.7  NaN\n",
              "three  2002    Ohio  3.6  NaN\n",
              "four   2001  Nevada  2.4  NaN\n",
              "five   2002  Nevada  2.9  NaN\n",
              "six    2003  Nevada  3.2  NaN"
            ]
          },
          "metadata": {
            "tags": []
          },
          "execution_count": 95
        }
      ]
    },
    {
      "cell_type": "code",
      "metadata": {
        "id": "Pyzq3SPr0CjR",
        "colab_type": "code",
        "outputId": "3c70a37c-e1d7-412a-d6d3-9c99b73992a5",
        "colab": {
          "base_uri": "https://localhost:8080/",
          "height": 34
        }
      },
      "source": [
        "frame2.loc['three'].year"
      ],
      "execution_count": 0,
      "outputs": [
        {
          "output_type": "execute_result",
          "data": {
            "text/plain": [
              "2002"
            ]
          },
          "metadata": {
            "tags": []
          },
          "execution_count": 97
        }
      ]
    },
    {
      "cell_type": "code",
      "metadata": {
        "id": "HMhpL8IQ0Cdn",
        "colab_type": "code",
        "colab": {}
      },
      "source": [
        "frame2['debt'] = 16.5"
      ],
      "execution_count": 0,
      "outputs": []
    },
    {
      "cell_type": "code",
      "metadata": {
        "id": "iM9UFLEI0CbT",
        "colab_type": "code",
        "colab": {}
      },
      "source": [
        "frame2['debt'] = np.arange(6.)"
      ],
      "execution_count": 0,
      "outputs": []
    },
    {
      "cell_type": "code",
      "metadata": {
        "id": "V0_XxTSP0CZB",
        "colab_type": "code",
        "colab": {}
      },
      "source": [
        "frame2['eastern'] = frame2.state == 'Ohio'"
      ],
      "execution_count": 0,
      "outputs": []
    },
    {
      "cell_type": "code",
      "metadata": {
        "id": "Jrrtix6C0CSb",
        "colab_type": "code",
        "outputId": "d783a766-cb08-4685-f6c1-0ace8dcdaa03",
        "colab": {
          "base_uri": "https://localhost:8080/",
          "height": 235
        }
      },
      "source": [
        "frame2"
      ],
      "execution_count": 0,
      "outputs": [
        {
          "output_type": "execute_result",
          "data": {
            "text/html": [
              "<div>\n",
              "<style scoped>\n",
              "    .dataframe tbody tr th:only-of-type {\n",
              "        vertical-align: middle;\n",
              "    }\n",
              "\n",
              "    .dataframe tbody tr th {\n",
              "        vertical-align: top;\n",
              "    }\n",
              "\n",
              "    .dataframe thead th {\n",
              "        text-align: right;\n",
              "    }\n",
              "</style>\n",
              "<table border=\"1\" class=\"dataframe\">\n",
              "  <thead>\n",
              "    <tr style=\"text-align: right;\">\n",
              "      <th></th>\n",
              "      <th>year</th>\n",
              "      <th>state</th>\n",
              "      <th>pop</th>\n",
              "      <th>debt</th>\n",
              "      <th>eastern</th>\n",
              "    </tr>\n",
              "  </thead>\n",
              "  <tbody>\n",
              "    <tr>\n",
              "      <th>one</th>\n",
              "      <td>2000</td>\n",
              "      <td>Ohio</td>\n",
              "      <td>1.5</td>\n",
              "      <td>0.0</td>\n",
              "      <td>True</td>\n",
              "    </tr>\n",
              "    <tr>\n",
              "      <th>two</th>\n",
              "      <td>2001</td>\n",
              "      <td>Ohio</td>\n",
              "      <td>1.7</td>\n",
              "      <td>1.0</td>\n",
              "      <td>True</td>\n",
              "    </tr>\n",
              "    <tr>\n",
              "      <th>three</th>\n",
              "      <td>2002</td>\n",
              "      <td>Ohio</td>\n",
              "      <td>3.6</td>\n",
              "      <td>2.0</td>\n",
              "      <td>True</td>\n",
              "    </tr>\n",
              "    <tr>\n",
              "      <th>four</th>\n",
              "      <td>2001</td>\n",
              "      <td>Nevada</td>\n",
              "      <td>2.4</td>\n",
              "      <td>3.0</td>\n",
              "      <td>False</td>\n",
              "    </tr>\n",
              "    <tr>\n",
              "      <th>five</th>\n",
              "      <td>2002</td>\n",
              "      <td>Nevada</td>\n",
              "      <td>2.9</td>\n",
              "      <td>4.0</td>\n",
              "      <td>False</td>\n",
              "    </tr>\n",
              "    <tr>\n",
              "      <th>six</th>\n",
              "      <td>2003</td>\n",
              "      <td>Nevada</td>\n",
              "      <td>3.2</td>\n",
              "      <td>5.0</td>\n",
              "      <td>False</td>\n",
              "    </tr>\n",
              "  </tbody>\n",
              "</table>\n",
              "</div>"
            ],
            "text/plain": [
              "       year   state  pop  debt  eastern\n",
              "one    2000    Ohio  1.5   0.0     True\n",
              "two    2001    Ohio  1.7   1.0     True\n",
              "three  2002    Ohio  3.6   2.0     True\n",
              "four   2001  Nevada  2.4   3.0    False\n",
              "five   2002  Nevada  2.9   4.0    False\n",
              "six    2003  Nevada  3.2   5.0    False"
            ]
          },
          "metadata": {
            "tags": []
          },
          "execution_count": 101
        }
      ]
    },
    {
      "cell_type": "code",
      "metadata": {
        "id": "pNdaoNjv0CPx",
        "colab_type": "code",
        "colab": {}
      },
      "source": [
        "del frame2['eastern']"
      ],
      "execution_count": 0,
      "outputs": []
    },
    {
      "cell_type": "markdown",
      "metadata": {
        "id": "QUEUD6L9VE_x",
        "colab_type": "text"
      },
      "source": [
        "#### Hierarchical indexing\n",
        "\n",
        "Hierarchical indexing is an important feature of pandas that enables you to have multiple (two or more) index levels on an axis. Somewhat abstractly, it provides a way for you to work with higher dimensional data in a lower dimensional form."
      ]
    },
    {
      "cell_type": "code",
      "metadata": {
        "id": "gjTsa4OQVH0v",
        "colab_type": "code",
        "colab": {}
      },
      "source": [
        "data = pd.Series(np.random.randn(9),\n",
        "                     index=[['a', 'a', 'a', 'b', 'b', 'c', 'c', 'd', 'd'],\n",
        "                           [1, 2, 3, 1, 3, 1, 2, 2, 3]])"
      ],
      "execution_count": 0,
      "outputs": []
    },
    {
      "cell_type": "code",
      "metadata": {
        "id": "qK5Ak165VIAn",
        "colab_type": "code",
        "outputId": "f0d6c073-0a9c-4a06-9809-94a619f464e0",
        "colab": {
          "base_uri": "https://localhost:8080/",
          "height": 187
        }
      },
      "source": [
        "data"
      ],
      "execution_count": 0,
      "outputs": [
        {
          "output_type": "execute_result",
          "data": {
            "text/plain": [
              "a  1   -1.646859\n",
              "   2    1.226230\n",
              "   3    0.305625\n",
              "b  1    0.776272\n",
              "   3   -0.545815\n",
              "c  1   -0.999310\n",
              "   2   -0.045951\n",
              "d  2   -1.451139\n",
              "   3    0.608786\n",
              "dtype: float64"
            ]
          },
          "metadata": {
            "tags": []
          },
          "execution_count": 104
        }
      ]
    },
    {
      "cell_type": "code",
      "metadata": {
        "id": "woqK-5D8VH95",
        "colab_type": "code",
        "outputId": "b6b2bb57-d2f1-4f98-8dcf-7a6db444d93a",
        "colab": {
          "base_uri": "https://localhost:8080/",
          "height": 68
        }
      },
      "source": [
        "data['b']"
      ],
      "execution_count": 0,
      "outputs": [
        {
          "output_type": "execute_result",
          "data": {
            "text/plain": [
              "1    0.776272\n",
              "3   -0.545815\n",
              "dtype: float64"
            ]
          },
          "metadata": {
            "tags": []
          },
          "execution_count": 105
        }
      ]
    },
    {
      "cell_type": "code",
      "metadata": {
        "id": "yaDv5xDPVV-z",
        "colab_type": "code",
        "outputId": "60ec5f7f-bbf8-4ee9-d59c-f770ba8d71cb",
        "colab": {
          "base_uri": "https://localhost:8080/",
          "height": 102
        }
      },
      "source": [
        "data['b':'c']"
      ],
      "execution_count": 0,
      "outputs": [
        {
          "output_type": "execute_result",
          "data": {
            "text/plain": [
              "b  1    0.776272\n",
              "   3   -0.545815\n",
              "c  1   -0.999310\n",
              "   2   -0.045951\n",
              "dtype: float64"
            ]
          },
          "metadata": {
            "tags": []
          },
          "execution_count": 106
        }
      ]
    },
    {
      "cell_type": "code",
      "metadata": {
        "id": "ugZ0nZwmVYVx",
        "colab_type": "code",
        "outputId": "7d7e1894-d68c-4cfd-d46f-1ee85f18dc81",
        "colab": {
          "base_uri": "https://localhost:8080/",
          "height": 85
        }
      },
      "source": [
        "data.loc[:, 2]"
      ],
      "execution_count": 0,
      "outputs": [
        {
          "output_type": "execute_result",
          "data": {
            "text/plain": [
              "a    1.226230\n",
              "c   -0.045951\n",
              "d   -1.451139\n",
              "dtype: float64"
            ]
          },
          "metadata": {
            "tags": []
          },
          "execution_count": 107
        }
      ]
    },
    {
      "cell_type": "code",
      "metadata": {
        "id": "qzXlPlqMVemO",
        "colab_type": "code",
        "outputId": "fd80d892-b4b7-41b8-c5cd-862f2b182d24",
        "colab": {
          "base_uri": "https://localhost:8080/",
          "height": 173
        }
      },
      "source": [
        "data.unstack()"
      ],
      "execution_count": 0,
      "outputs": [
        {
          "output_type": "execute_result",
          "data": {
            "text/html": [
              "<div>\n",
              "<style scoped>\n",
              "    .dataframe tbody tr th:only-of-type {\n",
              "        vertical-align: middle;\n",
              "    }\n",
              "\n",
              "    .dataframe tbody tr th {\n",
              "        vertical-align: top;\n",
              "    }\n",
              "\n",
              "    .dataframe thead th {\n",
              "        text-align: right;\n",
              "    }\n",
              "</style>\n",
              "<table border=\"1\" class=\"dataframe\">\n",
              "  <thead>\n",
              "    <tr style=\"text-align: right;\">\n",
              "      <th></th>\n",
              "      <th>1</th>\n",
              "      <th>2</th>\n",
              "      <th>3</th>\n",
              "    </tr>\n",
              "  </thead>\n",
              "  <tbody>\n",
              "    <tr>\n",
              "      <th>a</th>\n",
              "      <td>-1.646859</td>\n",
              "      <td>1.226230</td>\n",
              "      <td>0.305625</td>\n",
              "    </tr>\n",
              "    <tr>\n",
              "      <th>b</th>\n",
              "      <td>0.776272</td>\n",
              "      <td>NaN</td>\n",
              "      <td>-0.545815</td>\n",
              "    </tr>\n",
              "    <tr>\n",
              "      <th>c</th>\n",
              "      <td>-0.999310</td>\n",
              "      <td>-0.045951</td>\n",
              "      <td>NaN</td>\n",
              "    </tr>\n",
              "    <tr>\n",
              "      <th>d</th>\n",
              "      <td>NaN</td>\n",
              "      <td>-1.451139</td>\n",
              "      <td>0.608786</td>\n",
              "    </tr>\n",
              "  </tbody>\n",
              "</table>\n",
              "</div>"
            ],
            "text/plain": [
              "          1         2         3\n",
              "a -1.646859  1.226230  0.305625\n",
              "b  0.776272       NaN -0.545815\n",
              "c -0.999310 -0.045951       NaN\n",
              "d       NaN -1.451139  0.608786"
            ]
          },
          "metadata": {
            "tags": []
          },
          "execution_count": 108
        }
      ]
    },
    {
      "cell_type": "markdown",
      "metadata": {
        "id": "zlY3UYcCVsMq",
        "colab_type": "text"
      },
      "source": [
        "#### Merge like sql join"
      ]
    },
    {
      "cell_type": "code",
      "metadata": {
        "id": "VHQBZrmQVhga",
        "colab_type": "code",
        "colab": {}
      },
      "source": [
        "pandas.merge"
      ],
      "execution_count": 0,
      "outputs": []
    },
    {
      "cell_type": "markdown",
      "metadata": {
        "id": "Uk4zt3WKVxzY",
        "colab_type": "text"
      },
      "source": [
        "####  Concat \n",
        "Concatenates or “stacks” together objects along an axis"
      ]
    },
    {
      "cell_type": "markdown",
      "metadata": {
        "id": "ZSBsKA2zWSQA",
        "colab_type": "text"
      },
      "source": [
        "#### Cleaning data"
      ]
    },
    {
      "cell_type": "code",
      "metadata": {
        "id": "sEcjJCsbWaFg",
        "colab_type": "code",
        "colab": {}
      },
      "source": [
        "from numpy import nan as NA"
      ],
      "execution_count": 0,
      "outputs": []
    },
    {
      "cell_type": "code",
      "metadata": {
        "id": "b0OP1s_GWcXp",
        "colab_type": "code",
        "outputId": "4b575e71-4922-4b81-d465-7071892f0eee",
        "colab": {
          "base_uri": "https://localhost:8080/",
          "height": 85
        }
      },
      "source": [
        "data.dropna() #equivalent to data[data.notnull()]"
      ],
      "execution_count": 0,
      "outputs": [
        {
          "output_type": "execute_result",
          "data": {
            "text/plain": [
              "0    1.0\n",
              "2    3.5\n",
              "4    7.0\n",
              "dtype: float64"
            ]
          },
          "metadata": {
            "tags": []
          },
          "execution_count": 111
        }
      ]
    },
    {
      "cell_type": "code",
      "metadata": {
        "id": "8bRBzQ8HWf3a",
        "colab_type": "code",
        "outputId": "36c94623-96e9-4463-8f3e-83fddb249380",
        "colab": {
          "base_uri": "https://localhost:8080/",
          "height": 119
        }
      },
      "source": [
        "data = pd.Series([1, NA, 3.5, NA, 7])\n",
        "data.fillna(0)"
      ],
      "execution_count": 0,
      "outputs": [
        {
          "output_type": "execute_result",
          "data": {
            "text/plain": [
              "0    1.0\n",
              "1    0.0\n",
              "2    3.5\n",
              "3    0.0\n",
              "4    7.0\n",
              "dtype: float64"
            ]
          },
          "metadata": {
            "tags": []
          },
          "execution_count": 113
        }
      ]
    },
    {
      "cell_type": "markdown",
      "metadata": {
        "id": "K7RLB6bKW3yx",
        "colab_type": "text"
      },
      "source": [
        "Calling fillna with a dict, you can use a different fill value for each column:"
      ]
    },
    {
      "cell_type": "code",
      "metadata": {
        "id": "XRksRTOQW4os",
        "colab_type": "code",
        "outputId": "eb56ddbe-7f70-4809-9978-33b9249610de",
        "colab": {
          "base_uri": "https://localhost:8080/",
          "height": 119
        }
      },
      "source": [
        "data.fillna({1: 0.5, 2: 0}, inplace=True)\n",
        "data"
      ],
      "execution_count": 0,
      "outputs": [
        {
          "output_type": "execute_result",
          "data": {
            "text/plain": [
              "0    1.0\n",
              "1    0.5\n",
              "2    3.5\n",
              "3    NaN\n",
              "4    7.0\n",
              "dtype: float64"
            ]
          },
          "metadata": {
            "tags": []
          },
          "execution_count": 116
        }
      ]
    },
    {
      "cell_type": "code",
      "metadata": {
        "id": "Cn1sHM9mXDtA",
        "colab_type": "code",
        "outputId": "e9c32c4e-4c4a-4639-fc42-648f3fc7eaa9",
        "colab": {
          "base_uri": "https://localhost:8080/",
          "height": 119
        }
      },
      "source": [
        "data.fillna(data.mean())"
      ],
      "execution_count": 0,
      "outputs": [
        {
          "output_type": "execute_result",
          "data": {
            "text/plain": [
              "0    1.0\n",
              "1    0.5\n",
              "2    3.5\n",
              "3    3.0\n",
              "4    7.0\n",
              "dtype: float64"
            ]
          },
          "metadata": {
            "tags": []
          },
          "execution_count": 119
        }
      ]
    },
    {
      "cell_type": "code",
      "metadata": {
        "id": "_-GP__ICXI9T",
        "colab_type": "code",
        "outputId": "1a8c1efa-ed08-4ebd-caa0-4bd160c782bd",
        "colab": {
          "base_uri": "https://localhost:8080/",
          "height": 119
        }
      },
      "source": [
        "data.drop_duplicates()"
      ],
      "execution_count": 0,
      "outputs": [
        {
          "output_type": "execute_result",
          "data": {
            "text/plain": [
              "0    1.0\n",
              "1    0.5\n",
              "2    3.5\n",
              "3    NaN\n",
              "4    7.0\n",
              "dtype: float64"
            ]
          },
          "metadata": {
            "tags": []
          },
          "execution_count": 120
        }
      ]
    },
    {
      "cell_type": "markdown",
      "metadata": {
        "id": "O4D8v1i40A9y",
        "colab_type": "text"
      },
      "source": [
        "### Numpy library"
      ]
    },
    {
      "cell_type": "markdown",
      "metadata": {
        "id": "jg2QR5JnxjSN",
        "colab_type": "text"
      },
      "source": [
        "#### Performance"
      ]
    },
    {
      "cell_type": "markdown",
      "metadata": {
        "id": "p9SmFL5HxXxW",
        "colab_type": "text"
      },
      "source": [
        "Performance difference between a NumPy array of one million integers, and the equivalent Python list.\n",
        "\n",
        "NumPy-based algorithms are generally 10 to 100 times faster (or more) than their pure Python counterparts and use significantly less memory."
      ]
    },
    {
      "cell_type": "code",
      "metadata": {
        "id": "Ol8lLQN70FU3",
        "colab_type": "code",
        "colab": {}
      },
      "source": [
        "import numpy as np"
      ],
      "execution_count": 0,
      "outputs": []
    },
    {
      "cell_type": "code",
      "metadata": {
        "id": "Ky-8CQ1xwd4c",
        "colab_type": "code",
        "colab": {}
      },
      "source": [
        "my_arr = np.arange(1000000)\n",
        "my_list = list(range(1000000))"
      ],
      "execution_count": 0,
      "outputs": []
    },
    {
      "cell_type": "code",
      "metadata": {
        "id": "j2uiiLdUwd19",
        "colab_type": "code",
        "outputId": "bb6dd074-ce9c-4aeb-d192-fb20e2843cb3",
        "colab": {
          "base_uri": "https://localhost:8080/",
          "height": 51
        }
      },
      "source": [
        "%time for _ in range(10): my_arr2 = my_arr * 2"
      ],
      "execution_count": 0,
      "outputs": [
        {
          "output_type": "stream",
          "text": [
            "CPU times: user 25.1 ms, sys: 2.53 ms, total: 27.6 ms\n",
            "Wall time: 48.1 ms\n"
          ],
          "name": "stdout"
        }
      ]
    },
    {
      "cell_type": "code",
      "metadata": {
        "id": "wqEU-JENwdzW",
        "colab_type": "code",
        "outputId": "529d2d80-6d6a-48d2-ffd1-d924f70d25bc",
        "colab": {
          "base_uri": "https://localhost:8080/",
          "height": 51
        }
      },
      "source": [
        "%time for _ in range(10): my_list2 = [x * 2 for x in my_list]"
      ],
      "execution_count": 0,
      "outputs": [
        {
          "output_type": "stream",
          "text": [
            "CPU times: user 820 ms, sys: 171 ms, total: 991 ms\n",
            "Wall time: 1 s\n"
          ],
          "name": "stdout"
        }
      ]
    },
    {
      "cell_type": "markdown",
      "metadata": {
        "id": "6DUPTv4Y0GVm",
        "colab_type": "text"
      },
      "source": [
        "#### ndarray \n",
        "ndarray, an efficient multidimensional array providing fast array-oriented arithmetic operations and flexible broadcasting capabilities\n",
        "\n",
        "Designed for efficiency on large arrays of data"
      ]
    },
    {
      "cell_type": "code",
      "metadata": {
        "id": "76NG502BwdvX",
        "colab_type": "code",
        "outputId": "185302e3-c874-49e5-f869-1c0ff74093f8",
        "colab": {
          "base_uri": "https://localhost:8080/",
          "height": 51
        }
      },
      "source": [
        "data = np.random.randn(2, 3)\n",
        "data"
      ],
      "execution_count": 0,
      "outputs": [
        {
          "output_type": "execute_result",
          "data": {
            "text/plain": [
              "array([[ 0.94881979, -1.11976145,  1.35823368],\n",
              "       [ 0.87496606,  0.67827602, -1.57684087]])"
            ]
          },
          "metadata": {
            "tags": []
          },
          "execution_count": 21
        }
      ]
    },
    {
      "cell_type": "code",
      "metadata": {
        "id": "iqcK9spOwdlR",
        "colab_type": "code",
        "outputId": "b98891be-ea53-43ec-d51b-91dfbce15a5e",
        "colab": {
          "base_uri": "https://localhost:8080/",
          "height": 51
        }
      },
      "source": [
        "data * 10"
      ],
      "execution_count": 0,
      "outputs": [
        {
          "output_type": "execute_result",
          "data": {
            "text/plain": [
              "array([[  9.48819789, -11.19761449,  13.58233675],\n",
              "       [  8.74966064,   6.78276017, -15.76840873]])"
            ]
          },
          "metadata": {
            "tags": []
          },
          "execution_count": 22
        }
      ]
    },
    {
      "cell_type": "code",
      "metadata": {
        "id": "CqIY4V_bysFN",
        "colab_type": "code",
        "outputId": "a7bf9e73-2c3f-48e9-9ac8-83ef20296cfe",
        "colab": {
          "base_uri": "https://localhost:8080/",
          "height": 34
        }
      },
      "source": [
        "data.shape"
      ],
      "execution_count": 0,
      "outputs": [
        {
          "output_type": "execute_result",
          "data": {
            "text/plain": [
              "(2, 3)"
            ]
          },
          "metadata": {
            "tags": []
          },
          "execution_count": 27
        }
      ]
    },
    {
      "cell_type": "code",
      "metadata": {
        "id": "79cSP6_Nyzji",
        "colab_type": "code",
        "outputId": "20b0b18f-e0a7-4eef-e2db-746e017e4e3d",
        "colab": {
          "base_uri": "https://localhost:8080/",
          "height": 34
        }
      },
      "source": [
        "data1 = [6, 7.5, 8, 0, 1]\n",
        "arr = np.array(data1)\n",
        "arr"
      ],
      "execution_count": 0,
      "outputs": [
        {
          "output_type": "execute_result",
          "data": {
            "text/plain": [
              "array([6. , 7.5, 8. , 0. , 1. ])"
            ]
          },
          "metadata": {
            "tags": []
          },
          "execution_count": 28
        }
      ]
    },
    {
      "cell_type": "markdown",
      "metadata": {
        "id": "iIOmSU1fy9rN",
        "colab_type": "text"
      },
      "source": [
        "Nested sequences, like a list of equal-length lists, will be converted into a multidimensional array:"
      ]
    },
    {
      "cell_type": "code",
      "metadata": {
        "id": "LqB-8S0Zy_8k",
        "colab_type": "code",
        "outputId": "de392564-0cb6-4294-8326-14890581bf1d",
        "colab": {
          "base_uri": "https://localhost:8080/",
          "height": 51
        }
      },
      "source": [
        "data2 = [[1, 2, 3, 4], [5, 6, 7, 8]]\n",
        "arr = np.array(data2)\n",
        "arr"
      ],
      "execution_count": 0,
      "outputs": [
        {
          "output_type": "execute_result",
          "data": {
            "text/plain": [
              "array([[1, 2, 3, 4],\n",
              "       [5, 6, 7, 8]])"
            ]
          },
          "metadata": {
            "tags": []
          },
          "execution_count": 30
        }
      ]
    },
    {
      "cell_type": "code",
      "metadata": {
        "id": "fxCfsAVpzKnN",
        "colab_type": "code",
        "outputId": "ecf7e8b2-3c3b-40c7-e129-2dd9ff4420e4",
        "colab": {
          "base_uri": "https://localhost:8080/",
          "height": 34
        }
      },
      "source": [
        "arr.ndim"
      ],
      "execution_count": 0,
      "outputs": [
        {
          "output_type": "execute_result",
          "data": {
            "text/plain": [
              "2"
            ]
          },
          "metadata": {
            "tags": []
          },
          "execution_count": 31
        }
      ]
    },
    {
      "cell_type": "code",
      "metadata": {
        "id": "uGXrZF9mzUXl",
        "colab_type": "code",
        "outputId": "4bad13d4-c103-40a1-88db-45fa31c13ccc",
        "colab": {
          "base_uri": "https://localhost:8080/",
          "height": 68
        }
      },
      "source": [
        "np.zeros((3,4))"
      ],
      "execution_count": 0,
      "outputs": [
        {
          "output_type": "execute_result",
          "data": {
            "text/plain": [
              "array([[0., 0., 0., 0.],\n",
              "       [0., 0., 0., 0.],\n",
              "       [0., 0., 0., 0.]])"
            ]
          },
          "metadata": {
            "tags": []
          },
          "execution_count": 32
        }
      ]
    },
    {
      "cell_type": "code",
      "metadata": {
        "id": "_KrFTNNFzhre",
        "colab_type": "code",
        "outputId": "f054a320-f311-4397-ad5f-b09e0b46206e",
        "colab": {
          "base_uri": "https://localhost:8080/",
          "height": 68
        }
      },
      "source": [
        "np.full((3,3),fill_value=4)"
      ],
      "execution_count": 0,
      "outputs": [
        {
          "output_type": "execute_result",
          "data": {
            "text/plain": [
              "array([[4, 4, 4],\n",
              "       [4, 4, 4],\n",
              "       [4, 4, 4]])"
            ]
          },
          "metadata": {
            "tags": []
          },
          "execution_count": 34
        }
      ]
    },
    {
      "cell_type": "markdown",
      "metadata": {
        "id": "7itOPgU5z5cB",
        "colab_type": "text"
      },
      "source": [
        "#### Conversions"
      ]
    },
    {
      "cell_type": "code",
      "metadata": {
        "id": "0SIGII_ez84U",
        "colab_type": "code",
        "outputId": "9f455cb3-e33b-4aae-8695-af56d33e7a59",
        "colab": {
          "base_uri": "https://localhost:8080/",
          "height": 51
        }
      },
      "source": [
        "float_arr = arr.astype(np.float64)\n",
        "float_arr"
      ],
      "execution_count": 0,
      "outputs": [
        {
          "output_type": "execute_result",
          "data": {
            "text/plain": [
              "array([[1., 2., 3., 4.],\n",
              "       [5., 6., 7., 8.]])"
            ]
          },
          "metadata": {
            "tags": []
          },
          "execution_count": 36
        }
      ]
    },
    {
      "cell_type": "markdown",
      "metadata": {
        "id": "FHJlUDnA0MoM",
        "colab_type": "text"
      },
      "source": [
        "#### Vectorization"
      ]
    },
    {
      "cell_type": "markdown",
      "metadata": {
        "id": "bhAu2bpGv3u4",
        "colab_type": "text"
      },
      "source": [
        "Mathematical functions for fast operations on entire arrays of data without having to write loops."
      ]
    },
    {
      "cell_type": "markdown",
      "metadata": {
        "id": "o_-ffeef0gq0",
        "colab_type": "text"
      },
      "source": [
        "Any arithmetic operations between equal-size arrays applies the operation element-wise:"
      ]
    },
    {
      "cell_type": "code",
      "metadata": {
        "id": "TJRjinjM2oHc",
        "colab_type": "code",
        "outputId": "3b84d07c-d432-4234-9b08-af1e65476bb1",
        "colab": {
          "base_uri": "https://localhost:8080/",
          "height": 51
        }
      },
      "source": [
        "arr * arr"
      ],
      "execution_count": 0,
      "outputs": [
        {
          "output_type": "execute_result",
          "data": {
            "text/plain": [
              "array([[ 1,  4,  9, 16],\n",
              "       [25, 36, 49, 64]])"
            ]
          },
          "metadata": {
            "tags": []
          },
          "execution_count": 38
        }
      ]
    },
    {
      "cell_type": "markdown",
      "metadata": {
        "id": "M7FZ1Ppn0qKw",
        "colab_type": "text"
      },
      "source": [
        "Arithmetic operations with scalars propagate the scalar argument to each element in the array:"
      ]
    },
    {
      "cell_type": "code",
      "metadata": {
        "id": "456vsHwQ0rWx",
        "colab_type": "code",
        "outputId": "1e566fb1-eb76-4aad-93c3-57fbc62b4d72",
        "colab": {
          "base_uri": "https://localhost:8080/",
          "height": 51
        }
      },
      "source": [
        "arr ** 0.5"
      ],
      "execution_count": 0,
      "outputs": [
        {
          "output_type": "execute_result",
          "data": {
            "text/plain": [
              "array([[1.        , 1.41421356, 1.73205081, 2.        ],\n",
              "       [2.23606798, 2.44948974, 2.64575131, 2.82842712]])"
            ]
          },
          "metadata": {
            "tags": []
          },
          "execution_count": 39
        }
      ]
    },
    {
      "cell_type": "markdown",
      "metadata": {
        "id": "ur6IoKgw1aZn",
        "colab_type": "text"
      },
      "source": [
        "Array slices are views on the original array. This means that the data is not copied, and any modifications to the view will be reflected in the source array.\n",
        "As NumPy has been designed to be able to work with very large arrays, you could imagine performance and memory problems if NumPy insisted on always copying data."
      ]
    },
    {
      "cell_type": "code",
      "metadata": {
        "id": "be9Ms05I15cA",
        "colab_type": "code",
        "outputId": "44a73502-5d52-434f-a906-990979fbd286",
        "colab": {
          "base_uri": "https://localhost:8080/",
          "height": 34
        }
      },
      "source": [
        "arr[5:8].copy() #to explicitly copy"
      ],
      "execution_count": 0,
      "outputs": [
        {
          "output_type": "execute_result",
          "data": {
            "text/plain": [
              "array([12., 12., 12.])"
            ]
          },
          "metadata": {
            "tags": []
          },
          "execution_count": 45
        }
      ]
    },
    {
      "cell_type": "code",
      "metadata": {
        "id": "rT8aUX4o5Pqt",
        "colab_type": "code",
        "colab": {}
      },
      "source": [
        "arr3d = np.array([[[1, 2, 3], [4, 5, 6]], [[7, 8, 9], [10, 11, 12]]])"
      ],
      "execution_count": 0,
      "outputs": []
    },
    {
      "cell_type": "code",
      "metadata": {
        "id": "Xz__Cu7f5Va0",
        "colab_type": "code",
        "outputId": "4869e400-5280-443a-9bbc-138194bec432",
        "colab": {
          "base_uri": "https://localhost:8080/",
          "height": 34
        }
      },
      "source": [
        "arr3d[:1,1:] #1st row, 2nd column"
      ],
      "execution_count": 0,
      "outputs": [
        {
          "output_type": "execute_result",
          "data": {
            "text/plain": [
              "array([[[4, 5, 6]]])"
            ]
          },
          "metadata": {
            "tags": []
          },
          "execution_count": 50
        }
      ]
    },
    {
      "cell_type": "markdown",
      "metadata": {
        "id": "ZMEDJcVP59Z7",
        "colab_type": "text"
      },
      "source": [
        "#### Fancy indexing - revisit later"
      ]
    },
    {
      "cell_type": "code",
      "metadata": {
        "id": "GwIVobFe6L7s",
        "colab_type": "code",
        "colab": {}
      },
      "source": [
        "arr = np.empty((8, 4))"
      ],
      "execution_count": 0,
      "outputs": []
    },
    {
      "cell_type": "code",
      "metadata": {
        "id": "LxurdUQ46NFb",
        "colab_type": "code",
        "colab": {}
      },
      "source": [
        "for i in range(8):\n",
        "  arr[i] = i"
      ],
      "execution_count": 0,
      "outputs": []
    },
    {
      "cell_type": "code",
      "metadata": {
        "id": "oIB6bVCS6P-j",
        "colab_type": "code",
        "outputId": "d2623754-e3eb-47a5-ed0e-93da42f5b629",
        "colab": {
          "base_uri": "https://localhost:8080/",
          "height": 153
        }
      },
      "source": [
        "arr"
      ],
      "execution_count": 0,
      "outputs": [
        {
          "output_type": "execute_result",
          "data": {
            "text/plain": [
              "array([[0., 0., 0., 0.],\n",
              "       [1., 1., 1., 1.],\n",
              "       [2., 2., 2., 2.],\n",
              "       [3., 3., 3., 3.],\n",
              "       [4., 4., 4., 4.],\n",
              "       [5., 5., 5., 5.],\n",
              "       [6., 6., 6., 6.],\n",
              "       [7., 7., 7., 7.]])"
            ]
          },
          "metadata": {
            "tags": []
          },
          "execution_count": 53
        }
      ]
    },
    {
      "cell_type": "markdown",
      "metadata": {
        "id": "33uJM3Ya6Zss",
        "colab_type": "text"
      },
      "source": [
        "To select out a subset of the rows in a particular order, you can simply pass a list or ndarray of integers specifying the desired order:"
      ]
    },
    {
      "cell_type": "code",
      "metadata": {
        "id": "F9xjcOTg6RPP",
        "colab_type": "code",
        "outputId": "46506e53-9bfe-4d25-b3d2-ee282b43869a",
        "colab": {
          "base_uri": "https://localhost:8080/",
          "height": 85
        }
      },
      "source": [
        "arr[[2,4,5,3]]"
      ],
      "execution_count": 0,
      "outputs": [
        {
          "output_type": "execute_result",
          "data": {
            "text/plain": [
              "array([[2., 2., 2., 2.],\n",
              "       [4., 4., 4., 4.],\n",
              "       [5., 5., 5., 5.],\n",
              "       [3., 3., 3., 3.]])"
            ]
          },
          "metadata": {
            "tags": []
          },
          "execution_count": 54
        }
      ]
    },
    {
      "cell_type": "markdown",
      "metadata": {
        "id": "s7siee2r6t-x",
        "colab_type": "text"
      },
      "source": [
        "#### Reshaping"
      ]
    },
    {
      "cell_type": "code",
      "metadata": {
        "id": "qGa95Xms6tcI",
        "colab_type": "code",
        "colab": {}
      },
      "source": [
        "arr = np.arange(15).reshape((3, 5))"
      ],
      "execution_count": 0,
      "outputs": []
    },
    {
      "cell_type": "code",
      "metadata": {
        "id": "heL46Jqc6wjl",
        "colab_type": "code",
        "outputId": "0c449626-2712-4efb-bb0a-5bc30365e35b",
        "colab": {
          "base_uri": "https://localhost:8080/",
          "height": 68
        }
      },
      "source": [
        "arr"
      ],
      "execution_count": 0,
      "outputs": [
        {
          "output_type": "execute_result",
          "data": {
            "text/plain": [
              "array([[ 0,  1,  2,  3,  4],\n",
              "       [ 5,  6,  7,  8,  9],\n",
              "       [10, 11, 12, 13, 14]])"
            ]
          },
          "metadata": {
            "tags": []
          },
          "execution_count": 56
        }
      ]
    },
    {
      "cell_type": "markdown",
      "metadata": {
        "id": "JozWSmrP7Hkz",
        "colab_type": "text"
      },
      "source": [
        "#### Transpose"
      ]
    },
    {
      "cell_type": "code",
      "metadata": {
        "id": "KqVAKHDM7JAG",
        "colab_type": "code",
        "outputId": "e0e86249-9fe9-429f-e8b0-4c17c1b95631",
        "colab": {
          "base_uri": "https://localhost:8080/",
          "height": 102
        }
      },
      "source": [
        "arr.T"
      ],
      "execution_count": 0,
      "outputs": [
        {
          "output_type": "execute_result",
          "data": {
            "text/plain": [
              "array([[ 0,  5, 10],\n",
              "       [ 1,  6, 11],\n",
              "       [ 2,  7, 12],\n",
              "       [ 3,  8, 13],\n",
              "       [ 4,  9, 14]])"
            ]
          },
          "metadata": {
            "tags": []
          },
          "execution_count": 57
        }
      ]
    },
    {
      "cell_type": "markdown",
      "metadata": {
        "id": "nShBA34F7N-K",
        "colab_type": "text"
      },
      "source": [
        "#### Matrix multiplication"
      ]
    },
    {
      "cell_type": "code",
      "metadata": {
        "id": "clXaKxYI7NT1",
        "colab_type": "code",
        "outputId": "589b6fc2-6c50-4fb3-ce5a-9e8521064738",
        "colab": {
          "base_uri": "https://localhost:8080/",
          "height": 102
        }
      },
      "source": [
        "np.dot(arr.T, arr)"
      ],
      "execution_count": 0,
      "outputs": [
        {
          "output_type": "execute_result",
          "data": {
            "text/plain": [
              "array([[125, 140, 155, 170, 185],\n",
              "       [140, 158, 176, 194, 212],\n",
              "       [155, 176, 197, 218, 239],\n",
              "       [170, 194, 218, 242, 266],\n",
              "       [185, 212, 239, 266, 293]])"
            ]
          },
          "metadata": {
            "tags": []
          },
          "execution_count": 58
        }
      ]
    },
    {
      "cell_type": "markdown",
      "metadata": {
        "id": "hb7qRwRN8Dy5",
        "colab_type": "text"
      },
      "source": [
        "#### Universal Functions: Fast Element-Wise Array Functions - ufuncs"
      ]
    },
    {
      "cell_type": "code",
      "metadata": {
        "id": "jlw1UjUz8FKu",
        "colab_type": "code",
        "outputId": "58c9365e-661f-4930-b6f9-bd207b4c5cc5",
        "colab": {
          "base_uri": "https://localhost:8080/",
          "height": 68
        }
      },
      "source": [
        "arr = np.arange(10)\n",
        "np.sqrt(arr)\n",
        "np.exp(arr)"
      ],
      "execution_count": 0,
      "outputs": [
        {
          "output_type": "execute_result",
          "data": {
            "text/plain": [
              "array([1.00000000e+00, 2.71828183e+00, 7.38905610e+00, 2.00855369e+01,\n",
              "       5.45981500e+01, 1.48413159e+02, 4.03428793e+02, 1.09663316e+03,\n",
              "       2.98095799e+03, 8.10308393e+03])"
            ]
          },
          "metadata": {
            "tags": []
          },
          "execution_count": 60
        }
      ]
    },
    {
      "cell_type": "markdown",
      "metadata": {
        "id": "kZjgrmBd8QGa",
        "colab_type": "text"
      },
      "source": [
        "#### Binary ufuncs"
      ]
    },
    {
      "cell_type": "code",
      "metadata": {
        "id": "AFAlRaSY8Ryp",
        "colab_type": "code",
        "outputId": "10cc9280-8d7c-4170-d38c-4a9fe8aefcb9",
        "colab": {
          "base_uri": "https://localhost:8080/",
          "height": 34
        }
      },
      "source": [
        "np.maximum(arr, arr)"
      ],
      "execution_count": 0,
      "outputs": [
        {
          "output_type": "execute_result",
          "data": {
            "text/plain": [
              "array([0, 1, 2, 3, 4, 5, 6, 7, 8, 9])"
            ]
          },
          "metadata": {
            "tags": []
          },
          "execution_count": 62
        }
      ]
    },
    {
      "cell_type": "markdown",
      "metadata": {
        "id": "l7OIwDyS9Fgo",
        "colab_type": "text"
      },
      "source": [
        "#### File input and output with arrays\n",
        "\n",
        "np.save and np.load are the two workhorse functions for efficiently saving and loading array data on disk. Arrays are saved by default in an uncompressed raw binary format with file extension .npy"
      ]
    },
    {
      "cell_type": "code",
      "metadata": {
        "id": "sWMkgkXN9Ik7",
        "colab_type": "code",
        "colab": {}
      },
      "source": [
        "arr = np.arange(10)\n",
        "np.save('some_array', arr)"
      ],
      "execution_count": 0,
      "outputs": []
    },
    {
      "cell_type": "code",
      "metadata": {
        "id": "YZitC6iY-BCV",
        "colab_type": "code",
        "outputId": "5c06e926-3072-435b-ccaf-d01810613c40",
        "colab": {
          "base_uri": "https://localhost:8080/",
          "height": 34
        }
      },
      "source": [
        "np.load('some_array.npy')"
      ],
      "execution_count": 0,
      "outputs": [
        {
          "output_type": "execute_result",
          "data": {
            "text/plain": [
              "array([0, 1, 2, 3, 4, 5, 6, 7, 8, 9])"
            ]
          },
          "metadata": {
            "tags": []
          },
          "execution_count": 67
        }
      ]
    },
    {
      "cell_type": "markdown",
      "metadata": {
        "id": "Asvi3mLu-b4F",
        "colab_type": "text"
      },
      "source": [
        "You save multiple arrays in an uncompressed archive using np.savez and passing the arrays as keyword arguments:"
      ]
    },
    {
      "cell_type": "code",
      "metadata": {
        "id": "77GMNh7j-d-i",
        "colab_type": "code",
        "colab": {}
      },
      "source": [
        "np.savez('array_archive.npz', a=arr, b=arr)"
      ],
      "execution_count": 0,
      "outputs": []
    },
    {
      "cell_type": "markdown",
      "metadata": {
        "id": "uHcYhkQr-kEb",
        "colab_type": "text"
      },
      "source": [
        "When loading an .npz file, you get back a dict-like object that loads the individual arrays lazily:"
      ]
    },
    {
      "cell_type": "code",
      "metadata": {
        "id": "7zjZgAMn-k_P",
        "colab_type": "code",
        "outputId": "8bb3e78a-f581-448f-a047-5a005d8e2a91",
        "colab": {
          "base_uri": "https://localhost:8080/",
          "height": 34
        }
      },
      "source": [
        "arch = np.load('array_archive.npz')\n",
        "arch['b']"
      ],
      "execution_count": 0,
      "outputs": [
        {
          "output_type": "execute_result",
          "data": {
            "text/plain": [
              "array([0, 1, 2, 3, 4, 5, 6, 7, 8, 9])"
            ]
          },
          "metadata": {
            "tags": []
          },
          "execution_count": 69
        }
      ]
    },
    {
      "cell_type": "markdown",
      "metadata": {
        "id": "5iq-DR2l-qPc",
        "colab_type": "text"
      },
      "source": [
        "If your data compresses well, you may wish to use numpy.savez_compressed instead:"
      ]
    },
    {
      "cell_type": "code",
      "metadata": {
        "id": "gsKAzADO-ts6",
        "colab_type": "code",
        "colab": {}
      },
      "source": [
        "np.savez_compressed('arrays_compressed.npz', a=arr, b=arr)"
      ],
      "execution_count": 0,
      "outputs": []
    },
    {
      "cell_type": "markdown",
      "metadata": {
        "id": "sTu7nwXc005k",
        "colab_type": "text"
      },
      "source": [
        "#### Broadcasting"
      ]
    },
    {
      "cell_type": "markdown",
      "metadata": {
        "id": "7QpOlcPV1q1P",
        "colab_type": "text"
      },
      "source": [
        "As you can see, if you assign a scalar value to a slice, as in arr[5:8] = 12, the value is propagated (or broadcasted henceforth) to the entire selection."
      ]
    },
    {
      "cell_type": "code",
      "metadata": {
        "id": "s3dVW4hK1z1Z",
        "colab_type": "code",
        "colab": {}
      },
      "source": [
        ""
      ],
      "execution_count": 0,
      "outputs": []
    },
    {
      "cell_type": "code",
      "metadata": {
        "id": "k_k5Y0BP1ezL",
        "colab_type": "code",
        "outputId": "c6c36d89-7a6d-4954-9169-d3cbe4364be9",
        "colab": {
          "base_uri": "https://localhost:8080/",
          "height": 34
        }
      },
      "source": [
        "arr = np.zeros(10)\n",
        "arr[5:8] = 12\n",
        "arr"
      ],
      "execution_count": 0,
      "outputs": [
        {
          "output_type": "execute_result",
          "data": {
            "text/plain": [
              "array([ 0.,  0.,  0.,  0.,  0., 12., 12., 12.,  0.,  0.])"
            ]
          },
          "metadata": {
            "tags": []
          },
          "execution_count": 44
        }
      ]
    },
    {
      "cell_type": "markdown",
      "metadata": {
        "id": "Gy_LhYEbwByn",
        "colab_type": "text"
      },
      "source": [
        "A C API for connecting NumPy with libraries written in C, C++, or FORTRAN."
      ]
    },
    {
      "cell_type": "code",
      "metadata": {
        "id": "S9Mmzinv2oEY",
        "colab_type": "code",
        "colab": {}
      },
      "source": [
        ""
      ],
      "execution_count": 0,
      "outputs": []
    },
    {
      "cell_type": "code",
      "metadata": {
        "id": "vn4scCTt2oBb",
        "colab_type": "code",
        "colab": {}
      },
      "source": [
        ""
      ],
      "execution_count": 0,
      "outputs": []
    },
    {
      "cell_type": "markdown",
      "metadata": {
        "id": "2D8PO1E__9D1",
        "colab_type": "text"
      },
      "source": [
        "### Plotting"
      ]
    },
    {
      "cell_type": "markdown",
      "metadata": {
        "id": "D3c5_up1Bxce",
        "colab_type": "text"
      },
      "source": [
        "#### Pandas built in plots"
      ]
    },
    {
      "cell_type": "code",
      "metadata": {
        "id": "LsqkIV5BB0vc",
        "colab_type": "code",
        "colab": {}
      },
      "source": [
        "s = pd.Series(np.random.randn(10).cumsum(), index=np.arange(0, 100, 10))"
      ],
      "execution_count": 0,
      "outputs": []
    },
    {
      "cell_type": "code",
      "metadata": {
        "id": "Vlcauh8OB1vd",
        "colab_type": "code",
        "outputId": "82bcf492-5bda-465d-a773-35f9043e306b",
        "colab": {
          "base_uri": "https://localhost:8080/",
          "height": 290
        }
      },
      "source": [
        "s.plot()"
      ],
      "execution_count": 0,
      "outputs": [
        {
          "output_type": "execute_result",
          "data": {
            "text/plain": [
              "<matplotlib.axes._subplots.AxesSubplot at 0x7f281fc7d160>"
            ]
          },
          "metadata": {
            "tags": []
          },
          "execution_count": 88
        },
        {
          "output_type": "display_data",
          "data": {
            "image/png": "[encoded data removed]",
            "text/plain": [
              "<Figure size 432x288 with 1 Axes>"
            ]
          },
          "metadata": {
            "tags": []
          }
        }
      ]
    },
    {
      "cell_type": "code",
      "metadata": {
        "id": "d16NytRHCKvO",
        "colab_type": "code",
        "colab": {}
      },
      "source": [
        "df = pd.DataFrame(np.random.randn(10, 4).cumsum(0),\n",
        "                   columns=['A', 'B', 'C', 'D'],\n",
        "                   index=np.arange(0, 100, 10))"
      ],
      "execution_count": 0,
      "outputs": []
    },
    {
      "cell_type": "code",
      "metadata": {
        "id": "-c3gmBrBCN3L",
        "colab_type": "code",
        "outputId": "e54ac9d1-99a7-45af-bd3b-f3faccd95421",
        "colab": {
          "base_uri": "https://localhost:8080/",
          "height": 290
        }
      },
      "source": [
        "df.plot()"
      ],
      "execution_count": 0,
      "outputs": [
        {
          "output_type": "execute_result",
          "data": {
            "text/plain": [
              "<matplotlib.axes._subplots.AxesSubplot at 0x7f281fc09b70>"
            ]
          },
          "metadata": {
            "tags": []
          },
          "execution_count": 90
        },
        {
          "output_type": "display_data",
          "data": {
            "image/png": "[encoded data removed]",
            "text/plain": [
              "<Figure size 432x288 with 1 Axes>"
            ]
          },
          "metadata": {
            "tags": []
          }
        }
      ]
    },
    {
      "cell_type": "markdown",
      "metadata": {
        "id": "9CnbcEfjBbTf",
        "colab_type": "text"
      },
      "source": [
        "#### Matplotlib\n",
        "Matplotlib can be a fairly low-level tool. You assemble a plot from its base components: the data display (i.e., the type of plot: line, bar, box, scatter, contour, etc.), legend, title, tick labels, and other annotations."
      ]
    },
    {
      "cell_type": "code",
      "metadata": {
        "id": "_flPNCdK2n-4",
        "colab_type": "code",
        "colab": {}
      },
      "source": [
        "%matplotlib inline"
      ],
      "execution_count": 0,
      "outputs": []
    },
    {
      "cell_type": "code",
      "metadata": {
        "id": "adCtxRT-2n70",
        "colab_type": "code",
        "colab": {}
      },
      "source": [
        "import matplotlib as mpl\n",
        "import matplotlib.pyplot as plt\n",
        "import seaborn as sns"
      ],
      "execution_count": 0,
      "outputs": []
    },
    {
      "cell_type": "code",
      "metadata": {
        "id": "1dvKnNWAAhT8",
        "colab_type": "code",
        "colab": {}
      },
      "source": [
        "plt.style.use('classic')"
      ],
      "execution_count": 0,
      "outputs": []
    },
    {
      "cell_type": "code",
      "metadata": {
        "id": "omIKd1lm2n5S",
        "colab_type": "code",
        "colab": {}
      },
      "source": [
        "data = np.arange(10)"
      ],
      "execution_count": 0,
      "outputs": []
    },
    {
      "cell_type": "code",
      "metadata": {
        "id": "SAzMCfZCAKwr",
        "colab_type": "code",
        "outputId": "529ee236-0065-4b83-bde3-23d79c0dbd45",
        "colab": {
          "base_uri": "https://localhost:8080/",
          "height": 290
        }
      },
      "source": [
        "plt.plot(data)"
      ],
      "execution_count": 0,
      "outputs": [
        {
          "output_type": "execute_result",
          "data": {
            "text/plain": [
              "[<matplotlib.lines.Line2D at 0x7f281fcce908>]"
            ]
          },
          "metadata": {
            "tags": []
          },
          "execution_count": 85
        },
        {
          "output_type": "display_data",
          "data": {
            "image/png": "[encoded data removed]",
            "text/plain": [
              "<Figure size 432x288 with 1 Axes>"
            ]
          },
          "metadata": {
            "tags": []
          }
        }
      ]
    },
    {
      "cell_type": "code",
      "metadata": {
        "id": "4FVG4IIgAL2c",
        "colab_type": "code",
        "colab": {}
      },
      "source": [
        ""
      ],
      "execution_count": 0,
      "outputs": []
    },
    {
      "cell_type": "markdown",
      "metadata": {
        "id": "6YwbZqV-Bku7",
        "colab_type": "text"
      },
      "source": [
        "#### Seaborn\n",
        "Importing seaborn modifies the default matplotlib color schemes and plot styles to improve readability and aesthetics. Even if you do not use the seaborn API, you may prefer to import seaborn as a simple way to improve the visual aesthetics of general matplotlib plots."
      ]
    },
    {
      "cell_type": "code",
      "metadata": {
        "id": "08lIATSmBnLP",
        "colab_type": "code",
        "colab": {}
      },
      "source": [
        ""
      ],
      "execution_count": 0,
      "outputs": []
    }
  ]
}