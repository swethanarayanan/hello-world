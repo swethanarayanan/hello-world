{
  "nbformat": 4,
  "nbformat_minor": 0,
  "metadata": {
    "colab": {
      "name": "Hello Python.ipynb",
      "version": "0.3.2",
      "provenance": [],
      "collapsed_sections": [],
      "include_colab_link": true
    },
    "kernelspec": {
      "name": "python3",
      "display_name": "Python 3"
    }
  },
  "cells": [
    {
      "cell_type": "markdown",
      "metadata": {
        "id": "view-in-github",
        "colab_type": "text"
      },
      "source": [
        "<a href=\"https://colab.research.google.com/github/swethanarayanan/hello-world/blob/master/Hello_Python.ipynb\" target=\"_parent\"><img src=\"https://colab.research.google.com/assets/colab-badge.svg\" alt=\"Open In Colab\"/></a>"
      ]
    },
    {
      "cell_type": "markdown",
      "metadata": {
        "id": "3LQKrSgRmkQH",
        "colab_type": "text"
      },
      "source": [
        "### Main Data structures\n",
        "\n",
        "1.   List  [1,2,3] | Mutable\n",
        "\n",
        "2.   Integer, Float\n",
        "\n",
        "3.   Tuple (1,2,3) | Immutable\n",
        "\n",
        "4.  Dictionary - Key value pair, or hashmap or slang structure\n",
        "\n",
        "*   Dictionaries have a method called items that returns a sequence of tuples, where each tuple is a key-value pair\n",
        "\n",
        "5.  String\n",
        "\n",
        "6.  Pandas Dataframe \n",
        "\n",
        "7.  Matrix\n",
        "\n"
      ]
    },
    {
      "cell_type": "markdown",
      "metadata": {
        "id": "TEoVkijcsZVS",
        "colab_type": "text"
      },
      "source": [
        "### Python cool stuff\n",
        "\n",
        "\n",
        "\n",
        "1.  List comprehensions\n",
        "\n",
        "2.  Map reduce"
      ]
    },
    {
      "cell_type": "markdown",
      "metadata": {
        "id": "BklZzC5OsRHs",
        "colab_type": "text"
      },
      "source": [
        "### Other Useful stuff"
      ]
    },
    {
      "cell_type": "code",
      "metadata": {
        "id": "PIIASee7grkZ",
        "colab_type": "code",
        "outputId": "8bf52093-4158-4334-c435-4347a2d8ccc6",
        "colab": {
          "base_uri": "https://localhost:8080/",
          "height": 51
        }
      },
      "source": [
        "import sys\n",
        "print('Python: {}'.format(sys.version))"
      ],
      "execution_count": 0,
      "outputs": [
        {
          "output_type": "stream",
          "text": [
            "Python: 3.6.8 (default, Jan 14 2019, 11:02:34) \n",
            "[GCC 8.0.1 20180414 (experimental) [trunk revision 259383]]\n"
          ],
          "name": "stdout"
        }
      ]
    },
    {
      "cell_type": "markdown",
      "metadata": {
        "id": "T39obaGxneXG",
        "colab_type": "text"
      },
      "source": [
        "### List"
      ]
    },
    {
      "cell_type": "markdown",
      "metadata": {
        "id": "RslB0anbXS2v",
        "colab_type": "text"
      },
      "source": [
        "You can append two lists in python with a +"
      ]
    },
    {
      "cell_type": "code",
      "metadata": {
        "id": "ePojp8x6XXdQ",
        "colab_type": "code",
        "outputId": "40c67dd8-d6cb-4b31-c3f4-ddd963cae430",
        "colab": {
          "base_uri": "https://localhost:8080/",
          "height": 34
        }
      },
      "source": [
        "[1] + [2,3]"
      ],
      "execution_count": 0,
      "outputs": [
        {
          "output_type": "execute_result",
          "data": {
            "text/plain": [
              "[1, 2, 3]"
            ]
          },
          "metadata": {
            "tags": []
          },
          "execution_count": 1
        }
      ]
    },
    {
      "cell_type": "code",
      "metadata": {
        "id": "AoMtuAJ4XX7D",
        "colab_type": "code",
        "outputId": "0b99eff9-6e87-417e-c389-2e174010cb53",
        "colab": {
          "base_uri": "https://localhost:8080/",
          "height": 85
        }
      },
      "source": [
        "numbers = [1,2,3]\n",
        "for i in range(len(numbers)):\n",
        "    print(i)\n",
        "    numbers[i] = numbers[i] * 2\n",
        "print(numbers)"
      ],
      "execution_count": 0,
      "outputs": [
        {
          "output_type": "stream",
          "text": [
            "0\n",
            "1\n",
            "2\n",
            "[2, 4, 6]\n"
          ],
          "name": "stdout"
        }
      ]
    },
    {
      "cell_type": "code",
      "metadata": {
        "id": "VIWQKohaYlXw",
        "colab_type": "code",
        "outputId": "1c170e23-c9de-49ba-c2bf-a654c0725edb",
        "colab": {
          "base_uri": "https://localhost:8080/",
          "height": 34
        }
      },
      "source": [
        "result_list = [0] * 5\n",
        "result_list"
      ],
      "execution_count": 0,
      "outputs": [
        {
          "output_type": "execute_result",
          "data": {
            "text/plain": [
              "[0, 0, 0, 0, 0]"
            ]
          },
          "metadata": {
            "tags": []
          },
          "execution_count": 7
        }
      ]
    },
    {
      "cell_type": "code",
      "metadata": {
        "id": "bNY4fgyedfkS",
        "colab_type": "code",
        "outputId": "b72191b6-54bb-4994-be4c-397f0917a913",
        "colab": {
          "base_uri": "https://localhost:8080/",
          "height": 102
        }
      },
      "source": [
        " for i, bit in enumerate(result_list):\n",
        "    print(str(bit) + \",\" + str(i))"
      ],
      "execution_count": 0,
      "outputs": [
        {
          "output_type": "stream",
          "text": [
            "0,0\n",
            "0,1\n",
            "0,2\n",
            "0,3\n",
            "0,4\n"
          ],
          "name": "stdout"
        }
      ]
    },
    {
      "cell_type": "code",
      "metadata": {
        "id": "Fl_VxvliouSr",
        "colab_type": "code",
        "outputId": "fb2ed76f-1064-43e2-ca14-d44d5887269f",
        "colab": {
          "base_uri": "https://localhost:8080/",
          "height": 34
        }
      },
      "source": [
        "#Store all three values of the list in 3 new variables\n",
        "x= [1,2,3]\n",
        "a,b,c = x\n",
        "a"
      ],
      "execution_count": 0,
      "outputs": [
        {
          "output_type": "execute_result",
          "data": {
            "text/plain": [
              "1"
            ]
          },
          "metadata": {
            "tags": []
          },
          "execution_count": 30
        }
      ]
    },
    {
      "cell_type": "code",
      "metadata": {
        "id": "4CLS6ZYSrp6T",
        "colab_type": "code",
        "colab": {
          "base_uri": "https://localhost:8080/",
          "height": 34
        },
        "outputId": "007cb032-2f8a-4ce0-838a-087afa0ea381"
      },
      "source": [
        "x.pop() #Delete the last element from list and print it (i.e pop)"
      ],
      "execution_count": 34,
      "outputs": [
        {
          "output_type": "execute_result",
          "data": {
            "text/plain": [
              "3"
            ]
          },
          "metadata": {
            "tags": []
          },
          "execution_count": 34
        }
      ]
    },
    {
      "cell_type": "code",
      "metadata": {
        "id": "oYp0cYddrv9D",
        "colab_type": "code",
        "colab": {
          "base_uri": "https://localhost:8080/",
          "height": 34
        },
        "outputId": "77bccb96-6761-462c-bf2a-643a4418a8f0"
      },
      "source": [
        "x.append(5)\n",
        "x"
      ],
      "execution_count": 35,
      "outputs": [
        {
          "output_type": "execute_result",
          "data": {
            "text/plain": [
              "[1, 2, 5]"
            ]
          },
          "metadata": {
            "tags": []
          },
          "execution_count": 35
        }
      ]
    },
    {
      "cell_type": "markdown",
      "metadata": {
        "id": "cKsuu5-Nnh0f",
        "colab_type": "text"
      },
      "source": [
        "### Integer, Float"
      ]
    },
    {
      "cell_type": "markdown",
      "metadata": {
        "id": "9sCgBfgPgnza",
        "colab_type": "text"
      },
      "source": [
        "In Python 3, they made the / operator do a floating-point division, and added the // operator to do integer division (i.e. quotient without remainder); "
      ]
    },
    {
      "cell_type": "code",
      "metadata": {
        "id": "cICeEyeidytz",
        "colab_type": "code",
        "outputId": "d5af4aab-e40e-4c8e-9f43-0576fa08596d",
        "colab": {
          "base_uri": "https://localhost:8080/",
          "height": 34
        }
      },
      "source": [
        "4 / 3"
      ],
      "execution_count": 0,
      "outputs": [
        {
          "output_type": "execute_result",
          "data": {
            "text/plain": [
              "1.3333333333333333"
            ]
          },
          "metadata": {
            "tags": []
          },
          "execution_count": 12
        }
      ]
    },
    {
      "cell_type": "code",
      "metadata": {
        "id": "rMMTY6uLgpsU",
        "colab_type": "code",
        "outputId": "5351881d-9515-4c50-b1f9-07a9b9a1cfc6",
        "colab": {
          "base_uri": "https://localhost:8080/",
          "height": 34
        }
      },
      "source": [
        "4 // 3"
      ],
      "execution_count": 0,
      "outputs": [
        {
          "output_type": "execute_result",
          "data": {
            "text/plain": [
              "1"
            ]
          },
          "metadata": {
            "tags": []
          },
          "execution_count": 13
        }
      ]
    },
    {
      "cell_type": "markdown",
      "metadata": {
        "id": "DI63tkRnn5j4",
        "colab_type": "text"
      },
      "source": [
        "### Data frame"
      ]
    },
    {
      "cell_type": "code",
      "metadata": {
        "id": "gFTUleADlyP5",
        "colab_type": "code",
        "outputId": "6732e358-11cd-46e3-ad76-369c7b1fbc8d",
        "colab": {
          "base_uri": "https://localhost:8080/",
          "height": 170
        }
      },
      "source": [
        "import pandas as pd\n",
        "\n",
        "# Load dataset\n",
        "url = \"https://archive.ics.uci.edu/ml/machine-learning-databases/iris/iris.data\"\n",
        "names = ['sepal-length', 'sepal-width', 'petal-length', 'petal-width', 'class']\n",
        "dataset = pd.read_csv(url, names=names)\n",
        "\n",
        "# descriptions\n",
        "print(dataset.describe())"
      ],
      "execution_count": 0,
      "outputs": [
        {
          "output_type": "stream",
          "text": [
            "       sepal-length  sepal-width  petal-length  petal-width\n",
            "count    150.000000   150.000000    150.000000   150.000000\n",
            "mean       5.843333     3.054000      3.758667     1.198667\n",
            "std        0.828066     0.433594      1.764420     0.763161\n",
            "min        4.300000     2.000000      1.000000     0.100000\n",
            "25%        5.100000     2.800000      1.600000     0.300000\n",
            "50%        5.800000     3.000000      4.350000     1.300000\n",
            "75%        6.400000     3.300000      5.100000     1.800000\n",
            "max        7.900000     4.400000      6.900000     2.500000\n"
          ],
          "name": "stdout"
        }
      ]
    },
    {
      "cell_type": "code",
      "metadata": {
        "id": "VHiPcYpil4W4",
        "colab_type": "code",
        "outputId": "f6b2ab6b-bdb9-4d47-85b4-95ef2bdf316f",
        "colab": {
          "base_uri": "https://localhost:8080/",
          "height": 204
        }
      },
      "source": [
        "# Create data\n",
        "data = {'score': [1,2,3,4,5]}\n",
        "\n",
        "# Create dataframe\n",
        "df = pd.DataFrame(data)\n",
        "\n",
        "df"
      ],
      "execution_count": 0,
      "outputs": [
        {
          "output_type": "execute_result",
          "data": {
            "text/html": [
              "<div>\n",
              "<style scoped>\n",
              "    .dataframe tbody tr th:only-of-type {\n",
              "        vertical-align: middle;\n",
              "    }\n",
              "\n",
              "    .dataframe tbody tr th {\n",
              "        vertical-align: top;\n",
              "    }\n",
              "\n",
              "    .dataframe thead th {\n",
              "        text-align: right;\n",
              "    }\n",
              "</style>\n",
              "<table border=\"1\" class=\"dataframe\">\n",
              "  <thead>\n",
              "    <tr style=\"text-align: right;\">\n",
              "      <th></th>\n",
              "      <th>score</th>\n",
              "    </tr>\n",
              "  </thead>\n",
              "  <tbody>\n",
              "    <tr>\n",
              "      <th>0</th>\n",
              "      <td>1</td>\n",
              "    </tr>\n",
              "    <tr>\n",
              "      <th>1</th>\n",
              "      <td>2</td>\n",
              "    </tr>\n",
              "    <tr>\n",
              "      <th>2</th>\n",
              "      <td>3</td>\n",
              "    </tr>\n",
              "    <tr>\n",
              "      <th>3</th>\n",
              "      <td>4</td>\n",
              "    </tr>\n",
              "    <tr>\n",
              "      <th>4</th>\n",
              "      <td>5</td>\n",
              "    </tr>\n",
              "  </tbody>\n",
              "</table>\n",
              "</div>"
            ],
            "text/plain": [
              "   score\n",
              "0      1\n",
              "1      2\n",
              "2      3\n",
              "3      4\n",
              "4      5"
            ]
          },
          "metadata": {
            "tags": []
          },
          "execution_count": 19
        }
      ]
    },
    {
      "cell_type": "markdown",
      "metadata": {
        "id": "mM-Zyie9n9b8",
        "colab_type": "text"
      },
      "source": [
        "### Tuple"
      ]
    },
    {
      "cell_type": "markdown",
      "metadata": {
        "id": "_-ospZp9mQvA",
        "colab_type": "text"
      },
      "source": [
        "In python, tuples are immutable but lists are mutable"
      ]
    },
    {
      "cell_type": "code",
      "metadata": {
        "id": "SPD1n2hNmF7D",
        "colab_type": "code",
        "colab": {}
      },
      "source": [
        "t1 = ('a', 'b', 'c', 'd', 'e')\n",
        "\n",
        "t2 = (1,2)"
      ],
      "execution_count": 0,
      "outputs": []
    },
    {
      "cell_type": "markdown",
      "metadata": {
        "id": "p7L2Fj9dmZbA",
        "colab_type": "text"
      },
      "source": [
        "Cool feature, tuple assignment"
      ]
    },
    {
      "cell_type": "code",
      "metadata": {
        "id": "E5bnM8kTmbNa",
        "colab_type": "code",
        "colab": {}
      },
      "source": [
        "t1, t2 = t2, t1"
      ],
      "execution_count": 0,
      "outputs": []
    },
    {
      "cell_type": "code",
      "metadata": {
        "id": "-4Mx8R6Nmezn",
        "colab_type": "code",
        "outputId": "a6cbab5e-93ec-47cc-c054-b7c34620ff78",
        "colab": {
          "base_uri": "https://localhost:8080/",
          "height": 34
        }
      },
      "source": [
        "t2"
      ],
      "execution_count": 0,
      "outputs": [
        {
          "output_type": "execute_result",
          "data": {
            "text/plain": [
              "('a', 'b', 'c', 'd', 'e')"
            ]
          },
          "metadata": {
            "tags": []
          },
          "execution_count": 22
        }
      ]
    },
    {
      "cell_type": "markdown",
      "metadata": {
        "id": "LCjUhhL3m4v2",
        "colab_type": "text"
      },
      "source": [
        "### String manipulation"
      ]
    },
    {
      "cell_type": "code",
      "metadata": {
        "id": "k93obHA3mfiq",
        "colab_type": "code",
        "outputId": "e584f7ae-b337-44fa-d16a-b8f6642e355b",
        "colab": {
          "base_uri": "https://localhost:8080/",
          "height": 34
        }
      },
      "source": [
        "addr = 'monty@python.org'\n",
        "uname, domain = addr.split('@')\n",
        "uname"
      ],
      "execution_count": 0,
      "outputs": [
        {
          "output_type": "execute_result",
          "data": {
            "text/plain": [
              "'monty'"
            ]
          },
          "metadata": {
            "tags": []
          },
          "execution_count": 24
        }
      ]
    },
    {
      "cell_type": "code",
      "metadata": {
        "id": "ftusgPoQoYUN",
        "colab_type": "code",
        "outputId": "04c3d539-1263-451d-d42f-bb76ae5ff5f5",
        "colab": {
          "base_uri": "https://localhost:8080/",
          "height": 34
        }
      },
      "source": [
        "  #Reverse a string\n",
        "  a =  \"codementor\"\n",
        "  print(a[::-1])"
      ],
      "execution_count": 0,
      "outputs": [
        {
          "output_type": "stream",
          "text": [
            "rotnemedoc\n"
          ],
          "name": "stdout"
        }
      ]
    },
    {
      "cell_type": "code",
      "metadata": {
        "id": "cZF5PxQBo6CY",
        "colab_type": "code",
        "outputId": "ef99bb8b-2847-44ed-a9ab-cb091b5912a7",
        "colab": {
          "base_uri": "https://localhost:8080/",
          "height": 34
        }
      },
      "source": [
        "#Create a single string from all the elements in list above.\n",
        "a = [\"Code\", \"mentor\", \"Python\", \"Developer\"]\n",
        "print(\" \".join(a))"
      ],
      "execution_count": 0,
      "outputs": [
        {
          "output_type": "stream",
          "text": [
            "Code mentor Python Developer\n"
          ],
          "name": "stdout"
        }
      ]
    },
    {
      "cell_type": "code",
      "metadata": {
        "id": "LZp82Tboo9UE",
        "colab_type": "code",
        "outputId": "baeda0bf-200d-42b2-80f1-5ebd7680172c",
        "colab": {
          "base_uri": "https://localhost:8080/",
          "height": 34
        }
      },
      "source": [
        "print(\"code\"*4+' '+\"mentor\"*5)"
      ],
      "execution_count": 0,
      "outputs": [
        {
          "output_type": "stream",
          "text": [
            "codecodecodecode mentormentormentormentormentor\n"
          ],
          "name": "stdout"
        }
      ]
    },
    {
      "cell_type": "markdown",
      "metadata": {
        "id": "Mm1JJqzVnSpS",
        "colab_type": "text"
      },
      "source": [
        "### Dictionary"
      ]
    },
    {
      "cell_type": "code",
      "metadata": {
        "id": "dLcPRO2mm912",
        "colab_type": "code",
        "outputId": "b40f1e65-a6ed-4187-acdc-9da6c7a23378",
        "colab": {
          "base_uri": "https://localhost:8080/",
          "height": 34
        }
      },
      "source": [
        "d = {'a':0, 'b':1, 'c':2}\n",
        "t = d.items()\n",
        "t"
      ],
      "execution_count": 0,
      "outputs": [
        {
          "output_type": "execute_result",
          "data": {
            "text/plain": [
              "dict_items([('a', 0), ('b', 1), ('c', 2)])"
            ]
          },
          "metadata": {
            "tags": []
          },
          "execution_count": 25
        }
      ]
    },
    {
      "cell_type": "markdown",
      "metadata": {
        "id": "S1SA4HYGokbk",
        "colab_type": "text"
      },
      "source": [
        "### Matrix"
      ]
    },
    {
      "cell_type": "code",
      "metadata": {
        "id": "hLu9dvVGolaL",
        "colab_type": "code",
        "outputId": "c7363dd1-72f9-43fb-e00d-21b3128b5387",
        "colab": {
          "base_uri": "https://localhost:8080/",
          "height": 68
        }
      },
      "source": [
        "#transpose a matrix\n",
        "mat = [[1, 2, 3], [4, 5, 6]]\n",
        "mat_t = zip(*mat)\n",
        "# or mat_t = rez = [[m[j][i] for j in range(len(m))] for i in range(len(m[0]))] \n",
        "for row in mat_t: \n",
        "    print(row) "
      ],
      "execution_count": 0,
      "outputs": [
        {
          "output_type": "stream",
          "text": [
            "(1, 4)\n",
            "(2, 5)\n",
            "(3, 6)\n"
          ],
          "name": "stdout"
        }
      ]
    },
    {
      "cell_type": "markdown",
      "metadata": {
        "id": "JZKdNKKesdQT",
        "colab_type": "text"
      },
      "source": [
        "### List comprehensions"
      ]
    },
    {
      "cell_type": "code",
      "metadata": {
        "id": "Walim5KssexC",
        "colab_type": "code",
        "colab": {}
      },
      "source": [
        "def list_double_when_greater_then_five(list):\n",
        "  return [num*2 for num in list if num > 5]"
      ],
      "execution_count": 0,
      "outputs": []
    },
    {
      "cell_type": "code",
      "metadata": {
        "id": "nSJoRTGasn-P",
        "colab_type": "code",
        "colab": {
          "base_uri": "https://localhost:8080/",
          "height": 34
        },
        "outputId": "9993cef0-6dd4-49bc-a6bc-877ee46281d3"
      },
      "source": [
        "list_double_when_greater_then_five([1,2,3,4,5,6,7])"
      ],
      "execution_count": 40,
      "outputs": [
        {
          "output_type": "execute_result",
          "data": {
            "text/plain": [
              "[12, 14]"
            ]
          },
          "metadata": {
            "tags": []
          },
          "execution_count": 40
        }
      ]
    },
    {
      "cell_type": "markdown",
      "metadata": {
        "id": "KGmSOhBatCTS",
        "colab_type": "text"
      },
      "source": [
        "### Map reduce"
      ]
    },
    {
      "cell_type": "code",
      "metadata": {
        "id": "FVaZX6EztDTl",
        "colab_type": "code",
        "colab": {}
      },
      "source": [
        "arr = map(lambda x : 2*x, [1,2,3,4,5])"
      ],
      "execution_count": 0,
      "outputs": []
    },
    {
      "cell_type": "code",
      "metadata": {
        "id": "sYotiW_OtI-J",
        "colab_type": "code",
        "colab": {
          "base_uri": "https://localhost:8080/",
          "height": 34
        },
        "outputId": "f2e4a18e-6e5b-4a0d-cdcf-abfb89b5eb6a"
      },
      "source": [
        "from functools import reduce\n",
        "reduce(lambda x,y : x+ y, arr)"
      ],
      "execution_count": 44,
      "outputs": [
        {
          "output_type": "execute_result",
          "data": {
            "text/plain": [
              "30"
            ]
          },
          "metadata": {
            "tags": []
          },
          "execution_count": 44
        }
      ]
    },
    {
      "cell_type": "code",
      "metadata": {
        "id": "ldSa2q9ktJpo",
        "colab_type": "code",
        "colab": {}
      },
      "source": [
        ""
      ],
      "execution_count": 0,
      "outputs": []
    }
  ]
}